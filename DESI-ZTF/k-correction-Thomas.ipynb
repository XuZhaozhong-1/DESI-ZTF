{
 "cells": [
  {
   "cell_type": "code",
   "execution_count": 1,
   "id": "134001d5-ad96-4904-9ba1-f636496bbf15",
   "metadata": {
    "tags": []
   },
   "outputs": [],
   "source": [
    "import os\n",
    "from glob import glob\n",
    "import numpy as np\n",
    "import fitsio\n",
    "from scipy.ndimage import gaussian_filter1d\n",
    "from matplotlib import pyplot as plt\n",
    "from time import time\n",
    "from astropy.io import fits\n",
    "import pandas as pd\n",
    "from astropy.cosmology import Planck18\n",
    "from tqdm import tqdm\n",
    "from astropy.table import Table\n",
    "from multiprocessing import Pool\n",
    "import matplotlib as mpl\n",
    "from scipy import integrate"
   ]
  },
  {
   "cell_type": "code",
   "execution_count": 2,
   "id": "f7489ee3-5269-4ad1-a1c4-b82a60ed9d4f",
   "metadata": {
    "tags": []
   },
   "outputs": [],
   "source": [
    "zeropoint = fits.open('/pscratch/sd/z/zhaozhon/zero-point/bd_17d4708_stisnic_007.fits')\n",
    "calib_ws = zeropoint[1].data['WAVELENGTH']\n",
    "calib_fs = zeropoint[1].data['flux']"
   ]
  },
  {
   "cell_type": "code",
   "execution_count": 3,
   "id": "10757181-eb0e-4e41-b7e1-1ed6eec0aea7",
   "metadata": {},
   "outputs": [],
   "source": [
    "file = '/pscratch/sd/z/zhaozhon/desi-ztf-qso-iron-pernight-summary.fits'\n",
    "files_open = fits.open(file)"
   ]
  },
  {
   "cell_type": "code",
   "execution_count": 4,
   "id": "71d6deaf-8ff2-451b-ac89-5e66200a523b",
   "metadata": {},
   "outputs": [],
   "source": [
    "# function to read the data\n",
    "def read_data(zmin, zmax, ramin, ramax, decmin, decmax, band, magmin, magmax):\n",
    "\n",
    "    # read data\n",
    "    #fn = \"/pscratch/sd/z/zhaozhon/DATASET/DESI-data/new_d.fits\"\n",
    "    #========================\n",
    "    #fn = \"/global/cfs/cdirs/desi/survey/catalogs/Y1/QSO/iron/QSO_cat_iron_main_dark_healpix_only_qso_targets_v0.fits\"\n",
    "    fn = '/pscratch/sd/z/zhaozhon/desi-ztf-qso-iron-pernight-summary.fits'\n",
    "    targetid_Thomas = pd.read_csv('/pscratch/sd/z/zhaozhon/latent_targetids.csv')\n",
    "    \n",
    "    d = Table(fitsio.read(fn))\n",
    "    d = Table(fitsio.read(file, \"FIBERMAP\"))\n",
    "    hpxd = Table(fitsio.read(file, \"HPXMASTER\"))\n",
    "    assert np.all(d[\"TARGETID\"] == hpxd[\"TARGETID\"])\n",
    "    for key in hpxd.colnames:\n",
    "        if key not in d.colnames:\n",
    "            d[key] = hpxd[key]\n",
    "    d[\"APP_MAG_G\"] = 22.5 - 2.5 * np.log10(d[\"FLUX_G\"]) - 3.214 * d[\"EBV\"]\n",
    "    d[\"APP_MAG_R\"] = 22.5 - 2.5 * np.log10(d[\"FLUX_R\"]) - 1.265 * d[\"EBV\"]\n",
    "    d[\"APP_MAGERR_G\"] = 2.5 / np.log(10) / (d[\"FLUX_G\"] * np.sqrt(d[\"FLUX_IVAR_G\"]))\n",
    "    d[\"APP_MAGERR_R\"] = 2.5 / np.log(10) / (d[\"FLUX_R\"] * np.sqrt(d[\"FLUX_IVAR_R\"]))\n",
    "    #========================\n",
    "    \"\"\"\n",
    "    assert (zmin >= 2.3) & (zmin <= 2.8)\n",
    "    assert (zmax >= 2.3) & (zmax <= 2.8)\n",
    "    sel = (d[\"Z\"] > zmin) & (d[\"Z\"] < zmax)\n",
    "    d = d[sel]\n",
    "    fn = \"/pscratch/sd/z/zhaozhon/DATASET/DESI-data/k.csv\"\n",
    "    k = Table.read(fn, format=\"csv\")\n",
    "    # hopefully, d and k should be row-matched here...\n",
    "    assert len(d) == len(k)\n",
    "    d[\"K_CORR_G\"], d[\"K_CORR_R\"] = k[\"k_gg\"], k[\"k_rr\"]\n",
    "    print(\"read {} rows in 2.3 < z < 2.8\".format(len(d)))\n",
    "    \"\"\"\n",
    "\n",
    "    # remove duplicates\n",
    "    _, ii = np.unique(d[\"TARGETID\"], return_index=True)\n",
    "    d = d[ii]\n",
    "    print(\"keep {} rows after removing duplicates\".format(len(d)))\n",
    "\n",
    "    # Find common targetids\n",
    "    common_targetids = np.intersect1d(d[\"TARGETID\"], targetid_Thomas[\"targetid\"].unique())\n",
    "    print(f\"Found {len(common_targetids)} common TARGETIDs between the FITS and CSV files.\")\n",
    "    d = d[np.isin(d[\"TARGETID\"], common_targetids)]\n",
    "    \n",
    "    # make selection on z, radec, magnitude\n",
    "    sel = np.ones(len(d), dtype=bool)\n",
    "    #sel &= (np.isfinite(d[\"K_CORR_{}\".format(band)])) & (np.isfinite(d[\"K_CORR_{}\".format(band)]))\n",
    "    #print(\"keep {} rows after cutting on finite K_CORR_{}\".format(sel.sum(), band))\n",
    "    sel &= (d[\"Z\"] > zmin) & (d[\"Z\"] < zmax)\n",
    "    print(\"keep {} rows after cutting on {} < z < {}\".format(sel.sum(), zmin, zmax))\n",
    "    sel &= (d[\"TARGET_RA\"] > ramin) & (d[\"TARGET_RA\"] < ramax)\n",
    "    sel &= (d[\"TARGET_DEC\"] > decmin) & (d[\"TARGET_DEC\"] < decmax)\n",
    "    print(\"keep {} rows after cutting on {} < ra < {}, {} < dec < {}\".format(sel.sum(), ramin, ramax, decmin, decmax))\n",
    "    sel &= (d[\"APP_MAG_{}\".format(band)] > magmin) & (d[\"APP_MAG_{}\".format(band)] < magmax)\n",
    "    print(\"keep {} rows after cutting on {} < mag_{} < {}\".format(sel.sum(), magmin, band.lower(), magmax))\n",
    "    d = d[sel]\n",
    "    \n",
    "    # comoving distance\n",
    "    d[\"MU\"] = Planck18.distmod(d[\"Z\"]).value\n",
    "\n",
    "    return d"
   ]
  },
  {
   "cell_type": "code",
   "execution_count": 5,
   "id": "b6994e95-ffbd-4410-b262-6b1c387c2f4b",
   "metadata": {
    "tags": []
   },
   "outputs": [
    {
     "name": "stderr",
     "output_type": "stream",
     "text": [
      "/tmp/ipykernel_84503/2733882042.py:20: RuntimeWarning: divide by zero encountered in true_divide\n",
      "  d[\"APP_MAGERR_G\"] = 2.5 / np.log(10) / (d[\"FLUX_G\"] * np.sqrt(d[\"FLUX_IVAR_G\"]))\n",
      "/tmp/ipykernel_84503/2733882042.py:21: RuntimeWarning: divide by zero encountered in true_divide\n",
      "  d[\"APP_MAGERR_R\"] = 2.5 / np.log(10) / (d[\"FLUX_R\"] * np.sqrt(d[\"FLUX_IVAR_R\"]))\n"
     ]
    },
    {
     "name": "stdout",
     "output_type": "stream",
     "text": [
      "keep 1237825 rows after removing duplicates\n",
      "Found 16345 common TARGETIDs between the FITS and CSV files.\n",
      "keep 7017 rows after cutting on 2.3 < z < 2.8\n",
      "keep 7017 rows after cutting on 0.0 < ra < 360.0, -90.0 < dec < 90.0\n",
      "keep 6906 rows after cutting on 18.0 < mag_r < 23.0\n"
     ]
    },
    {
     "data": {
      "text/plain": [
       "'\\nd = Table(fitsio.read(file, \"FIBERMAP\"))\\n\\nhpxd = Table(fitsio.read(file, \"HPXMASTER\"))\\nassert np.all(d[\"TARGETID\"] == hpxd[\"TARGETID\"])\\nfor key in hpxd.colnames:\\n    if key not in d.colnames:\\n        d[key] = hpxd[key]\\n\\nprint(d.colnames)\\nsel = (d[\"EFFTIME_SPEC\"] > 800) & (d[\"EFFTIME_SPEC\"] < 1200)\\nsel &= d[\"COADD_FIBERSTATUS\"] == 0\\nsel &= (d[\"FLUX_G\"] > 0) & (d[\"FLUX_R\"] > 0)\\nsel &= (d[\"FLUX_IVAR_G\"] > 0) & (d[\"FLUX_IVAR_R\"] > 0)\\nd = d[sel]\\n'"
      ]
     },
     "execution_count": 5,
     "metadata": {},
     "output_type": "execute_result"
    }
   ],
   "source": [
    "# settings\n",
    "\n",
    "zmin, zmax = 2.3, 2.8\n",
    "#zmin, zmax = 2.0, 3.0\n",
    "ramin, ramax, decmin, decmax, frac_area = 0., 360., -90., 90., 0.16\n",
    "#ramin, ramax, decmin, decmax, frac_area = 140., 220., -3., 4., 0.014\n",
    "band, magmin, magmax = \"R\", 18., 23.\n",
    "#band, magmin, magmax = \"G\", 18., 24.\n",
    "\n",
    "skyarea = 4 * np.pi * (180 / np.pi) ** 2 # 41253 deg2\n",
    "d = read_data(zmin, zmax, ramin, ramax, decmin, decmax, band, magmin, magmax)\n",
    "\n",
    "'''\n",
    "d = Table(fitsio.read(file, \"FIBERMAP\"))\n",
    "\n",
    "hpxd = Table(fitsio.read(file, \"HPXMASTER\"))\n",
    "assert np.all(d[\"TARGETID\"] == hpxd[\"TARGETID\"])\n",
    "for key in hpxd.colnames:\n",
    "    if key not in d.colnames:\n",
    "        d[key] = hpxd[key]\n",
    "\n",
    "print(d.colnames)\n",
    "sel = (d[\"EFFTIME_SPEC\"] > 800) & (d[\"EFFTIME_SPEC\"] < 1200)\n",
    "sel &= d[\"COADD_FIBERSTATUS\"] == 0\n",
    "sel &= (d[\"FLUX_G\"] > 0) & (d[\"FLUX_R\"] > 0)\n",
    "sel &= (d[\"FLUX_IVAR_G\"] > 0) & (d[\"FLUX_IVAR_R\"] > 0)\n",
    "d = d[sel]\n",
    "'''"
   ]
  },
  {
   "cell_type": "code",
   "execution_count": 6,
   "id": "95eba4f3-8ba6-4553-a332-679bdd49b869",
   "metadata": {},
   "outputs": [
    {
     "name": "stdout",
     "output_type": "stream",
     "text": [
      "['TARGETID', 'PETAL_LOC', 'DEVICE_LOC', 'LOCATION', 'FIBER', 'COADD_FIBERSTATUS', 'TARGET_RA', 'TARGET_DEC', 'PMRA', 'PMDEC', 'REF_EPOCH', 'LAMBDA_REF', 'FA_TARGET', 'FA_TYPE', 'OBJTYPE', 'FIBERASSIGN_X', 'FIBERASSIGN_Y', 'PRIORITY', 'SUBPRIORITY', 'OBSCONDITIONS', 'RELEASE', 'BRICKNAME', 'BRICKID', 'BRICK_OBJID', 'MORPHTYPE', 'EBV', 'FLUX_G', 'FLUX_R', 'FLUX_Z', 'FLUX_W1', 'FLUX_W2', 'FLUX_IVAR_G', 'FLUX_IVAR_R', 'FLUX_IVAR_Z', 'FLUX_IVAR_W1', 'FLUX_IVAR_W2', 'FIBERFLUX_G', 'FIBERFLUX_R', 'FIBERFLUX_Z', 'FIBERTOTFLUX_G', 'FIBERTOTFLUX_R', 'FIBERTOTFLUX_Z', 'MASKBITS', 'SERSIC', 'SHAPE_R', 'SHAPE_E1', 'SHAPE_E2', 'REF_ID', 'REF_CAT', 'GAIA_PHOT_G_MEAN_MAG', 'GAIA_PHOT_BP_MEAN_MAG', 'GAIA_PHOT_RP_MEAN_MAG', 'PARALLAX', 'PHOTSYS', 'PRIORITY_INIT', 'NUMOBS_INIT', 'DESI_TARGET', 'BGS_TARGET', 'MWS_TARGET', 'SCND_TARGET', 'PLATE_RA', 'PLATE_DEC', 'TILEID', 'COADD_NUMEXP', 'COADD_EXPTIME', 'COADD_NUMNIGHT', 'COADD_NUMTILE', 'MEAN_DELTA_X', 'RMS_DELTA_X', 'MEAN_DELTA_Y', 'RMS_DELTA_Y', 'MEAN_FIBER_RA', 'STD_FIBER_RA', 'MEAN_FIBER_DEC', 'STD_FIBER_DEC', 'MEAN_PSF_TO_FIBER_SPECFLUX', 'MEAN_FIBER_X', 'MEAN_FIBER_Y', 'NIGHT', 'COADDFN', 'MEDIAN_COADD_SNR_BRZ', 'EFFTIME_SPEC', 'Z', 'ZERR', 'ZWARN', 'SPECTYPE', 'MW_TRANSMISSION_G', 'MW_TRANSMISSION_R', 'MW_TRANSMISSION_Z', 'MW_TRANSMISSION_W1', 'MW_TRANSMISSION_W2', 'PROBA_RF', 'CMX_TARGET', 'SV1_DESI_TARGET', 'SV2_DESI_TARGET', 'SV3_DESI_TARGET', 'SV1_SCND_TARGET', 'SV2_SCND_TARGET', 'SV3_SCND_TARGET', 'TSNR2_LYA', 'TSNR2_QSO', 'DELTA_CHI2_MGII', 'A_MGII', 'SIGMA_MGII', 'B_MGII', 'VAR_A_MGII', 'VAR_SIGMA_MGII', 'VAR_B_MGII', 'Z_RR', 'Z_QN', 'C_LYA', 'C_CIV', 'C_CIII', 'C_MgII', 'C_Hbeta', 'C_Halpha', 'Z_LYA', 'Z_CIV', 'Z_CIII', 'Z_MgII', 'Z_Hbeta', 'Z_Halpha', 'QSO_MASKBITS', 'HPXPIXEL', 'SURVEY', 'PROGRAM', 'TSNR2_ELG', 'TSNR2_LRG', 'COADD_FIRSTNIGHT', 'COADD_FIRSTMJD', 'COADD_LASTNIGHT', 'COADD_LASTMJD', 'COADD_MEANMJD', 'APP_MAG_G', 'APP_MAG_R', 'APP_MAGERR_G', 'APP_MAGERR_R', 'MU']\n"
     ]
    }
   ],
   "source": [
    "print(d.colnames)"
   ]
  },
  {
   "cell_type": "code",
   "execution_count": 7,
   "id": "476c2a74-5454-45b8-86ed-80300085d48f",
   "metadata": {
    "tags": []
   },
   "outputs": [
    {
     "data": {
      "text/plain": [
       "'\\nd[\"APP_MAG_G\"] = 22.5 - 2.5 * np.log10(d[\"FLUX_G\"]) - 3.214 * d[\"EBV\"]\\nd[\"APP_MAG_R\"] = 22.5 - 2.5 * np.log10(d[\"FLUX_R\"]) - 2.165 * d[\"EBV\"]\\nd[\"APP_MAGERR_G\"] = 2.5 / np.log(10) / (d[\"FLUX_G\"] * np.sqrt(d[\"FLUX_IVAR_G\"]))\\nd[\"APP_MAGERR_R\"] = 2.5 / np.log(10) / (d[\"FLUX_R\"] * np.sqrt(d[\"FLUX_IVAR_R\"]))\\n'"
      ]
     },
     "execution_count": 7,
     "metadata": {},
     "output_type": "execute_result"
    }
   ],
   "source": [
    "'''\n",
    "d[\"APP_MAG_G\"] = 22.5 - 2.5 * np.log10(d[\"FLUX_G\"]) - 3.214 * d[\"EBV\"]\n",
    "d[\"APP_MAG_R\"] = 22.5 - 2.5 * np.log10(d[\"FLUX_R\"]) - 2.165 * d[\"EBV\"]\n",
    "d[\"APP_MAGERR_G\"] = 2.5 / np.log(10) / (d[\"FLUX_G\"] * np.sqrt(d[\"FLUX_IVAR_G\"]))\n",
    "d[\"APP_MAGERR_R\"] = 2.5 / np.log(10) / (d[\"FLUX_R\"] * np.sqrt(d[\"FLUX_IVAR_R\"]))\n",
    "'''"
   ]
  },
  {
   "cell_type": "code",
   "execution_count": 8,
   "id": "173e80d3-5b47-443c-93c3-67c859baf11b",
   "metadata": {
    "tags": []
   },
   "outputs": [
    {
     "name": "stdout",
     "output_type": "stream",
     "text": [
      "(6906,)\n"
     ]
    }
   ],
   "source": [
    "print(d['Z'].shape)"
   ]
  },
  {
   "cell_type": "code",
   "execution_count": 9,
   "id": "58a26a38-643d-47b8-a8b2-09b5f69d7b1f",
   "metadata": {
    "tags": []
   },
   "outputs": [],
   "source": [
    "DECam_g = np.loadtxt('/pscratch/sd/r/raichoor/desi-ztf-qso/decam-filters/CTIO_DECam.g.dat')\n",
    "ws_g = DECam_g[:,0]\n",
    "bp_g = DECam_g[:,1]\n",
    "DECam_r = np.loadtxt('/pscratch/sd/r/raichoor/desi-ztf-qso/decam-filters/CTIO_DECam.r.dat')\n",
    "ws_r = DECam_r[:,0]\n",
    "bp_r = DECam_r[:,1]"
   ]
  },
  {
   "cell_type": "code",
   "execution_count": 10,
   "id": "cd33d706-c05d-4f79-8d0b-9cc74de75fb7",
   "metadata": {},
   "outputs": [
    {
     "data": {
      "text/plain": [
       "'\\ndef k_correction(targetid,ws, fs, ws_bp, bp, z0, z, calib_ws=None, calib_fs=None):\\n    \"\"\"\\n    Compute the k-correction [add details]\\n    \\n    Args:\\n        ws: observed spectrum wavelengths in A (1d np.array())\\n        fs: observed spectrum flux in 1e-17 * erg/s/cm2/A (1d np.array())\\n        ws_bp: filter wavelengths in A (np.array())\\n        bp: filter response (np.array())\\n        z0: \"central\" redshift we are k-correcting to (float)\\n        z: spectrum redshift (float)\\n        calib_ws (optional, defaults to None): BD +174708 star wavelengths in A  (1d np.array())\\n        calib_fs (optional, defaults to None): BD +174708 star flux in some units..  (1d np.array())\\n    \\n    Returns:\\n        k: the k-correction value (float)\\n        \\n    Notes:\\n        See Appendix A of https://www.overleaf.com/project/655677d0ea85cf39fc55c558\\n    \"\"\"\\n\\n    # rest-frame wavelengths\\n    # desi spectra are at 0.8A resolution\\n    # z approx. is in [2, 4]\\n    # in rest-frame at z=4, dw_obs=0.8A corresponds to dw_rf=0.16A\\n    # => we pick a 0.1A sampling\\n    rf_ws = np.arange(ws_bp[0] / (1 + z0), ws_bp[-1] / (1 + z0) + 0.1, 0.1)\\n\\n    # for the filter response, we redshift to z0\\n    obs0_bp = np.interp((1 + z0) * rf_ws, ws_bp, bp)\\n\\n    # compute the numerator term\\n    interp_fs = np.interp((1 + z) * rf_ws, ws, fs)\\n    num_integrand = rf_ws * obs0_bp * interp_fs\\n    num = np.trapz(num_integrand, x=rf_ws)\\n\\n    # compute the denominator term\\n    ro_ws = (1 + z0) * rf_ws #observed frame wavelengths\\n    interp_fs = np.interp(ro_ws,ws,fs)\\n    denom_integrand = ro_ws*obs0_bp*interp_fs\\n    denom = np.trapz(denom_integrand, ro_ws)\\n\\n    # k-correction\\n    k = 2.5 * np.log10(1 + z)\\n    k += 2.5 * np.log10(num / denom)\\n\\n    # compute ZTF zp correction?\\n    if calib_ws is not None:\\n\\n        # Zx term\\n        interp_calib_fs = np.interp(rf_ws, calib_ws, calib_fs)\\n        Zx_integrand = rf_ws * obs0_bp * interp_calib_fs\\n        Zx = np.trapz(Zx_integrand, x=rf_ws)\\n\\n        # Zy term\\n        interp_calib_fs = np.interp(ws_bp, calib_ws, calib_fs)\\n        Zy_integrand = ws_bp * bp * interp_calib_fs\\n        Zy = np.trapz(Zy_integrand, x=ws_bp)\\n        # apply [note: in the paper, there s no 2.5*log10()..]\\n        k -= 2.5 * np.log10(Zx / Zy)\\n    \\n    return k\\n'"
      ]
     },
     "execution_count": 10,
     "metadata": {},
     "output_type": "execute_result"
    }
   ],
   "source": [
    "ardir = os.path.join(os.getenv(\"PSCRATCH\", \"/pscratch/sd/z/zhaozhon\"))#\n",
    "def get_ws(ardir):\n",
    "    fn = sorted(\n",
    "        glob(os.path.join(ardir, \"pernight-spectra\",\"desi-ztf-qso-iron-*-*.fits\"))\n",
    "    )[0]\n",
    "    ws = fitsio.read(fn, \"BRZ_WAVE\")\n",
    "    return ws\n",
    "def get_tid_tileids_nights(tid, all_tids, all_tileids, all_nights):\n",
    "    sel = all_tids == tid\n",
    "    return all_tileids[sel], all_nights[sel]\n",
    "def get_indiv_spectra(tid, tileids, nights, ardir, nwave):\n",
    "\n",
    "    nobs = len(tileids)\n",
    "\n",
    "    # read the spectra\n",
    "    fs = np.zeros((nobs, nwave))  # flux\n",
    "    ivs = np.zeros((nobs, nwave))  # inverse variance\n",
    "\n",
    "    # loop on (tileids, nights)\n",
    "    for i, (tileid, night) in enumerate(zip(tileids, nights)):\n",
    "\n",
    "        fn = os.path.join(\n",
    "            ardir,\"pernight-spectra\",\n",
    "            \"desi-ztf-qso-iron-{}-{}.fits\".format(tileid, night),\n",
    "        )\n",
    "\n",
    "        # first get the row corresponding to TARGETID\n",
    "        # (for a given TILEID, a TARGETID can appear only once max.)\n",
    "        tmp_fm = fitsio.read(fn, \"FIBERMAP\", columns=[\"TARGETID\"])\n",
    "        tmp_i = np.where(tmp_fm[\"TARGETID\"] == tid)[0][0]\n",
    "\n",
    "        # now read the flux, ivar only for that row\n",
    "\n",
    "        # this is more intuitive, but it loads the whole image first,\n",
    "        #   then extracts the relevant row, so it s ~slow\n",
    "        # fs[i, :] = fitsio.read(fn, \"BRZ_FLUX\")[tmp_i, :]\n",
    "        # ivs[i, :] = fitsio.read(fn, \"BRZ_IVAR\")[tmp_i, :]\n",
    "\n",
    "        # this way is *much* faster, with reading only the relevant row\n",
    "        #   note: fitsio wants/works with a slice, not an integer...\n",
    "        h = fitsio.FITS(fn)\n",
    "        tmp_slice = slice(tmp_i, tmp_i + 1, 1)\n",
    "        fs[i, :] = h[\"BRZ_FLUX\"][tmp_slice, :]\n",
    "        ivs[i, :] = h[\"BRZ_IVAR\"][tmp_slice, :]\n",
    "\n",
    "    return fs, ivs\n",
    "def k_correction(targetid,ws, fs, ws_bp, bp, z0, z, calib_ws=None, calib_fs=None):\n",
    "    \"\"\"\n",
    "    Compute the k-correction [add details]\n",
    "    \n",
    "    Args:\n",
    "        ws: observed spectrum wavelengths in A (1d np.array())\n",
    "        fs: observed spectrum flux in 1e-17 * erg/s/cm2/A (1d np.array())\n",
    "        ws_bp: filter wavelengths in A (np.array())\n",
    "        bp: filter response (np.array())\n",
    "        z0: \"central\" redshift we are k-correcting to (float)\n",
    "        z: spectrum redshift (float)\n",
    "        calib_ws (optional, defaults to None): BD +174708 star wavelengths in A  (1d np.array())\n",
    "        calib_fs (optional, defaults to None): BD +174708 star flux in some units..  (1d np.array())\n",
    "    \n",
    "    Returns:\n",
    "        k: the k-correction value (float)\n",
    "        \n",
    "    Notes:\n",
    "        See Appendix A of https://www.overleaf.com/project/655677d0ea85cf39fc55c558\n",
    "    \"\"\"\n",
    "\n",
    "    # rest-frame wavelengths\n",
    "    # desi spectra are at 0.8A resolution\n",
    "    # z approx. is in [2, 4]\n",
    "    # in rest-frame at z=4, dw_obs=0.8A corresponds to dw_rf=0.16A\n",
    "    # => we pick a 0.1A sampling\n",
    "    # for the filter response, we redshift to z0\n",
    "    ro_ws = np.arange(ws_bp[0], ws_bp[-1] + 0.1, 0.01) #observed frame wavelengths\n",
    "    obs0_bp = np.interp(ro_ws, ws_bp, bp)\n",
    "\n",
    "    # compute the numerator term\n",
    "    rf_ws = np.linspace(1600*(1+z0), 1850*(1+z0), ro_ws.shape[0])\n",
    "    rf_bp = obs0_bp\n",
    "    interp_fs = np.interp((1 + z)/(1+z0) * rf_ws, ws, fs)\n",
    "    num_integrand = rf_ws * rf_bp * interp_fs\n",
    "    num = np.trapz(num_integrand, x=rf_ws)\n",
    "\n",
    "    # compute the denominator term\n",
    "    interp_fs = np.interp(ro_ws,ws,fs)\n",
    "    denom_integrand = ro_ws*obs0_bp*interp_fs\n",
    "    denom = np.trapz(denom_integrand, ro_ws)\n",
    "\n",
    "    # k-correction\n",
    "    k = 2.5 * np.log10((1 + z)/(1+z0))\n",
    "    k += 2.5 * np.log10(num / denom)\n",
    "\n",
    "    # compute ZTF zp correction?\n",
    "    if calib_ws is not None:\n",
    "\n",
    "        # Zx term\n",
    "        interp_calib_fs = np.interp(rf_ws, calib_ws, calib_fs)\n",
    "        Zx_integrand = rf_ws * obs0_bp * interp_calib_fs\n",
    "        Zx = np.trapz(Zx_integrand, x=rf_ws)\n",
    "\n",
    "        # Zy term\n",
    "        interp_calib_fs = np.interp(ro_ws, calib_ws, calib_fs)\n",
    "        Zy_integrand = ro_ws * obs0_bp * interp_calib_fs\n",
    "        Zy = np.trapz(Zy_integrand, x=ro_ws)\n",
    "        # apply [note: in the paper, there s no 2.5*log10()..]\n",
    "        k -= 2.5 * np.log10(Zx / Zy)\n",
    "    \n",
    "    return k\n",
    "'''\n",
    "def k_correction(targetid,ws, fs, ws_bp, bp, z0, z, calib_ws=None, calib_fs=None):\n",
    "    \"\"\"\n",
    "    Compute the k-correction [add details]\n",
    "    \n",
    "    Args:\n",
    "        ws: observed spectrum wavelengths in A (1d np.array())\n",
    "        fs: observed spectrum flux in 1e-17 * erg/s/cm2/A (1d np.array())\n",
    "        ws_bp: filter wavelengths in A (np.array())\n",
    "        bp: filter response (np.array())\n",
    "        z0: \"central\" redshift we are k-correcting to (float)\n",
    "        z: spectrum redshift (float)\n",
    "        calib_ws (optional, defaults to None): BD +174708 star wavelengths in A  (1d np.array())\n",
    "        calib_fs (optional, defaults to None): BD +174708 star flux in some units..  (1d np.array())\n",
    "    \n",
    "    Returns:\n",
    "        k: the k-correction value (float)\n",
    "        \n",
    "    Notes:\n",
    "        See Appendix A of https://www.overleaf.com/project/655677d0ea85cf39fc55c558\n",
    "    \"\"\"\n",
    "\n",
    "    # rest-frame wavelengths\n",
    "    # desi spectra are at 0.8A resolution\n",
    "    # z approx. is in [2, 4]\n",
    "    # in rest-frame at z=4, dw_obs=0.8A corresponds to dw_rf=0.16A\n",
    "    # => we pick a 0.1A sampling\n",
    "    rf_ws = np.arange(ws_bp[0] / (1 + z0), ws_bp[-1] / (1 + z0) + 0.1, 0.1)\n",
    "\n",
    "    # for the filter response, we redshift to z0\n",
    "    obs0_bp = np.interp((1 + z0) * rf_ws, ws_bp, bp)\n",
    "\n",
    "    # compute the numerator term\n",
    "    interp_fs = np.interp((1 + z) * rf_ws, ws, fs)\n",
    "    num_integrand = rf_ws * obs0_bp * interp_fs\n",
    "    num = np.trapz(num_integrand, x=rf_ws)\n",
    "\n",
    "    # compute the denominator term\n",
    "    ro_ws = (1 + z0) * rf_ws #observed frame wavelengths\n",
    "    interp_fs = np.interp(ro_ws,ws,fs)\n",
    "    denom_integrand = ro_ws*obs0_bp*interp_fs\n",
    "    denom = np.trapz(denom_integrand, ro_ws)\n",
    "\n",
    "    # k-correction\n",
    "    k = 2.5 * np.log10(1 + z)\n",
    "    k += 2.5 * np.log10(num / denom)\n",
    "\n",
    "    # compute ZTF zp correction?\n",
    "    if calib_ws is not None:\n",
    "\n",
    "        # Zx term\n",
    "        interp_calib_fs = np.interp(rf_ws, calib_ws, calib_fs)\n",
    "        Zx_integrand = rf_ws * obs0_bp * interp_calib_fs\n",
    "        Zx = np.trapz(Zx_integrand, x=rf_ws)\n",
    "\n",
    "        # Zy term\n",
    "        interp_calib_fs = np.interp(ws_bp, calib_ws, calib_fs)\n",
    "        Zy_integrand = ws_bp * bp * interp_calib_fs\n",
    "        Zy = np.trapz(Zy_integrand, x=ws_bp)\n",
    "        # apply [note: in the paper, there s no 2.5*log10()..]\n",
    "        k -= 2.5 * np.log10(Zx / Zy)\n",
    "    \n",
    "    return k\n",
    "'''"
   ]
  },
  {
   "cell_type": "code",
   "execution_count": 11,
   "id": "a44b84de-f17f-47ec-a592-2f1bc5c1f5c8",
   "metadata": {},
   "outputs": [],
   "source": [
    "ws = get_ws(ardir)\n",
    "nwave = len(ws)"
   ]
  },
  {
   "cell_type": "code",
   "execution_count": 12,
   "id": "c41eec15-592a-4531-b7c9-bd8dc723f181",
   "metadata": {
    "tags": []
   },
   "outputs": [
    {
     "name": "stderr",
     "output_type": "stream",
     "text": [
      "/tmp/ipykernel_84503/184655934.py:91: RuntimeWarning: invalid value encountered in log10\n",
      "  k += 2.5 * np.log10(num / denom)\n",
      "100%|██████████| 6892/6892 [01:58<00:00, 57.97it/s]\n"
     ]
    },
    {
     "data": {
      "text/plain": [
       "'\\ndef process_target(i):\\n    tileids, nights = get_tid_tileids_nights(d[\\'TARGETID\\'][i], d[\"TARGETID\"], d[\"TILEID\"], d[\"NIGHT\"])\\n    fs, ivs = get_indiv_spectra(d[\\'TARGETID\\'][i], tileids, nights, ardir, nwave)\\n    SEL = (ivs != 0).all(axis=0)\\n    fs = (fs[:,SEL] * ivs[:,SEL]).sum(axis=0) / ivs[:,SEL].sum(axis=0)\\n    if np.sum(SEL) == 0:\\n        raise ValueError(f\"Selection mask resulted in an empty array for TARGETID {targetid}\")\\n\\n    k_rr = k_correction(d[\\'TARGETID\\'][i], ws[SEL], fs, ws_r, bp_r, 2.3, d[\\'Z\\'][i], calib_ws, calib_fs)\\n    k_gg = k_correction(d[\\'TARGETID\\'][i], ws[SEL], fs, ws_g, bp_g, 2.3, d[\\'Z\\'][i], calib_ws, calib_fs)\\n    return k_gg,k_rr\\n\\nif __name__ == \\'__main__\\':\\n    with Pool(processes=32) as pool:\\n        results = list(tqdm(pool.imap(process_target, range(len(d))), total=len(d)))\\n\\n    k_gg,k_rr = results\\n    '"
      ]
     },
     "execution_count": 12,
     "metadata": {},
     "output_type": "execute_result"
    }
   ],
   "source": [
    "# Initialize lists to store results\n",
    "k_gg = []\n",
    "k_rr = []\n",
    "\n",
    "# Filter out rows from `d` where np.sum(SEL) == 0\n",
    "valid_indices = []\n",
    "for i in range(len(d['TARGETID'])):\n",
    "    targetid = d['TARGETID'][i]\n",
    "    tileids, nights = get_tid_tileids_nights(targetid, d[\"TARGETID\"], d[\"TILEID\"], d[\"NIGHT\"])\n",
    "    fs, ivs = get_indiv_spectra(targetid, tileids, nights, ardir, nwave)\n",
    "    SEL = (ivs != 0).all(axis=0)\n",
    "    if np.sum(SEL) == 0:\n",
    "        continue    \n",
    "    valid_indices.append(i)\n",
    "\n",
    "# Now filter `d` using the valid indices\n",
    "d_filtered = d[valid_indices]\n",
    "\n",
    "# Process the valid targets in `d_filtered`\n",
    "for i in tqdm(range(len(d_filtered['TARGETID']))):\n",
    "    targetid = d_filtered['TARGETID'][i]\n",
    "    tileids, nights = get_tid_tileids_nights(targetid, d_filtered[\"TARGETID\"], d_filtered[\"TILEID\"], d_filtered[\"NIGHT\"])\n",
    "    fs, ivs = get_indiv_spectra(targetid, tileids, nights, ardir, nwave)\n",
    "    SEL = (ivs != 0).all(axis=0)\n",
    "    fs = (fs[:, SEL] * ivs[:, SEL]).sum(axis=0) / ivs[:, SEL].sum(axis=0)\n",
    "    k_g = k_correction(targetid, ws[SEL], fs, ws_g, bp_g, 2.3, d_filtered['Z'][i], calib_ws, calib_fs)\n",
    "    k_r = k_correction(targetid, ws[SEL], fs, ws_r, bp_r, 2.3, d_filtered['Z'][i], calib_ws, calib_fs)\n",
    "    \n",
    "    # Append the results to the respective lists\n",
    "    k_gg.append(k_g)\n",
    "    k_rr.append(k_r)\n",
    "\n",
    "'''\n",
    "def process_target(i):\n",
    "    tileids, nights = get_tid_tileids_nights(d['TARGETID'][i], d[\"TARGETID\"], d[\"TILEID\"], d[\"NIGHT\"])\n",
    "    fs, ivs = get_indiv_spectra(d['TARGETID'][i], tileids, nights, ardir, nwave)\n",
    "    SEL = (ivs != 0).all(axis=0)\n",
    "    fs = (fs[:,SEL] * ivs[:,SEL]).sum(axis=0) / ivs[:,SEL].sum(axis=0)\n",
    "    if np.sum(SEL) == 0:\n",
    "        raise ValueError(f\"Selection mask resulted in an empty array for TARGETID {targetid}\")\n",
    "\n",
    "    k_rr = k_correction(d['TARGETID'][i], ws[SEL], fs, ws_r, bp_r, 2.3, d['Z'][i], calib_ws, calib_fs)\n",
    "    k_gg = k_correction(d['TARGETID'][i], ws[SEL], fs, ws_g, bp_g, 2.3, d['Z'][i], calib_ws, calib_fs)\n",
    "    return k_gg,k_rr\n",
    "\n",
    "if __name__ == '__main__':\n",
    "    with Pool(processes=32) as pool:\n",
    "        results = list(tqdm(pool.imap(process_target, range(len(d))), total=len(d)))\n",
    "\n",
    "    k_gg,k_rr = results\n",
    "    '''"
   ]
  },
  {
   "cell_type": "code",
   "execution_count": 13,
   "id": "bc9ee56f-4ca7-46ea-955c-62107992dab6",
   "metadata": {
    "tags": []
   },
   "outputs": [
    {
     "name": "stdout",
     "output_type": "stream",
     "text": [
      "(6892,)\n"
     ]
    }
   ],
   "source": [
    "k_gg = np.array(k_gg)\n",
    "k_rr = np.array(k_rr)\n",
    "print(k_rr.shape)"
   ]
  },
  {
   "cell_type": "code",
   "execution_count": 14,
   "id": "c1e8d774-1cd9-4f0c-ae82-f846b9438cbf",
   "metadata": {
    "tags": []
   },
   "outputs": [],
   "source": [
    "t = Table([k_gg,k_rr], \n",
    "          names=('k_gg','k_rr'))\n",
    "t.write('/pscratch/sd/z/zhaozhon/DATASET/DESI-data/k_Thomas.csv', format='csv', overwrite=True)"
   ]
  },
  {
   "cell_type": "code",
   "execution_count": 15,
   "id": "1f307deb-7fbe-4db8-bb9b-7b017a361642",
   "metadata": {},
   "outputs": [],
   "source": [
    "d_filtered.write('/pscratch/sd/z/zhaozhon/DATASET/DESI-data/new_d_Thomas.fits', format='fits', overwrite=True)"
   ]
  },
  {
   "cell_type": "code",
   "execution_count": null,
   "id": "c399418d-db12-48b4-ad0c-1ffedd740416",
   "metadata": {},
   "outputs": [],
   "source": []
  }
 ],
 "metadata": {
  "kernelspec": {
   "display_name": "DESI main",
   "language": "python",
   "name": "desi-main"
  },
  "language_info": {
   "codemirror_mode": {
    "name": "ipython",
    "version": 3
   },
   "file_extension": ".py",
   "mimetype": "text/x-python",
   "name": "python",
   "nbconvert_exporter": "python",
   "pygments_lexer": "ipython3",
   "version": "3.10.14"
  }
 },
 "nbformat": 4,
 "nbformat_minor": 5
}
