{
 "cells": [
  {
   "cell_type": "code",
   "execution_count": 1,
   "id": "67867b83-9216-463b-9da6-55ec98fe00cc",
   "metadata": {
    "tags": []
   },
   "outputs": [],
   "source": [
    "import h5py\n",
    "import numpy as np\n",
    "import glob"
   ]
  },
  {
   "cell_type": "code",
   "execution_count": 2,
   "id": "baba49cf-c792-4896-b7d1-ca6db86d6754",
   "metadata": {
    "tags": []
   },
   "outputs": [],
   "source": [
    "f = h5py.File('/global/cfs/projectdirs/desi/users/akim/Projects/QSO_Distance/data/dates.hdf5')"
   ]
  },
  {
   "cell_type": "code",
   "execution_count": 3,
   "id": "7bebc906-a174-4306-bf15-cbdaca87afd5",
   "metadata": {
    "tags": []
   },
   "outputs": [
    {
     "name": "stdout",
     "output_type": "stream",
     "text": [
      "b'mjd'\n",
      "b'z'\n",
      "b'zerr'\n",
      "b'zwarn'\n",
      "//////////\n",
      "b'targetid'\n",
      "b'night'\n",
      "//////////\n"
     ]
    }
   ],
   "source": [
    "for name in f['df']['block0_items']:\n",
    "    print(name)\n",
    "print('//////////')\n",
    "for name in f['df']['block1_items']:\n",
    "    print(name)\n",
    "print('//////////')"
   ]
  },
  {
   "cell_type": "code",
   "execution_count": 4,
   "id": "e2b27374-6181-48ce-97ea-2edefee06d39",
   "metadata": {
    "tags": []
   },
   "outputs": [],
   "source": [
    "f1 = h5py.File('/global/cfs/projectdirs/desi/users/akim/Projects/QSO_Distance/data/lc/001786.hdf5')"
   ]
  },
  {
   "cell_type": "code",
   "execution_count": 5,
   "id": "370754e5-2070-41c1-844b-c901da67b5d8",
   "metadata": {
    "tags": []
   },
   "outputs": [
    {
     "name": "stdout",
     "output_type": "stream",
     "text": [
      "g\n",
      "i\n",
      "r\n"
     ]
    }
   ],
   "source": [
    "#for name in f1:\n",
    "    #print(name)\n",
    "for name in f1['39633207531932739']:\n",
    "    print(name)"
   ]
  },
  {
   "cell_type": "code",
   "execution_count": 6,
   "id": "970543f8-44ad-48fa-939c-ab6cb78d0371",
   "metadata": {
    "tags": []
   },
   "outputs": [],
   "source": [
    "file_pattern = '/global/cfs/projectdirs/desi/users/akim/Projects/QSO_Distance/data/lc/*.hdf5'\n",
    "files = glob.glob(file_pattern)"
   ]
  },
  {
   "cell_type": "code",
   "execution_count": 7,
   "id": "ba160b7d-d208-4e45-a9e7-8695965454e0",
   "metadata": {
    "tags": []
   },
   "outputs": [],
   "source": [
    "target_id_g = []\n",
    "mag_g = []\n",
    "magerr_g = []\n",
    "mjd_g = []\n",
    "\n",
    "target_id_r = []\n",
    "mag_r = []\n",
    "magerr_r = []\n",
    "mjd_r = []\n",
    "\n",
    "target_id_i = []\n",
    "mag_i = []\n",
    "magerr_i = []\n",
    "mjd_i = []\n",
    "\n",
    "for file_path in files:\n",
    "    with h5py.File(file_path, 'r') as hdf:\n",
    "        keys = list(hdf.keys())\n",
    "        for key in keys:\n",
    "            if 'g' in hdf[key] and 'mag' in hdf[key]['g'] and 'magerr' in hdf[key]['g']:\n",
    "                indices = (hdf[key]['g']['catflags'][:] & 32768) == 0\n",
    "                target_id_g.append(key)\n",
    "                mag_g.append(hdf[key]['g']['mag'][indices])\n",
    "                magerr_g.append(hdf[key]['g']['magerr'][indices])\n",
    "                mjd_g.append(hdf[key]['g']['hmjd'][indices])\n",
    "            if 'r' in hdf[key] and 'mag' in hdf[key]['r'] and 'magerr' in hdf[key]['r']:\n",
    "                indices = (hdf[key]['r']['catflags'][:] & 32768) == 0\n",
    "                target_id_r.append(key)  # Correctly append to 'r' lists\n",
    "                mag_r.append(hdf[key]['r']['mag'][indices])\n",
    "                magerr_r.append(hdf[key]['r']['magerr'][indices])\n",
    "                mjd_r.append(hdf[key]['r']['hmjd'][indices])\n",
    "            if 'i' in hdf[key] and 'mag' in hdf[key]['i'] and 'magerr' in hdf[key]['i']:\n",
    "                indices = (hdf[key]['i']['catflags'][:] & 32768) == 0\n",
    "                target_id_i.append(key)  # Correctly append to 'i' lists\n",
    "                mag_i.append(hdf[key]['i']['mag'][indices])\n",
    "                magerr_i.append(hdf[key]['i']['magerr'][indices])\n",
    "                mjd_i.append(hdf[key]['i']['hmjd'][indices])"
   ]
  },
  {
   "cell_type": "code",
   "execution_count": 8,
   "id": "051f5f81-9e4a-4aad-b77a-1ef1a6cb46c4",
   "metadata": {
    "tags": []
   },
   "outputs": [
    {
     "name": "stdout",
     "output_type": "stream",
     "text": [
      "1033156\n",
      "1033156\n"
     ]
    }
   ],
   "source": [
    "print(len(target_id_g))\n",
    "print(len(mag_g))"
   ]
  },
  {
   "cell_type": "code",
   "execution_count": 9,
   "id": "900bd607-9b95-4b50-80cc-e9270637120c",
   "metadata": {
    "tags": []
   },
   "outputs": [],
   "source": [
    "# m is the magnitude, dm is the uncertainty of magnitude,f is flux, df is the uncertainty of flux\n",
    "def mag_flux(m,dm):\n",
    "    f = 10 ** (-m / 2.5)\n",
    "    df = np.abs(f * dm * np.log(10) / (-2.5))\n",
    "    return f,df\n",
    "def weighted_average(f,df):\n",
    "    weights = 1.0 / (df ** 2)\n",
    "    weighted_f = np.sum(f * weights) / np.sum(weights)\n",
    "    weighted_df = np.sqrt(1.0 / np.sum(weights))\n",
    "    return weighted_f,weighted_df"
   ]
  },
  {
   "cell_type": "code",
   "execution_count": 10,
   "id": "9ac5e25f-5496-49cb-92e5-d5f347593bc9",
   "metadata": {},
   "outputs": [],
   "source": [
    "result1 = [mag_flux(mag_g[x],magerr_g[x]) for x in range(len(mag_g))]\n",
    "result2 = [mag_flux(mag_r[x],magerr_r[x]) for x in range(len(mag_r))]\n",
    "result3 = [mag_flux(mag_i[x],magerr_i[x]) for x in range(len(mag_i))]\n",
    "\n",
    "f_g = [x[0] for x in result1]\n",
    "df_g = [x[1] for x in result1]\n",
    "\n",
    "f_r = [x[0] for x in result2]\n",
    "df_r = [x[1] for x in result2]\n",
    "\n",
    "f_i = [x[0] for x in result3]\n",
    "df_i = [x[1] for x in result3]"
   ]
  },
  {
   "cell_type": "code",
   "execution_count": 11,
   "id": "254a9394-d462-4a38-8dc1-674becaf3b8b",
   "metadata": {
    "tags": []
   },
   "outputs": [],
   "source": [
    "new_result1 = [weighted_average(f_g[x],df_g[x]) for x in range(len(f_g)) ]\n",
    "new_result2 = [weighted_average(f_r[x],df_r[x]) for x in range(len(f_r)) ]\n",
    "new_result3 = [weighted_average(f_i[x],df_i[x]) for x in range(len(f_i)) ]\n",
    "\n",
    "\n",
    "\n",
    "#print(len(result))\n",
    "avg_f_g = [x[0] for x in new_result1]\n",
    "avg_df_g = [x[1] for x in new_result1]\n",
    "\n",
    "avg_f_r = [x[0] for x in new_result2]\n",
    "avg_df_r = [x[1] for x in new_result2]\n",
    "\n",
    "avg_f_i = [x[0] for x in new_result3]\n",
    "avg_df_i = [x[1] for x in new_result3]\n",
    "#print(weighted_ave_mag_g)\n",
    "f_g = np.array([avg_f_g])\n",
    "df_g = np.array([avg_df_g])\n",
    "\n",
    "f_r = np.array([avg_f_r])\n",
    "df_r = np.array([avg_df_r])\n",
    "\n",
    "f_i = np.array([avg_f_i])\n",
    "df_i = np.array([avg_df_i])\n",
    "\n",
    "mag_g = -2.5 * np.log10(f_g)\n",
    "mag_r = -2.5 * np.log10(f_r)\n",
    "mag_i = -2.5 * np.log10(f_i)\n",
    "magerr_g = np.abs(2.5 / np.log(10) * df_g / f_g)\n",
    "magerr_r = np.abs(2.5 / np.log(10) * df_r / f_r)\n",
    "magerr_i = np.abs(2.5 / np.log(10) * df_i / f_i)"
   ]
  },
  {
   "cell_type": "code",
   "execution_count": 12,
   "id": "609f797b-e883-4144-a55a-36c33c8eac69",
   "metadata": {},
   "outputs": [],
   "source": [
    "new_mjd_g = [np.mean(mjd_g[x]) for x in range(len(mjd_g))]\n",
    "new_mjd_r = [np.mean(mjd_r[x]) for x in range(len(mjd_r))]\n",
    "new_mjd_i = [np.mean(mjd_i[x]) for x in range(len(mjd_i))]"
   ]
  },
  {
   "cell_type": "code",
   "execution_count": 13,
   "id": "4e72bc44-d64d-4ad3-a97c-7363a26a3e5c",
   "metadata": {},
   "outputs": [
    {
     "name": "stdout",
     "output_type": "stream",
     "text": [
      "[[21.559174 21.5149   21.663918 ... 20.473686 20.330414 21.48779 ]]\n"
     ]
    }
   ],
   "source": [
    "print(mag_g)"
   ]
  },
  {
   "cell_type": "code",
   "execution_count": 14,
   "id": "94b040c9-dece-45b4-8a1a-c8ce0f7a1c05",
   "metadata": {
    "tags": []
   },
   "outputs": [],
   "source": [
    "from astropy.table import Table"
   ]
  },
  {
   "cell_type": "code",
   "execution_count": 15,
   "id": "3e9e317e-5ca5-4a8d-8010-b4b4f1c918c4",
   "metadata": {
    "tags": []
   },
   "outputs": [
    {
     "name": "stdout",
     "output_type": "stream",
     "text": [
      "<class 'str'>\n",
      "float32\n"
     ]
    }
   ],
   "source": [
    "print(type(target_id_g[0]))\n",
    "print(mag_g[0].dtype)"
   ]
  },
  {
   "cell_type": "code",
   "execution_count": 16,
   "id": "3964155f-c1dd-4880-805e-daa5a9bfc18e",
   "metadata": {
    "tags": []
   },
   "outputs": [],
   "source": [
    "new_target_id_g = np.array(target_id_g)"
   ]
  },
  {
   "cell_type": "code",
   "execution_count": 17,
   "id": "5bd9e53a-6e05-4b6d-ab02-bf29dccab980",
   "metadata": {
    "tags": []
   },
   "outputs": [
    {
     "name": "stdout",
     "output_type": "stream",
     "text": [
      "(1033156,)\n"
     ]
    }
   ],
   "source": [
    "print(new_target_id_g.shape)"
   ]
  },
  {
   "cell_type": "code",
   "execution_count": 18,
   "id": "d54fa158-8e39-4f47-a28b-5db4277a91ff",
   "metadata": {
    "tags": []
   },
   "outputs": [],
   "source": [
    "t = Table([target_id_g, mag_g[0], magerr_g[0],new_mjd_g], names=('target_id_g', 'mag_g', 'magerr_g','mjd_g'))\n",
    "\n",
    "t.write('/pscratch/sd/z/zhaozhon/DATASET/ZTF-data/g.csv', format='csv', overwrite=True)"
   ]
  },
  {
   "cell_type": "code",
   "execution_count": 19,
   "id": "de58f6a7-865e-48ba-aad2-c7f2f8b54c84",
   "metadata": {},
   "outputs": [],
   "source": [
    "t = Table([target_id_r, mag_r[0], magerr_r[0],new_mjd_r], names=('target_id_r', 'mag_r', 'magerr_r','mjd_r'))\n",
    "\n",
    "t.write('/pscratch/sd/z/zhaozhon/DATASET/ZTF-data/r.csv', format='csv', overwrite=True)"
   ]
  },
  {
   "cell_type": "code",
   "execution_count": 20,
   "id": "a014f07e-79fa-4ba2-b428-eab08b4dd098",
   "metadata": {
    "tags": []
   },
   "outputs": [],
   "source": [
    "t = Table([target_id_i, mag_i[0], magerr_i[0],new_mjd_i], names=('target_id_i', 'mag_i', 'magerr_i','mjd_i'))\n",
    "\n",
    "t.write('/pscratch/sd/z/zhaozhon/DATASET/ZTF-data/i.csv', format='csv', overwrite=True)"
   ]
  },
  {
   "cell_type": "code",
   "execution_count": null,
   "id": "f161bccb-f374-4fa0-8e7a-f40c5a689db7",
   "metadata": {},
   "outputs": [],
   "source": []
  }
 ],
 "metadata": {
  "kernelspec": {
   "display_name": "NERSC Python",
   "language": "python",
   "name": "python3"
  },
  "language_info": {
   "codemirror_mode": {
    "name": "ipython",
    "version": 3
   },
   "file_extension": ".py",
   "mimetype": "text/x-python",
   "name": "python",
   "nbconvert_exporter": "python",
   "pygments_lexer": "ipython3",
   "version": "3.11.7"
  }
 },
 "nbformat": 4,
 "nbformat_minor": 5
}
