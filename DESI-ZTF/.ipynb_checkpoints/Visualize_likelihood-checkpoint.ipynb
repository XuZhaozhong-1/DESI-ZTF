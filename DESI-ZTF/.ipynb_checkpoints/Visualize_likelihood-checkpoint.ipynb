{
 "cells": [
  {
   "cell_type": "code",
   "execution_count": 1,
   "id": "84befa82-ba13-43b6-b2e4-bc1dc40bdf0f",
   "metadata": {
    "tags": []
   },
   "outputs": [
    {
     "name": "stderr",
     "output_type": "stream",
     "text": [
      "2024-12-13 06:31:12.986493: W external/xla/xla/service/gpu/nvptx_compiler.cc:765] The NVIDIA driver's CUDA version is 12.2 which is older than the ptxas CUDA version (12.4.131). Because the driver is older than the ptxas version, XLA is disabling parallel compilation, which may slow down compilation. You should update your NVIDIA driver or use the NVIDIA-provided CUDA forward compatibility packages.\n"
     ]
    }
   ],
   "source": [
    "import numpy as np\n",
    "import numpyro\n",
    "import numpyro.distributions as dist\n",
    "from jax import random\n",
    "from numpyro.infer import MCMC, HMC,NUTS\n",
    "import fitsio\n",
    "import matplotlib as mpl\n",
    "from multiprocessing import Pool\n",
    "from scipy.stats import dirichlet\n",
    "from astropy.table import Table\n",
    "from astropy.io import fits\n",
    "import fitsio\n",
    "from astropy.cosmology import Planck18\n",
    "import jax.numpy as jnp\n",
    "import matplotlib.pyplot as plt\n",
    "from numpyro import handlers \n",
    "from jax import random, jit\n",
    "import jax\n",
    "from fitting import abs_mag_to_L,get_lfpars_shen20,T0,T1,T2,get_lfpars,get_phis,integral,integral_Lmin_Lmax\n",
    "from jax import random, vmap\n",
    "from jax.scipy.stats import norm\n",
    "import numpyro.distributions as dist\n",
    "from jax.scipy.special import gammaln\n",
    "from astropy.cosmology import WMAP9 as cosmo\n",
    "from scipy.optimize import curve_fit, brentq\n",
    "import fitting\n",
    "from scipy.optimize import minimize"
   ]
  },
  {
   "cell_type": "code",
   "execution_count": 2,
   "id": "6e838f0a-6aaf-41d7-be3b-1aaefbac224e",
   "metadata": {},
   "outputs": [],
   "source": [
    "jax.config.update(\"jax_enable_x64\", True)"
   ]
  },
  {
   "cell_type": "code",
   "execution_count": 3,
   "id": "dbe1c440-7816-4534-be4e-cecc547e13f3",
   "metadata": {
    "tags": []
   },
   "outputs": [],
   "source": [
    "k = Table.read('/pscratch/sd/z/zhaozhon/DATASET/DESI-data/k.csv',format='csv')\n",
    "indice = np.isnan(k['k_rr']) | np.isinf(k['k_rr'])\n",
    "#k_gg = k['k_gg'][~indice]\n",
    "k_rr = k['k_rr'][~indice]"
   ]
  },
  {
   "cell_type": "code",
   "execution_count": 4,
   "id": "9258e0df-c7c7-4c66-9242-e68018f0f518",
   "metadata": {
    "tags": []
   },
   "outputs": [],
   "source": [
    "file = '/pscratch/sd/z/zhaozhon/DATASET/DESI-data/new_d.fits'\n",
    "d = Table(fitsio.read(file))\n",
    "SEL = np.where((d['Z'] > 2.3) & (d['Z'] < 2.8))[0]\n",
    "TARGETID = d['TARGETID'][SEL][~indice]\n",
    "#apr_mag_g = d['APP_MAG_G'][SEL][~indice]\n",
    "#apr_mag_g_err = d['APP_MAGERR_G'][SEL][~indice]\n",
    "apr_mag_r = d['APP_MAG_R'][SEL][~indice]\n",
    "apr_mag_r_err = d['APP_MAGERR_R'][SEL][~indice]\n",
    "z_desi = d['Z'][SEL][~indice]"
   ]
  },
  {
   "cell_type": "code",
   "execution_count": 5,
   "id": "75238390-f0f6-42e7-b6ae-02799cc233da",
   "metadata": {
    "tags": []
   },
   "outputs": [],
   "source": [
    "d_desi = Planck18.distmod(z_desi).value"
   ]
  },
  {
   "cell_type": "code",
   "execution_count": 6,
   "id": "3fc22a9c-9c22-42cd-a128-65ffa35ba2ff",
   "metadata": {},
   "outputs": [
    {
     "name": "stdout",
     "output_type": "stream",
     "text": [
      "-1.41011 -3.50877883045515 1.37670217962694e-05\n"
     ]
    }
   ],
   "source": [
    "gamma1, gamma2, L_star, phi_star = get_lfpars_shen20(2.35)\n",
    "alpha=-(gamma1+1)\n",
    "beta = -(gamma2+1)\n",
    "print(alpha,beta,phi_star)"
   ]
  },
  {
   "cell_type": "code",
   "execution_count": 7,
   "id": "614154df-ac64-4406-834b-de4703d118b8",
   "metadata": {
    "tags": []
   },
   "outputs": [],
   "source": [
    "TARGETID, indices = np.unique(TARGETID, return_index=True)\n",
    "#apr_mag_g = apr_mag_g[indices]\n",
    "#apr_mag_g_err = apr_mag_g_err[indices]\n",
    "apr_mag_r = apr_mag_r[indices]\n",
    "apr_mag_r_err = apr_mag_r_err[indices]\n",
    "d_desi = d_desi[indices]\n",
    "z_desi = z_desi[indices]\n",
    "#k_gg = k_gg[indices]\n",
    "k_rr = k_rr[indices]"
   ]
  },
  {
   "cell_type": "code",
   "execution_count": 8,
   "id": "5e97458d-8bc5-4884-9021-362b028693db",
   "metadata": {
    "tags": []
   },
   "outputs": [
    {
     "name": "stdout",
     "output_type": "stream",
     "text": [
      "157745\n"
     ]
    }
   ],
   "source": [
    "# Assuming z_desi is your redshift array\n",
    "filter_mask = (z_desi > 2.3) & (z_desi < 2.4)\n",
    "\n",
    "# Apply the filter to all arrays\n",
    "TARGETID = TARGETID[filter_mask]\n",
    "#apr_mag_g = apr_mag_g[filter_mask]\n",
    "#apr_mag_g_err = apr_mag_g_err[filter_mask]\n",
    "apr_mag_r = apr_mag_r[filter_mask]\n",
    "apr_mag_r_err = apr_mag_r_err[filter_mask]\n",
    "d_desi = d_desi[filter_mask]\n",
    "z_desi = z_desi[filter_mask]\n",
    "#k_gg = k_gg[filter_mask]\n",
    "k_rr = k_rr[filter_mask]\n",
    "\n",
    "# Recalculate N_obs after filtering\n",
    "N_obs = TARGETID.shape[0]\n",
    "print(N_obs)"
   ]
  },
  {
   "cell_type": "code",
   "execution_count": 9,
   "id": "1aec7ce8-8446-4255-aa40-64c4c9e6df91",
   "metadata": {
    "tags": []
   },
   "outputs": [],
   "source": [
    "apr_mag_r = apr_mag_r.astype(np.float64)\n",
    "apr_mag_r_err = apr_mag_r_err.astype(np.float64)\n",
    "k_rr = k_rr.astype(np.float64)\n",
    "\n",
    "d_desi = d_desi.astype(np.float64)\n",
    "z_desi = z_desi.astype(np.float64)"
   ]
  },
  {
   "cell_type": "code",
   "execution_count": 10,
   "id": "358a4a81-9859-432a-a2af-ce47948c4569",
   "metadata": {
    "tags": []
   },
   "outputs": [
    {
     "name": "stdout",
     "output_type": "stream",
     "text": [
      "23.027341842651367\n"
     ]
    }
   ],
   "source": [
    "print(apr_mag_r.max())"
   ]
  },
  {
   "cell_type": "code",
   "execution_count": 11,
   "id": "32ea450b-31d3-46b4-a468-41cdfcb9992a",
   "metadata": {
    "tags": []
   },
   "outputs": [],
   "source": [
    "def eff(m,b,m0):\n",
    "    eff = jnp.where(m < m0, 1,jnp.where(m < 23.1,10**(-b*(m-m0)/2.5),0))\n",
    "    return eff\n",
    "\n",
    "ln_posterior = fitting.ln_posterior(eff)\n",
    "\n",
    "def neg_likelihood(params,apr_mag,k,mu,apr_mag_err):\n",
    "    m0,b,x,fraction = params\n",
    "    log_likelihood = ln_posterior(m0, b, x, apr_mag, k, mu, apr_mag_err,fraction)\n",
    "    #log_likelihood = ln_posterior(m0, b, x, apr_mag, k, mu, apr_mag_err,0.07977749883319056)\n",
    "    return -log_likelihood"
   ]
  },
  {
   "cell_type": "code",
   "execution_count": 12,
   "id": "3e832370-3f58-46e3-98e2-38277653a385",
   "metadata": {
    "tags": []
   },
   "outputs": [
    {
     "data": {
      "text/plain": [
       "3.68490793218362e+45"
      ]
     },
     "execution_count": 12,
     "metadata": {},
     "output_type": "execute_result"
    }
   ],
   "source": [
    "abs_mag_to_L(apr_mag_r.max()-k_rr.mean()-d_desi.mean()-1.74)"
   ]
  },
  {
   "cell_type": "code",
   "execution_count": 13,
   "id": "b1af3e6d-c21f-4895-b3c1-517fa3dd4b15",
   "metadata": {
    "tags": []
   },
   "outputs": [
    {
     "name": "stderr",
     "output_type": "stream",
     "text": [
      "2024-12-13 06:31:30.254539: W external/xla/xla/tsl/framework/bfc_allocator.cc:482] Allocator (GPU_0_bfc) ran out of memory trying to allocate 120.35MiB (rounded to 126196224)requested by op \n",
      "2024-12-13 06:31:30.254659: W external/xla/xla/tsl/framework/bfc_allocator.cc:494] **_______*********************************************************************************xxxxxxxxxx\n",
      "E1213 06:31:30.254676 1346127 pjrt_stream_executor_client.cc:2985] Execution of replica 0 failed: RESOURCE_EXHAUSTED: Out of memory while trying to allocate 126196000 bytes.\n"
     ]
    },
    {
     "ename": "XlaRuntimeError",
     "evalue": "RESOURCE_EXHAUSTED: Out of memory while trying to allocate 126196000 bytes.",
     "output_type": "error",
     "traceback": [
      "\u001b[0;31m---------------------------------------------------------------------------\u001b[0m",
      "\u001b[0;31mXlaRuntimeError\u001b[0m                           Traceback (most recent call last)",
      "Cell \u001b[0;32mIn[13], line 4\u001b[0m\n\u001b[1;32m      1\u001b[0m initial_guess \u001b[38;5;241m=\u001b[39m [\u001b[38;5;241m18.826109855329346\u001b[39m,\u001b[38;5;241m0.5023055585762686\u001b[39m,\u001b[38;5;241m0.1\u001b[39m,\u001b[38;5;241m0.16\u001b[39m]\n\u001b[1;32m      2\u001b[0m bounds \u001b[38;5;241m=\u001b[39m [(\u001b[38;5;241m15\u001b[39m,\u001b[38;5;241m22\u001b[39m),(\u001b[38;5;241m0\u001b[39m,\u001b[38;5;241m1\u001b[39m),(\u001b[38;5;241m-\u001b[39m\u001b[38;5;241m1\u001b[39m,\u001b[38;5;241m2\u001b[39m),(\u001b[38;5;241m0.16\u001b[39m,\u001b[38;5;241m0.16\u001b[39m)]\n\u001b[0;32m----> 4\u001b[0m result \u001b[38;5;241m=\u001b[39m \u001b[43mminimize\u001b[49m\u001b[43m(\u001b[49m\n\u001b[1;32m      5\u001b[0m \u001b[43m    \u001b[49m\u001b[43mneg_likelihood\u001b[49m\u001b[43m,\u001b[49m\u001b[43m \u001b[49m\n\u001b[1;32m      6\u001b[0m \u001b[43m    \u001b[49m\u001b[43minitial_guess\u001b[49m\u001b[43m,\u001b[49m\u001b[43m \u001b[49m\n\u001b[1;32m      7\u001b[0m \u001b[43m    \u001b[49m\u001b[43margs\u001b[49m\u001b[38;5;241;43m=\u001b[39;49m\u001b[43m(\u001b[49m\u001b[43mapr_mag_r\u001b[49m\u001b[43m,\u001b[49m\u001b[43m \u001b[49m\u001b[43mk_rr\u001b[49m\u001b[43m,\u001b[49m\u001b[43m \u001b[49m\u001b[43md_desi\u001b[49m\u001b[43m,\u001b[49m\u001b[43m \u001b[49m\u001b[43mapr_mag_r_err\u001b[49m\u001b[43m)\u001b[49m\u001b[43m,\u001b[49m\u001b[43m \u001b[49m\n\u001b[1;32m      8\u001b[0m \u001b[43m    \u001b[49m\u001b[43mmethod\u001b[49m\u001b[38;5;241;43m=\u001b[39;49m\u001b[38;5;124;43m'\u001b[39;49m\u001b[38;5;124;43mL-BFGS-B\u001b[39;49m\u001b[38;5;124;43m'\u001b[39;49m\u001b[43m,\u001b[49m\n\u001b[1;32m      9\u001b[0m \u001b[43m    \u001b[49m\u001b[43mbounds\u001b[49m\u001b[38;5;241;43m=\u001b[39;49m\u001b[43mbounds\u001b[49m\u001b[43m,\u001b[49m\n\u001b[1;32m     10\u001b[0m \u001b[43m    \u001b[49m\u001b[43moptions\u001b[49m\u001b[38;5;241;43m=\u001b[39;49m\u001b[43m{\u001b[49m\u001b[38;5;124;43m'\u001b[39;49m\u001b[38;5;124;43mftol\u001b[39;49m\u001b[38;5;124;43m'\u001b[39;49m\u001b[43m:\u001b[49m\u001b[43m \u001b[49m\u001b[38;5;241;43m1e-8\u001b[39;49m\u001b[43m,\u001b[49m\u001b[43m \u001b[49m\u001b[38;5;124;43m'\u001b[39;49m\u001b[38;5;124;43mgtol\u001b[39;49m\u001b[38;5;124;43m'\u001b[39;49m\u001b[43m:\u001b[49m\u001b[43m \u001b[49m\u001b[38;5;241;43m1e-6\u001b[39;49m\u001b[43m,\u001b[49m\u001b[43m \u001b[49m\u001b[38;5;124;43m'\u001b[39;49m\u001b[38;5;124;43mmaxiter\u001b[39;49m\u001b[38;5;124;43m'\u001b[39;49m\u001b[43m:\u001b[49m\u001b[43m \u001b[49m\u001b[38;5;241;43m3000\u001b[39;49m\u001b[43m}\u001b[49m\n\u001b[1;32m     11\u001b[0m \u001b[43m)\u001b[49m\n\u001b[1;32m     13\u001b[0m optimal_params \u001b[38;5;241m=\u001b[39m result\u001b[38;5;241m.\u001b[39mx\n\u001b[1;32m     14\u001b[0m optimal_likelihood \u001b[38;5;241m=\u001b[39m \u001b[38;5;241m-\u001b[39mresult\u001b[38;5;241m.\u001b[39mfun  \n",
      "File \u001b[0;32m~/.local/perlmutter/pytorch2.0.1/lib/python3.9/site-packages/scipy/optimize/_minimize.py:696\u001b[0m, in \u001b[0;36mminimize\u001b[0;34m(fun, x0, args, method, jac, hess, hessp, bounds, constraints, tol, callback, options)\u001b[0m\n\u001b[1;32m    693\u001b[0m     res \u001b[38;5;241m=\u001b[39m _minimize_newtoncg(fun, x0, args, jac, hess, hessp, callback,\n\u001b[1;32m    694\u001b[0m                              \u001b[38;5;241m*\u001b[39m\u001b[38;5;241m*\u001b[39moptions)\n\u001b[1;32m    695\u001b[0m \u001b[38;5;28;01melif\u001b[39;00m meth \u001b[38;5;241m==\u001b[39m \u001b[38;5;124m'\u001b[39m\u001b[38;5;124ml-bfgs-b\u001b[39m\u001b[38;5;124m'\u001b[39m:\n\u001b[0;32m--> 696\u001b[0m     res \u001b[38;5;241m=\u001b[39m \u001b[43m_minimize_lbfgsb\u001b[49m\u001b[43m(\u001b[49m\u001b[43mfun\u001b[49m\u001b[43m,\u001b[49m\u001b[43m \u001b[49m\u001b[43mx0\u001b[49m\u001b[43m,\u001b[49m\u001b[43m \u001b[49m\u001b[43margs\u001b[49m\u001b[43m,\u001b[49m\u001b[43m \u001b[49m\u001b[43mjac\u001b[49m\u001b[43m,\u001b[49m\u001b[43m \u001b[49m\u001b[43mbounds\u001b[49m\u001b[43m,\u001b[49m\n\u001b[1;32m    697\u001b[0m \u001b[43m                           \u001b[49m\u001b[43mcallback\u001b[49m\u001b[38;5;241;43m=\u001b[39;49m\u001b[43mcallback\u001b[49m\u001b[43m,\u001b[49m\u001b[43m \u001b[49m\u001b[38;5;241;43m*\u001b[39;49m\u001b[38;5;241;43m*\u001b[39;49m\u001b[43moptions\u001b[49m\u001b[43m)\u001b[49m\n\u001b[1;32m    698\u001b[0m \u001b[38;5;28;01melif\u001b[39;00m meth \u001b[38;5;241m==\u001b[39m \u001b[38;5;124m'\u001b[39m\u001b[38;5;124mtnc\u001b[39m\u001b[38;5;124m'\u001b[39m:\n\u001b[1;32m    699\u001b[0m     res \u001b[38;5;241m=\u001b[39m _minimize_tnc(fun, x0, args, jac, bounds, callback\u001b[38;5;241m=\u001b[39mcallback,\n\u001b[1;32m    700\u001b[0m                         \u001b[38;5;241m*\u001b[39m\u001b[38;5;241m*\u001b[39moptions)\n",
      "File \u001b[0;32m~/.local/perlmutter/pytorch2.0.1/lib/python3.9/site-packages/scipy/optimize/_lbfgsb_py.py:305\u001b[0m, in \u001b[0;36m_minimize_lbfgsb\u001b[0;34m(fun, x0, args, jac, bounds, disp, maxcor, ftol, gtol, eps, maxfun, maxiter, iprint, callback, maxls, finite_diff_rel_step, **unknown_options)\u001b[0m\n\u001b[1;32m    302\u001b[0m     \u001b[38;5;28;01melse\u001b[39;00m:\n\u001b[1;32m    303\u001b[0m         iprint \u001b[38;5;241m=\u001b[39m disp\n\u001b[0;32m--> 305\u001b[0m sf \u001b[38;5;241m=\u001b[39m \u001b[43m_prepare_scalar_function\u001b[49m\u001b[43m(\u001b[49m\u001b[43mfun\u001b[49m\u001b[43m,\u001b[49m\u001b[43m \u001b[49m\u001b[43mx0\u001b[49m\u001b[43m,\u001b[49m\u001b[43m \u001b[49m\u001b[43mjac\u001b[49m\u001b[38;5;241;43m=\u001b[39;49m\u001b[43mjac\u001b[49m\u001b[43m,\u001b[49m\u001b[43m \u001b[49m\u001b[43margs\u001b[49m\u001b[38;5;241;43m=\u001b[39;49m\u001b[43margs\u001b[49m\u001b[43m,\u001b[49m\u001b[43m \u001b[49m\u001b[43mepsilon\u001b[49m\u001b[38;5;241;43m=\u001b[39;49m\u001b[43meps\u001b[49m\u001b[43m,\u001b[49m\n\u001b[1;32m    306\u001b[0m \u001b[43m                              \u001b[49m\u001b[43mbounds\u001b[49m\u001b[38;5;241;43m=\u001b[39;49m\u001b[43mnew_bounds\u001b[49m\u001b[43m,\u001b[49m\n\u001b[1;32m    307\u001b[0m \u001b[43m                              \u001b[49m\u001b[43mfinite_diff_rel_step\u001b[49m\u001b[38;5;241;43m=\u001b[39;49m\u001b[43mfinite_diff_rel_step\u001b[49m\u001b[43m)\u001b[49m\n\u001b[1;32m    309\u001b[0m func_and_grad \u001b[38;5;241m=\u001b[39m sf\u001b[38;5;241m.\u001b[39mfun_and_grad\n\u001b[1;32m    311\u001b[0m fortran_int \u001b[38;5;241m=\u001b[39m _lbfgsb\u001b[38;5;241m.\u001b[39mtypes\u001b[38;5;241m.\u001b[39mintvar\u001b[38;5;241m.\u001b[39mdtype\n",
      "File \u001b[0;32m~/.local/perlmutter/pytorch2.0.1/lib/python3.9/site-packages/scipy/optimize/_optimize.py:332\u001b[0m, in \u001b[0;36m_prepare_scalar_function\u001b[0;34m(fun, x0, jac, args, bounds, epsilon, finite_diff_rel_step, hess)\u001b[0m\n\u001b[1;32m    328\u001b[0m     bounds \u001b[38;5;241m=\u001b[39m (\u001b[38;5;241m-\u001b[39mnp\u001b[38;5;241m.\u001b[39minf, np\u001b[38;5;241m.\u001b[39minf)\n\u001b[1;32m    330\u001b[0m \u001b[38;5;66;03m# ScalarFunction caches. Reuse of fun(x) during grad\u001b[39;00m\n\u001b[1;32m    331\u001b[0m \u001b[38;5;66;03m# calculation reduces overall function evaluations.\u001b[39;00m\n\u001b[0;32m--> 332\u001b[0m sf \u001b[38;5;241m=\u001b[39m \u001b[43mScalarFunction\u001b[49m\u001b[43m(\u001b[49m\u001b[43mfun\u001b[49m\u001b[43m,\u001b[49m\u001b[43m \u001b[49m\u001b[43mx0\u001b[49m\u001b[43m,\u001b[49m\u001b[43m \u001b[49m\u001b[43margs\u001b[49m\u001b[43m,\u001b[49m\u001b[43m \u001b[49m\u001b[43mgrad\u001b[49m\u001b[43m,\u001b[49m\u001b[43m \u001b[49m\u001b[43mhess\u001b[49m\u001b[43m,\u001b[49m\n\u001b[1;32m    333\u001b[0m \u001b[43m                    \u001b[49m\u001b[43mfinite_diff_rel_step\u001b[49m\u001b[43m,\u001b[49m\u001b[43m \u001b[49m\u001b[43mbounds\u001b[49m\u001b[43m,\u001b[49m\u001b[43m \u001b[49m\u001b[43mepsilon\u001b[49m\u001b[38;5;241;43m=\u001b[39;49m\u001b[43mepsilon\u001b[49m\u001b[43m)\u001b[49m\n\u001b[1;32m    335\u001b[0m \u001b[38;5;28;01mreturn\u001b[39;00m sf\n",
      "File \u001b[0;32m~/.local/perlmutter/pytorch2.0.1/lib/python3.9/site-packages/scipy/optimize/_differentiable_functions.py:158\u001b[0m, in \u001b[0;36mScalarFunction.__init__\u001b[0;34m(self, fun, x0, args, grad, hess, finite_diff_rel_step, finite_diff_bounds, epsilon)\u001b[0m\n\u001b[1;32m    155\u001b[0m     \u001b[38;5;28mself\u001b[39m\u001b[38;5;241m.\u001b[39mf \u001b[38;5;241m=\u001b[39m fun_wrapped(\u001b[38;5;28mself\u001b[39m\u001b[38;5;241m.\u001b[39mx)\n\u001b[1;32m    157\u001b[0m \u001b[38;5;28mself\u001b[39m\u001b[38;5;241m.\u001b[39m_update_fun_impl \u001b[38;5;241m=\u001b[39m update_fun\n\u001b[0;32m--> 158\u001b[0m \u001b[38;5;28;43mself\u001b[39;49m\u001b[38;5;241;43m.\u001b[39;49m\u001b[43m_update_fun\u001b[49m\u001b[43m(\u001b[49m\u001b[43m)\u001b[49m\n\u001b[1;32m    160\u001b[0m \u001b[38;5;66;03m# Gradient evaluation\u001b[39;00m\n\u001b[1;32m    161\u001b[0m \u001b[38;5;28;01mif\u001b[39;00m \u001b[38;5;28mcallable\u001b[39m(grad):\n",
      "File \u001b[0;32m~/.local/perlmutter/pytorch2.0.1/lib/python3.9/site-packages/scipy/optimize/_differentiable_functions.py:251\u001b[0m, in \u001b[0;36mScalarFunction._update_fun\u001b[0;34m(self)\u001b[0m\n\u001b[1;32m    249\u001b[0m \u001b[38;5;28;01mdef\u001b[39;00m \u001b[38;5;21m_update_fun\u001b[39m(\u001b[38;5;28mself\u001b[39m):\n\u001b[1;32m    250\u001b[0m     \u001b[38;5;28;01mif\u001b[39;00m \u001b[38;5;129;01mnot\u001b[39;00m \u001b[38;5;28mself\u001b[39m\u001b[38;5;241m.\u001b[39mf_updated:\n\u001b[0;32m--> 251\u001b[0m         \u001b[38;5;28;43mself\u001b[39;49m\u001b[38;5;241;43m.\u001b[39;49m\u001b[43m_update_fun_impl\u001b[49m\u001b[43m(\u001b[49m\u001b[43m)\u001b[49m\n\u001b[1;32m    252\u001b[0m         \u001b[38;5;28mself\u001b[39m\u001b[38;5;241m.\u001b[39mf_updated \u001b[38;5;241m=\u001b[39m \u001b[38;5;28;01mTrue\u001b[39;00m\n",
      "File \u001b[0;32m~/.local/perlmutter/pytorch2.0.1/lib/python3.9/site-packages/scipy/optimize/_differentiable_functions.py:155\u001b[0m, in \u001b[0;36mScalarFunction.__init__.<locals>.update_fun\u001b[0;34m()\u001b[0m\n\u001b[1;32m    154\u001b[0m \u001b[38;5;28;01mdef\u001b[39;00m \u001b[38;5;21mupdate_fun\u001b[39m():\n\u001b[0;32m--> 155\u001b[0m     \u001b[38;5;28mself\u001b[39m\u001b[38;5;241m.\u001b[39mf \u001b[38;5;241m=\u001b[39m \u001b[43mfun_wrapped\u001b[49m\u001b[43m(\u001b[49m\u001b[38;5;28;43mself\u001b[39;49m\u001b[38;5;241;43m.\u001b[39;49m\u001b[43mx\u001b[49m\u001b[43m)\u001b[49m\n",
      "File \u001b[0;32m~/.local/perlmutter/pytorch2.0.1/lib/python3.9/site-packages/scipy/optimize/_differentiable_functions.py:137\u001b[0m, in \u001b[0;36mScalarFunction.__init__.<locals>.fun_wrapped\u001b[0;34m(x)\u001b[0m\n\u001b[1;32m    133\u001b[0m \u001b[38;5;28mself\u001b[39m\u001b[38;5;241m.\u001b[39mnfev \u001b[38;5;241m+\u001b[39m\u001b[38;5;241m=\u001b[39m \u001b[38;5;241m1\u001b[39m\n\u001b[1;32m    134\u001b[0m \u001b[38;5;66;03m# Send a copy because the user may overwrite it.\u001b[39;00m\n\u001b[1;32m    135\u001b[0m \u001b[38;5;66;03m# Overwriting results in undefined behaviour because\u001b[39;00m\n\u001b[1;32m    136\u001b[0m \u001b[38;5;66;03m# fun(self.x) will change self.x, with the two no longer linked.\u001b[39;00m\n\u001b[0;32m--> 137\u001b[0m fx \u001b[38;5;241m=\u001b[39m \u001b[43mfun\u001b[49m\u001b[43m(\u001b[49m\u001b[43mnp\u001b[49m\u001b[38;5;241;43m.\u001b[39;49m\u001b[43mcopy\u001b[49m\u001b[43m(\u001b[49m\u001b[43mx\u001b[49m\u001b[43m)\u001b[49m\u001b[43m,\u001b[49m\u001b[43m \u001b[49m\u001b[38;5;241;43m*\u001b[39;49m\u001b[43margs\u001b[49m\u001b[43m)\u001b[49m\n\u001b[1;32m    138\u001b[0m \u001b[38;5;66;03m# Make sure the function returns a true scalar\u001b[39;00m\n\u001b[1;32m    139\u001b[0m \u001b[38;5;28;01mif\u001b[39;00m \u001b[38;5;129;01mnot\u001b[39;00m np\u001b[38;5;241m.\u001b[39misscalar(fx):\n",
      "File \u001b[0;32m~/.local/perlmutter/pytorch2.0.1/lib/python3.9/site-packages/scipy/optimize/_minimize.py:933\u001b[0m, in \u001b[0;36m_remove_from_func.<locals>.fun_out\u001b[0;34m(x_in, *args, **kwargs)\u001b[0m\n\u001b[1;32m    931\u001b[0m x_out[i_fixed] \u001b[38;5;241m=\u001b[39m x_fixed\n\u001b[1;32m    932\u001b[0m x_out[\u001b[38;5;241m~\u001b[39mi_fixed] \u001b[38;5;241m=\u001b[39m x_in\n\u001b[0;32m--> 933\u001b[0m y_out \u001b[38;5;241m=\u001b[39m \u001b[43mfun_in\u001b[49m\u001b[43m(\u001b[49m\u001b[43mx_out\u001b[49m\u001b[43m,\u001b[49m\u001b[43m \u001b[49m\u001b[38;5;241;43m*\u001b[39;49m\u001b[43margs\u001b[49m\u001b[43m,\u001b[49m\u001b[43m \u001b[49m\u001b[38;5;241;43m*\u001b[39;49m\u001b[38;5;241;43m*\u001b[39;49m\u001b[43mkwargs\u001b[49m\u001b[43m)\u001b[49m\n\u001b[1;32m    934\u001b[0m y_out \u001b[38;5;241m=\u001b[39m np\u001b[38;5;241m.\u001b[39marray(y_out)\n\u001b[1;32m    936\u001b[0m \u001b[38;5;28;01mif\u001b[39;00m min_dim \u001b[38;5;241m==\u001b[39m \u001b[38;5;241m1\u001b[39m:\n",
      "Cell \u001b[0;32mIn[11], line 9\u001b[0m, in \u001b[0;36mneg_likelihood\u001b[0;34m(params, apr_mag, k, mu, apr_mag_err)\u001b[0m\n\u001b[1;32m      7\u001b[0m \u001b[38;5;28;01mdef\u001b[39;00m \u001b[38;5;21mneg_likelihood\u001b[39m(params,apr_mag,k,mu,apr_mag_err):\n\u001b[1;32m      8\u001b[0m     m0,b,x,fraction \u001b[38;5;241m=\u001b[39m params\n\u001b[0;32m----> 9\u001b[0m     log_likelihood \u001b[38;5;241m=\u001b[39m \u001b[43mln_posterior\u001b[49m\u001b[43m(\u001b[49m\u001b[43mm0\u001b[49m\u001b[43m,\u001b[49m\u001b[43m \u001b[49m\u001b[43mb\u001b[49m\u001b[43m,\u001b[49m\u001b[43m \u001b[49m\u001b[43mx\u001b[49m\u001b[43m,\u001b[49m\u001b[43m \u001b[49m\u001b[43mapr_mag\u001b[49m\u001b[43m,\u001b[49m\u001b[43m \u001b[49m\u001b[43mk\u001b[49m\u001b[43m,\u001b[49m\u001b[43m \u001b[49m\u001b[43mmu\u001b[49m\u001b[43m,\u001b[49m\u001b[43m \u001b[49m\u001b[43mapr_mag_err\u001b[49m\u001b[43m,\u001b[49m\u001b[43mfraction\u001b[49m\u001b[43m)\u001b[49m\n\u001b[1;32m     10\u001b[0m     \u001b[38;5;66;03m#log_likelihood = ln_posterior(m0, b, x, apr_mag, k, mu, apr_mag_err,0.07977749883319056)\u001b[39;00m\n\u001b[1;32m     11\u001b[0m     \u001b[38;5;28;01mreturn\u001b[39;00m \u001b[38;5;241m-\u001b[39mlog_likelihood\n",
      "File \u001b[0;32m/global/u1/z/zhaozhon/DESI-ZTF-2/fitting.py:297\u001b[0m, in \u001b[0;36mln_posterior.__call__\u001b[0;34m(self, m0, b, x, mhat, k, mu, sigma, fraction)\u001b[0m\n\u001b[1;32m    295\u001b[0m M \u001b[38;5;241m=\u001b[39m \u001b[38;5;28mself\u001b[39m\u001b[38;5;241m.\u001b[39m_y[:,\u001b[38;5;28;01mNone\u001b[39;00m] \u001b[38;5;241m*\u001b[39m sigma \u001b[38;5;241m+\u001b[39m mhat \u001b[38;5;241m-\u001b[39m x \u001b[38;5;241m-\u001b[39m k \u001b[38;5;241m-\u001b[39m mu\n\u001b[1;32m    296\u001b[0m \u001b[38;5;66;03m#df = df_analytic(m0,b,M+x+k+mu,sigma)\u001b[39;00m\n\u001b[0;32m--> 297\u001b[0m df \u001b[38;5;241m=\u001b[39m \u001b[43mdf_analytic_m_max\u001b[49m\u001b[43m(\u001b[49m\u001b[43mmhat\u001b[49m\u001b[38;5;241;43m.\u001b[39;49m\u001b[43mmax\u001b[49m\u001b[43m(\u001b[49m\u001b[43m)\u001b[49m\u001b[43m,\u001b[49m\u001b[43mm0\u001b[49m\u001b[43m,\u001b[49m\u001b[43mb\u001b[49m\u001b[43m,\u001b[49m\u001b[43mM\u001b[49m\u001b[38;5;241;43m+\u001b[39;49m\u001b[43mx\u001b[49m\u001b[38;5;241;43m+\u001b[39;49m\u001b[43mk\u001b[49m\u001b[38;5;241;43m+\u001b[39;49m\u001b[43mmu\u001b[49m\u001b[43m,\u001b[49m\u001b[43msigma\u001b[49m\u001b[43m)\u001b[49m\n\u001b[1;32m    298\u001b[0m \u001b[38;5;66;03m#Lmin = 0.2\u001b[39;00m\n\u001b[1;32m    299\u001b[0m Lmin \u001b[38;5;241m=\u001b[39m abs_mag_to_L(mhat\u001b[38;5;241m.\u001b[39mmax()\u001b[38;5;241m-\u001b[39mk\u001b[38;5;241m.\u001b[39mmean()\u001b[38;5;241m-\u001b[39mmu\u001b[38;5;241m.\u001b[39mmean()\u001b[38;5;241m-\u001b[39mx)\u001b[38;5;241m/\u001b[39m\u001b[38;5;28mself\u001b[39m\u001b[38;5;241m.\u001b[39mL_star\n",
      "File \u001b[0;32m/global/u1/z/zhaozhon/DESI-ZTF-2/fitting.py:277\u001b[0m, in \u001b[0;36mdf_analytic_m_max\u001b[0;34m(m_max, m0, b, mbar, sigma)\u001b[0m\n\u001b[1;32m    275\u001b[0m coeff1 \u001b[38;5;241m=\u001b[39m \u001b[38;5;241m1\u001b[39m\u001b[38;5;241m/\u001b[39m(\u001b[38;5;241m2\u001b[39m\u001b[38;5;241m*\u001b[39msigma\u001b[38;5;241m*\u001b[39m\u001b[38;5;241m*\u001b[39m\u001b[38;5;241m2\u001b[39m)\n\u001b[1;32m    276\u001b[0m coeff2 \u001b[38;5;241m=\u001b[39m jnp\u001b[38;5;241m.\u001b[39mlog(\u001b[38;5;241m10\u001b[39m)\u001b[38;5;241m*\u001b[39mb\u001b[38;5;241m/\u001b[39m\u001b[38;5;241m2.5\u001b[39m\n\u001b[0;32m--> 277\u001b[0m term1 \u001b[38;5;241m=\u001b[39m \u001b[43mjax\u001b[49m\u001b[38;5;241;43m.\u001b[39;49m\u001b[43mscipy\u001b[49m\u001b[38;5;241;43m.\u001b[39;49m\u001b[43mstats\u001b[49m\u001b[38;5;241;43m.\u001b[39;49m\u001b[43mnorm\u001b[49m\u001b[38;5;241;43m.\u001b[39;49m\u001b[43mcdf\u001b[49m\u001b[43m(\u001b[49m\u001b[43mm0\u001b[49m\u001b[43m,\u001b[49m\u001b[43mmbar\u001b[49m\u001b[43m,\u001b[49m\u001b[43msigma\u001b[49m\u001b[43m)\u001b[49m\n\u001b[1;32m    278\u001b[0m term2 \u001b[38;5;241m=\u001b[39m \u001b[38;5;241m10\u001b[39m\u001b[38;5;241m*\u001b[39m\u001b[38;5;241m*\u001b[39m(b\u001b[38;5;241m/\u001b[39m\u001b[38;5;241m2.5\u001b[39m\u001b[38;5;241m*\u001b[39m(m0\u001b[38;5;241m-\u001b[39mmbar))\u001b[38;5;241m/\u001b[39m(jnp\u001b[38;5;241m.\u001b[39msqrt(\u001b[38;5;241m2\u001b[39m)\u001b[38;5;241m*\u001b[39msigma)\u001b[38;5;241m*\u001b[39mjnp\u001b[38;5;241m.\u001b[39mexp(coeff2\u001b[38;5;241m*\u001b[39m\u001b[38;5;241m*\u001b[39m\u001b[38;5;241m2\u001b[39m\u001b[38;5;241m/\u001b[39m\u001b[38;5;241m4\u001b[39m\u001b[38;5;241m/\u001b[39mcoeff1)\u001b[38;5;241m*\u001b[39mjax\u001b[38;5;241m.\u001b[39mscipy\u001b[38;5;241m.\u001b[39mspecial\u001b[38;5;241m.\u001b[39merf((\u001b[38;5;241m2\u001b[39m\u001b[38;5;241m*\u001b[39mcoeff1\u001b[38;5;241m*\u001b[39m(m_max\u001b[38;5;241m-\u001b[39mmbar)\u001b[38;5;241m+\u001b[39mcoeff2)\u001b[38;5;241m/\u001b[39m\u001b[38;5;241m2\u001b[39m\u001b[38;5;241m/\u001b[39mjnp\u001b[38;5;241m.\u001b[39msqrt(coeff1))\u001b[38;5;241m/\u001b[39m\u001b[38;5;241m2\u001b[39m\u001b[38;5;241m/\u001b[39mjnp\u001b[38;5;241m.\u001b[39msqrt(coeff1)\n\u001b[1;32m    279\u001b[0m term3 \u001b[38;5;241m=\u001b[39m \u001b[38;5;241m10\u001b[39m\u001b[38;5;241m*\u001b[39m\u001b[38;5;241m*\u001b[39m(b\u001b[38;5;241m/\u001b[39m\u001b[38;5;241m2.5\u001b[39m\u001b[38;5;241m*\u001b[39m(m0\u001b[38;5;241m-\u001b[39mmbar))\u001b[38;5;241m/\u001b[39m(jnp\u001b[38;5;241m.\u001b[39msqrt(\u001b[38;5;241m2\u001b[39m)\u001b[38;5;241m*\u001b[39msigma)\u001b[38;5;241m*\u001b[39mjnp\u001b[38;5;241m.\u001b[39mexp(coeff2\u001b[38;5;241m*\u001b[39m\u001b[38;5;241m*\u001b[39m\u001b[38;5;241m2\u001b[39m\u001b[38;5;241m/\u001b[39m\u001b[38;5;241m4\u001b[39m\u001b[38;5;241m/\u001b[39mcoeff1)\u001b[38;5;241m*\u001b[39mjax\u001b[38;5;241m.\u001b[39mscipy\u001b[38;5;241m.\u001b[39mspecial\u001b[38;5;241m.\u001b[39merf((\u001b[38;5;241m2\u001b[39m\u001b[38;5;241m*\u001b[39mcoeff1\u001b[38;5;241m*\u001b[39m(m0\u001b[38;5;241m-\u001b[39mmbar)\u001b[38;5;241m+\u001b[39mcoeff2)\u001b[38;5;241m/\u001b[39m\u001b[38;5;241m2\u001b[39m\u001b[38;5;241m/\u001b[39mjnp\u001b[38;5;241m.\u001b[39msqrt(coeff1))\u001b[38;5;241m/\u001b[39m\u001b[38;5;241m2\u001b[39m\u001b[38;5;241m/\u001b[39mjnp\u001b[38;5;241m.\u001b[39msqrt(coeff1)\n",
      "File \u001b[0;32m~/.local/perlmutter/pytorch2.0.1/lib/python3.9/site-packages/jax/_src/scipy/stats/norm.py:125\u001b[0m, in \u001b[0;36mcdf\u001b[0;34m(x, loc, scale)\u001b[0m\n\u001b[1;32m     94\u001b[0m \u001b[38;5;250m\u001b[39m\u001b[38;5;124mr\u001b[39m\u001b[38;5;124;03m\"\"\"Normal cumulative distribution function.\u001b[39;00m\n\u001b[1;32m     95\u001b[0m \n\u001b[1;32m     96\u001b[0m \u001b[38;5;124;03mJAX implementation of :obj:`scipy.stats.norm` ``cdf``.\u001b[39;00m\n\u001b[0;32m   (...)\u001b[0m\n\u001b[1;32m    122\u001b[0m \u001b[38;5;124;03m  - :func:`jax.scipy.stats.norm.ppf`\u001b[39;00m\n\u001b[1;32m    123\u001b[0m \u001b[38;5;124;03m\"\"\"\u001b[39;00m\n\u001b[1;32m    124\u001b[0m x, loc, scale \u001b[38;5;241m=\u001b[39m promote_args_inexact(\u001b[38;5;124m\"\u001b[39m\u001b[38;5;124mnorm.cdf\u001b[39m\u001b[38;5;124m\"\u001b[39m, x, loc, scale)\n\u001b[0;32m--> 125\u001b[0m \u001b[38;5;28;01mreturn\u001b[39;00m \u001b[43mspecial\u001b[49m\u001b[38;5;241;43m.\u001b[39;49m\u001b[43mndtr\u001b[49m\u001b[43m(\u001b[49m\u001b[43mlax\u001b[49m\u001b[38;5;241;43m.\u001b[39;49m\u001b[43mdiv\u001b[49m\u001b[43m(\u001b[49m\u001b[43mlax\u001b[49m\u001b[38;5;241;43m.\u001b[39;49m\u001b[43msub\u001b[49m\u001b[43m(\u001b[49m\u001b[43mx\u001b[49m\u001b[43m,\u001b[49m\u001b[43m \u001b[49m\u001b[43mloc\u001b[49m\u001b[43m)\u001b[49m\u001b[43m,\u001b[49m\u001b[43m \u001b[49m\u001b[43mscale\u001b[49m\u001b[43m)\u001b[49m\u001b[43m)\u001b[49m\n",
      "File \u001b[0;32m~/.local/perlmutter/pytorch2.0.1/lib/python3.9/site-packages/jax/_src/scipy/special.py:905\u001b[0m, in \u001b[0;36mndtr\u001b[0;34m(x)\u001b[0m\n\u001b[1;32m    901\u001b[0m \u001b[38;5;28;01mif\u001b[39;00m dtype \u001b[38;5;129;01mnot\u001b[39;00m \u001b[38;5;129;01min\u001b[39;00m (jnp\u001b[38;5;241m.\u001b[39mfloat32, jnp\u001b[38;5;241m.\u001b[39mfloat64):\n\u001b[1;32m    902\u001b[0m   \u001b[38;5;28;01mraise\u001b[39;00m \u001b[38;5;167;01mTypeError\u001b[39;00m(\n\u001b[1;32m    903\u001b[0m       \u001b[38;5;124m\"\u001b[39m\u001b[38;5;124mx.dtype=\u001b[39m\u001b[38;5;132;01m{}\u001b[39;00m\u001b[38;5;124m is not supported, see docstring for supported types.\u001b[39m\u001b[38;5;124m\"\u001b[39m\n\u001b[1;32m    904\u001b[0m       \u001b[38;5;241m.\u001b[39mformat(dtype))\n\u001b[0;32m--> 905\u001b[0m \u001b[38;5;28;01mreturn\u001b[39;00m \u001b[43m_ndtr\u001b[49m\u001b[43m(\u001b[49m\u001b[43mx\u001b[49m\u001b[43m)\u001b[49m\n",
      "File \u001b[0;32m~/.local/perlmutter/pytorch2.0.1/lib/python3.9/site-packages/jax/_src/scipy/special.py:915\u001b[0m, in \u001b[0;36m_ndtr\u001b[0;34m(x)\u001b[0m\n\u001b[1;32m    912\u001b[0m w \u001b[38;5;241m=\u001b[39m x \u001b[38;5;241m*\u001b[39m half_sqrt_2\n\u001b[1;32m    913\u001b[0m z \u001b[38;5;241m=\u001b[39m lax\u001b[38;5;241m.\u001b[39mabs(w)\n\u001b[1;32m    914\u001b[0m y \u001b[38;5;241m=\u001b[39m lax\u001b[38;5;241m.\u001b[39mselect(lax\u001b[38;5;241m.\u001b[39mlt(z, half_sqrt_2),\n\u001b[0;32m--> 915\u001b[0m                     dtype(\u001b[38;5;241m1.\u001b[39m) \u001b[38;5;241m+\u001b[39m \u001b[43mlax\u001b[49m\u001b[38;5;241;43m.\u001b[39;49m\u001b[43merf\u001b[49m\u001b[43m(\u001b[49m\u001b[43mw\u001b[49m\u001b[43m)\u001b[49m,\n\u001b[1;32m    916\u001b[0m                     lax\u001b[38;5;241m.\u001b[39mselect(lax\u001b[38;5;241m.\u001b[39mgt(w, dtype(\u001b[38;5;241m0.\u001b[39m)),\n\u001b[1;32m    917\u001b[0m                                     dtype(\u001b[38;5;241m2.\u001b[39m) \u001b[38;5;241m-\u001b[39m lax\u001b[38;5;241m.\u001b[39merfc(z),\n\u001b[1;32m    918\u001b[0m                                     lax\u001b[38;5;241m.\u001b[39merfc(z)))\n\u001b[1;32m    919\u001b[0m \u001b[38;5;28;01mreturn\u001b[39;00m dtype(\u001b[38;5;241m0.5\u001b[39m) \u001b[38;5;241m*\u001b[39m y\n",
      "File \u001b[0;32m~/.local/perlmutter/pytorch2.0.1/lib/python3.9/site-packages/jax/_src/lax/special.py:90\u001b[0m, in \u001b[0;36merf\u001b[0;34m(x)\u001b[0m\n\u001b[1;32m     88\u001b[0m \u001b[38;5;28;01mdef\u001b[39;00m \u001b[38;5;21merf\u001b[39m(x: ArrayLike) \u001b[38;5;241m-\u001b[39m\u001b[38;5;241m>\u001b[39m Array:\n\u001b[1;32m     89\u001b[0m \u001b[38;5;250m  \u001b[39m\u001b[38;5;124mr\u001b[39m\u001b[38;5;124;03m\"\"\"Elementwise error function: :math:`\\mathrm{erf}(x)`.\"\"\"\u001b[39;00m\n\u001b[0;32m---> 90\u001b[0m   \u001b[38;5;28;01mreturn\u001b[39;00m \u001b[43merf_p\u001b[49m\u001b[38;5;241;43m.\u001b[39;49m\u001b[43mbind\u001b[49m\u001b[43m(\u001b[49m\u001b[43mx\u001b[49m\u001b[43m)\u001b[49m\n",
      "File \u001b[0;32m~/.local/perlmutter/pytorch2.0.1/lib/python3.9/site-packages/jax/_src/core.py:416\u001b[0m, in \u001b[0;36mPrimitive.bind\u001b[0;34m(self, *args, **params)\u001b[0m\n\u001b[1;32m    413\u001b[0m \u001b[38;5;28;01mdef\u001b[39;00m \u001b[38;5;21mbind\u001b[39m(\u001b[38;5;28mself\u001b[39m, \u001b[38;5;241m*\u001b[39margs, \u001b[38;5;241m*\u001b[39m\u001b[38;5;241m*\u001b[39mparams):\n\u001b[1;32m    414\u001b[0m   \u001b[38;5;28;01massert\u001b[39;00m (\u001b[38;5;129;01mnot\u001b[39;00m config\u001b[38;5;241m.\u001b[39menable_checks\u001b[38;5;241m.\u001b[39mvalue \u001b[38;5;129;01mor\u001b[39;00m\n\u001b[1;32m    415\u001b[0m           \u001b[38;5;28mall\u001b[39m(\u001b[38;5;28misinstance\u001b[39m(arg, Tracer) \u001b[38;5;129;01mor\u001b[39;00m valid_jaxtype(arg) \u001b[38;5;28;01mfor\u001b[39;00m arg \u001b[38;5;129;01min\u001b[39;00m args)), args\n\u001b[0;32m--> 416\u001b[0m   \u001b[38;5;28;01mreturn\u001b[39;00m \u001b[38;5;28;43mself\u001b[39;49m\u001b[38;5;241;43m.\u001b[39;49m\u001b[43mbind_with_trace\u001b[49m\u001b[43m(\u001b[49m\u001b[43mfind_top_trace\u001b[49m\u001b[43m(\u001b[49m\u001b[43margs\u001b[49m\u001b[43m)\u001b[49m\u001b[43m,\u001b[49m\u001b[43m \u001b[49m\u001b[43margs\u001b[49m\u001b[43m,\u001b[49m\u001b[43m \u001b[49m\u001b[43mparams\u001b[49m\u001b[43m)\u001b[49m\n",
      "File \u001b[0;32m~/.local/perlmutter/pytorch2.0.1/lib/python3.9/site-packages/jax/_src/core.py:420\u001b[0m, in \u001b[0;36mPrimitive.bind_with_trace\u001b[0;34m(self, trace, args, params)\u001b[0m\n\u001b[1;32m    418\u001b[0m \u001b[38;5;28;01mdef\u001b[39;00m \u001b[38;5;21mbind_with_trace\u001b[39m(\u001b[38;5;28mself\u001b[39m, trace, args, params):\n\u001b[1;32m    419\u001b[0m   \u001b[38;5;28;01mwith\u001b[39;00m pop_level(trace\u001b[38;5;241m.\u001b[39mlevel):\n\u001b[0;32m--> 420\u001b[0m     out \u001b[38;5;241m=\u001b[39m \u001b[43mtrace\u001b[49m\u001b[38;5;241;43m.\u001b[39;49m\u001b[43mprocess_primitive\u001b[49m\u001b[43m(\u001b[49m\u001b[38;5;28;43mself\u001b[39;49m\u001b[43m,\u001b[49m\u001b[43m \u001b[49m\u001b[38;5;28;43mmap\u001b[39;49m\u001b[43m(\u001b[49m\u001b[43mtrace\u001b[49m\u001b[38;5;241;43m.\u001b[39;49m\u001b[43mfull_raise\u001b[49m\u001b[43m,\u001b[49m\u001b[43m \u001b[49m\u001b[43margs\u001b[49m\u001b[43m)\u001b[49m\u001b[43m,\u001b[49m\u001b[43m \u001b[49m\u001b[43mparams\u001b[49m\u001b[43m)\u001b[49m\n\u001b[1;32m    421\u001b[0m   \u001b[38;5;28;01mreturn\u001b[39;00m \u001b[38;5;28mmap\u001b[39m(full_lower, out) \u001b[38;5;28;01mif\u001b[39;00m \u001b[38;5;28mself\u001b[39m\u001b[38;5;241m.\u001b[39mmultiple_results \u001b[38;5;28;01melse\u001b[39;00m full_lower(out)\n",
      "File \u001b[0;32m~/.local/perlmutter/pytorch2.0.1/lib/python3.9/site-packages/jax/_src/core.py:921\u001b[0m, in \u001b[0;36mEvalTrace.process_primitive\u001b[0;34m(self, primitive, tracers, params)\u001b[0m\n\u001b[1;32m    919\u001b[0m   \u001b[38;5;28;01mreturn\u001b[39;00m call_impl_with_key_reuse_checks(primitive, primitive\u001b[38;5;241m.\u001b[39mimpl, \u001b[38;5;241m*\u001b[39mtracers, \u001b[38;5;241m*\u001b[39m\u001b[38;5;241m*\u001b[39mparams)\n\u001b[1;32m    920\u001b[0m \u001b[38;5;28;01melse\u001b[39;00m:\n\u001b[0;32m--> 921\u001b[0m   \u001b[38;5;28;01mreturn\u001b[39;00m \u001b[43mprimitive\u001b[49m\u001b[38;5;241;43m.\u001b[39;49m\u001b[43mimpl\u001b[49m\u001b[43m(\u001b[49m\u001b[38;5;241;43m*\u001b[39;49m\u001b[43mtracers\u001b[49m\u001b[43m,\u001b[49m\u001b[43m \u001b[49m\u001b[38;5;241;43m*\u001b[39;49m\u001b[38;5;241;43m*\u001b[39;49m\u001b[43mparams\u001b[49m\u001b[43m)\u001b[49m\n",
      "File \u001b[0;32m~/.local/perlmutter/pytorch2.0.1/lib/python3.9/site-packages/jax/_src/dispatch.py:87\u001b[0m, in \u001b[0;36mapply_primitive\u001b[0;34m(prim, *args, **params)\u001b[0m\n\u001b[1;32m     85\u001b[0m prev \u001b[38;5;241m=\u001b[39m lib\u001b[38;5;241m.\u001b[39mjax_jit\u001b[38;5;241m.\u001b[39mswap_thread_local_state_disable_jit(\u001b[38;5;28;01mFalse\u001b[39;00m)\n\u001b[1;32m     86\u001b[0m \u001b[38;5;28;01mtry\u001b[39;00m:\n\u001b[0;32m---> 87\u001b[0m   outs \u001b[38;5;241m=\u001b[39m \u001b[43mfun\u001b[49m\u001b[43m(\u001b[49m\u001b[38;5;241;43m*\u001b[39;49m\u001b[43margs\u001b[49m\u001b[43m)\u001b[49m\n\u001b[1;32m     88\u001b[0m \u001b[38;5;28;01mfinally\u001b[39;00m:\n\u001b[1;32m     89\u001b[0m   lib\u001b[38;5;241m.\u001b[39mjax_jit\u001b[38;5;241m.\u001b[39mswap_thread_local_state_disable_jit(prev)\n",
      "    \u001b[0;31m[... skipping hidden 10 frame]\u001b[0m\n",
      "File \u001b[0;32m~/.local/perlmutter/pytorch2.0.1/lib/python3.9/site-packages/jax/_src/interpreters/pxla.py:1253\u001b[0m, in \u001b[0;36mExecuteReplicated.__call__\u001b[0;34m(self, *args)\u001b[0m\n\u001b[1;32m   1251\u001b[0m   \u001b[38;5;28mself\u001b[39m\u001b[38;5;241m.\u001b[39m_handle_token_bufs(result_token_bufs, sharded_runtime_token)\n\u001b[1;32m   1252\u001b[0m \u001b[38;5;28;01melse\u001b[39;00m:\n\u001b[0;32m-> 1253\u001b[0m   results \u001b[38;5;241m=\u001b[39m \u001b[38;5;28;43mself\u001b[39;49m\u001b[38;5;241;43m.\u001b[39;49m\u001b[43mxla_executable\u001b[49m\u001b[38;5;241;43m.\u001b[39;49m\u001b[43mexecute_sharded\u001b[49m\u001b[43m(\u001b[49m\u001b[43minput_bufs\u001b[49m\u001b[43m)\u001b[49m\n\u001b[1;32m   1255\u001b[0m \u001b[38;5;28;01mif\u001b[39;00m dispatch\u001b[38;5;241m.\u001b[39mneeds_check_special():\n\u001b[1;32m   1256\u001b[0m   out_arrays \u001b[38;5;241m=\u001b[39m results\u001b[38;5;241m.\u001b[39mdisassemble_into_single_device_arrays()\n",
      "\u001b[0;31mXlaRuntimeError\u001b[0m: RESOURCE_EXHAUSTED: Out of memory while trying to allocate 126196000 bytes."
     ]
    }
   ],
   "source": [
    "initial_guess = [18.826109855329346,0.5023055585762686,0.1,0.16]\n",
    "bounds = [(15,22),(0,1),(-1,2),(0.16,0.16)]\n",
    "\n",
    "result = minimize(\n",
    "    neg_likelihood, \n",
    "    initial_guess, \n",
    "    args=(apr_mag_r, k_rr, d_desi, apr_mag_r_err), \n",
    "    method='L-BFGS-B',\n",
    "    bounds=bounds,\n",
    "    options={'ftol': 1e-8, 'gtol': 1e-6, 'maxiter': 3000}\n",
    ")\n",
    "\n",
    "optimal_params = result.x\n",
    "optimal_likelihood = -result.fun  \n",
    "\n",
    "print(f\"Optimal parameters: m0 = {optimal_params[0]}, b = {optimal_params[1]}, x = {optimal_params[2]},fraction = {optimal_params[3]}\")\n",
    "print(f\"Maximum likelihood value: {optimal_likelihood}\")"
   ]
  },
  {
   "cell_type": "code",
   "execution_count": null,
   "id": "36950507-ba1f-4b66-8b18-808860d76146",
   "metadata": {},
   "outputs": [],
   "source": [
    "fitting.integral_Lmin_Lmax(Lmin, jnp.inf, beta, alpha)"
   ]
  },
  {
   "cell_type": "code",
   "execution_count": null,
   "id": "73840685-5af8-4195-bb24-9370cf4222f4",
   "metadata": {
    "tags": []
   },
   "outputs": [],
   "source": [
    "params = [18.613685598951363,35,18.613685598951363,0.16]\n",
    "neg_likelihood(params,apr_mag_r, k_rr, d_desi, apr_mag_r_err)"
   ]
  },
  {
   "cell_type": "code",
   "execution_count": null,
   "id": "8be6877c-c313-44ab-8b77-31e26379fee7",
   "metadata": {},
   "outputs": [],
   "source": [
    "'''\n",
    "params = [16.0259,0.45,1.85]\n",
    "neg_likelihood(params,apr_mag_r,k_rr,d_desi,apr_mag_r_err)\n",
    "'''"
   ]
  },
  {
   "cell_type": "code",
   "execution_count": null,
   "id": "a2fa3e20-fd1e-44b0-b7d8-5d310f68fcff",
   "metadata": {
    "tags": []
   },
   "outputs": [],
   "source": [
    "import numpy as np\n",
    "import matplotlib.pyplot as plt\n",
    "from tqdm import tqdm\n",
    "\n",
    "# Define the parameter grid for m0 and b\n",
    "x_values = np.linspace(-5, 5, 10)\n",
    "#m0_values = np.linspace(1.5, 2.5, 10)\n",
    "b_values = np.linspace(1, 10, 10)\n",
    "\n",
    "# Calculate likelihoods for a fixed x\n",
    "#x_fixed = 1.7\n",
    "m0_fixed = 18\n",
    "#b_fixed = 0.5\n",
    "likelihoods = np.zeros((len(x_values), len(b_values)))\n",
    "\n",
    "for i, x in enumerate(tqdm(x_values)):\n",
    "    for j, b in enumerate(b_values):\n",
    "        params = [m0_fixed, b, x]\n",
    "        likelihoods[i, j] = neg_likelihood(params,apr_mag_r, k_rr, d_desi, apr_mag_r_err)\n",
    "\n",
    "# Create a heatmap\n",
    "plt.figure(figsize=(8, 6))\n",
    "plt.contourf(x_values, b_values, likelihoods.T, levels=50, cmap='viridis')\n",
    "plt.colorbar(label='Negative Log-Likelihood')\n",
    "plt.xlabel('$x$')\n",
    "plt.ylabel('$b$')\n",
    "plt.title('Negative Log-Likelihood Heatmap ($x$ fixed)')\n",
    "plt.show()"
   ]
  },
  {
   "cell_type": "code",
   "execution_count": null,
   "id": "8eb998d7-5abe-4b88-9319-6feebd3e253d",
   "metadata": {},
   "outputs": [],
   "source": [
    "params = [18.358572258469366,0.5762614390624853,1.85]\n",
    "neg_likelihood(params,apr_mag_r, k_rr, d_desi, apr_mag_r_err)"
   ]
  }
 ],
 "metadata": {
  "kernelspec": {
   "display_name": "pytorch-2.0.1",
   "language": "python",
   "name": "pytorch-2.0.1"
  },
  "language_info": {
   "codemirror_mode": {
    "name": "ipython",
    "version": 3
   },
   "file_extension": ".py",
   "mimetype": "text/x-python",
   "name": "python",
   "nbconvert_exporter": "python",
   "pygments_lexer": "ipython3",
   "version": "3.9.16"
  }
 },
 "nbformat": 4,
 "nbformat_minor": 5
}
