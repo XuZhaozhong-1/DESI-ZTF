{
 "cells": [
  {
   "cell_type": "code",
   "execution_count": 1,
   "id": "dc3cf998",
   "metadata": {},
   "outputs": [],
   "source": [
    "import torch\n",
    "from torch.utils.data import Dataset,DataLoader\n",
    "import pandas as pd"
   ]
  },
  {
   "cell_type": "code",
   "execution_count": 2,
   "id": "efd62008",
   "metadata": {},
   "outputs": [],
   "source": [
    "class CustomDataset(Dataset):\n",
    "    def __init__(self, data_path):\n",
    "        # Load data from the file\n",
    "        self.data = pd.read_csv(data_path)  # Assuming data is stored in a CSV file\n",
    "\n",
    "    def __len__(self):\n",
    "        # Return the total number of samples in the dataset\n",
    "        return len(self.data)\n",
    "\n",
    "    def __getitem__(self, idx):\n",
    "        sample = self.data.iloc[idx]  # each row is a sample\n",
    "\n",
    "        # Extract data from the sample \n",
    "        targetid = torch.tensor(sample['Targetid'], dtype=torch.float32)\n",
    "        f_g = torch.tensor(sample['f_g'], dtype=torch.float32)\n",
    "        df_g = torch.tensor(sample['df_g'], dtype=torch.float32)\n",
    "        f_r = torch.tensor(sample['f_r'], dtype=torch.float32)\n",
    "        df_r = torch.tensor(sample['df_r'], dtype=torch.float32)\n",
    "        f_i = torch.tensor(sample['f_i'], dtype=torch.float32)\n",
    "        df_i = torch.tensor(sample['df_i'], dtype=torch.float32)\n",
    "        # Return the data as a dictionary\n",
    "        return (targetid, f_g, df_g, \n",
    "        f_r, df_r,  \n",
    "        f_i, df_i)"
   ]
  },
  {
   "cell_type": "code",
   "execution_count": 3,
   "id": "0948cfe1",
   "metadata": {},
   "outputs": [
    {
     "name": "stdout",
     "output_type": "stream",
     "text": [
      "(tensor(3.9628e+16), tensor(1.9428e-08), tensor(7.9995e-11), tensor(2.0066e-08), tensor(9.4192e-11), tensor(2.1486e-08), tensor(4.7231e-10))\n"
     ]
    }
   ],
   "source": [
    "data_path = 'weighted_average.csv'  # Replace with the path to your data file\n",
    "\n",
    "dataset = CustomDataset(data_path)\n",
    "print(dataset.__getitem__(4))"
   ]
  },
  {
   "cell_type": "code",
   "execution_count": 23,
   "id": "d71f3f0d",
   "metadata": {},
   "outputs": [
    {
     "name": "stdout",
     "output_type": "stream",
     "text": [
      "torch.Size([100])\n",
      "torch.Size([100])\n",
      "torch.Size([100])\n",
      "torch.Size([100])\n",
      "torch.Size([100])\n",
      "torch.Size([100])\n",
      "torch.Size([100])\n",
      "torch.Size([100])\n",
      "torch.Size([100])\n",
      "torch.Size([100])\n",
      "torch.Size([100])\n",
      "torch.Size([100])\n",
      "torch.Size([100])\n",
      "torch.Size([100])\n",
      "torch.Size([100])\n",
      "torch.Size([100])\n",
      "torch.Size([100])\n",
      "torch.Size([100])\n",
      "torch.Size([100])\n",
      "torch.Size([100])\n",
      "torch.Size([100])\n",
      "torch.Size([100])\n",
      "torch.Size([100])\n",
      "torch.Size([100])\n",
      "torch.Size([100])\n"
     ]
    }
   ],
   "source": [
    "dataloader = DataLoader(dataset, batch_size=100, shuffle=True)\n",
    "for x in dataloader:\n",
    "    print(x[1].shape)"
   ]
  },
  {
   "cell_type": "code",
   "execution_count": null,
   "id": "9a8d57e9",
   "metadata": {},
   "outputs": [],
   "source": []
  }
 ],
 "metadata": {
  "kernelspec": {
   "display_name": "NERSC Python",
   "language": "python",
   "name": "python3"
  },
  "language_info": {
   "codemirror_mode": {
    "name": "ipython",
    "version": 3
   },
   "file_extension": ".py",
   "mimetype": "text/x-python",
   "name": "python",
   "nbconvert_exporter": "python",
   "pygments_lexer": "ipython3",
   "version": "3.11.7"
  }
 },
 "nbformat": 4,
 "nbformat_minor": 5
}
