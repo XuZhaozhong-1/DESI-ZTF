{
 "cells": [
  {
   "cell_type": "code",
   "execution_count": 2,
   "id": "3b7a9fdf-31d4-47ce-b88f-182587184411",
   "metadata": {
    "tags": []
   },
   "outputs": [],
   "source": [
    "import astropy.io.fits as fits\n",
    "import numpy as np"
   ]
  },
  {
   "cell_type": "code",
   "execution_count": 3,
   "id": "6d912947-e824-42b9-8847-170f80b3345d",
   "metadata": {
    "tags": []
   },
   "outputs": [
    {
     "name": "stdout",
     "output_type": "stream",
     "text": [
      "SIMPLE  =                    T / file does conform to FITS standard             BITPIX  =                   16 / number of bits per data pixel                  NAXIS   =                    0 / number of data axes                            EXTEND  =                    T / FITS dataset may contain extensions            COMMENT   FITS (Flexible Image Transport System) format is defined in 'AstronomyCOMMENT   and Astrophysics', volume 376, page 359; bibcode: 2001A&A...376..359H END                                                                                                                                                                                                                                                                                                                                                                                                                                                                                                                                                                                                                                                                                                                                                                                                                                                                                                                                                                                                                                                                                                                                                                                                                                                                                                                                                                                                                                                                                                                                                                                                                                                                                                                                                                                                                                                                                                                                                                                                                                                                                                                                                                                                                                                                                                                                                                                                                                                                                             \n",
      "(39627322701125813, 2.4135134081128453, 0.0007881399478596003, 0, 'QSO', 0, 21.876410751633088, -19.44134382450835, 'PSF', 0.021745786, 1.0404271, 0.79295945, 1.1701401, 1.8388494, 4.011698, 3097.9585, 2523.1482, 247.8632, 3.2532415, 0.6995529, 0.9297874618929417, 0.9297874618929417, 0.9297874618929417, 0.9297874618929417, 0.9297874618929417, 0.9915455330610276, 0, 4611686018428305446, 67108864, 1, 1153.1862, 0, 0, 0, 0, 0, 0, 0, 96.182755, 25.479666, 5.7600193, 0.17223372, -22.337849, 0.16564664, 0.0042333105, 98.91459, 0.00072688505, 2.4135134, 2.4119883, 0.9999362, 0.9999354, 0.99999964, 0.99998367, 8.704516e-05, 9.314838e-06, 2.4136655, 2.4137702, 2.4119883, 2.4129138, 0.86643136, -0.25520292, 10, 16725, 'main', 'dark', 98.51915, 71.64956, 20211031, 59519.27405421, 20211031, 59519.27405421, 59519.27405421)\n"
     ]
    }
   ],
   "source": [
    "# Specify the path to the FITS file\n",
    "fits_file_path = './QSO_cat_iron_main_dark_healpix_v0.fits'\n",
    "\n",
    "# Open the FITS file\n",
    "hdul = fits.open(fits_file_path)\n",
    "\n",
    "# Access the data\n",
    "data = hdul[1].data\n",
    "header = hdul[0].header\n",
    "print(header)\n",
    "print(data[0])"
   ]
  },
  {
   "cell_type": "markdown",
   "id": "15c8fd81-3c04-40ea-b638-8521f0ce67a9",
   "metadata": {},
   "source": [
    "## "
   ]
  }
 ],
 "metadata": {
  "kernelspec": {
   "display_name": "NERSC Python",
   "language": "python",
   "name": "python3"
  },
  "language_info": {
   "codemirror_mode": {
    "name": "ipython",
    "version": 3
   },
   "file_extension": ".py",
   "mimetype": "text/x-python",
   "name": "python",
   "nbconvert_exporter": "python",
   "pygments_lexer": "ipython3",
   "version": "3.11.7"
  }
 },
 "nbformat": 4,
 "nbformat_minor": 5
}
