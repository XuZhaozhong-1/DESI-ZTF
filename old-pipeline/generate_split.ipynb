{
 "cells": [
  {
   "cell_type": "code",
   "execution_count": null,
   "id": "d2963860-96de-468c-97c0-e4333014ae27",
   "metadata": {},
   "outputs": [],
   "source": [
    "'''\n",
    "    This code generates a train-test-validation split based on the ZTF light curves found at \n",
    "    \n",
    "    /global/cfs/projectdirs/desi/users/akim/Projects/QSO_Distance/data/lc/*\"\n",
    "    \n",
    "    and the DESI data found at \n",
    "    \n",
    "    /global/cfs/projectdirs/desi/users/akim/Projects/QSO_Distance/data/dates.hdf5\n",
    "    \n",
    "    which were the initial datasets given to us by Dr. Kim at the start of the project. We note \n",
    "    that each dataset has the same 1,271,420 targetIDs, which we split into training/validation/test\n",
    "    subsets in a 60-20-20 ratio, which are saved in train_split.json.\n",
    "    \n",
    "    Additionally, we consider the DESI dataset located at \n",
    "    \n",
    "    /pscratch/sd/r/raichoor/desi-ztf-qso/\n",
    "    \n",
    "    which has 1,237,825 targetIDs, of which 1,040,800 overlap with the targetIDs in the original dataset.\n",
    "'''"
   ]
  },
  {
   "cell_type": "code",
   "execution_count": 1,
   "id": "5457a425-b2dc-44ef-b019-843f1b02a648",
   "metadata": {
    "tags": []
   },
   "outputs": [],
   "source": [
    "import h5py\n",
    "import json\n",
    "import random\n",
    "import numpy as np\n",
    "import glob\n",
    "from tqdm import tqdm\n",
    "import pandas as pd"
   ]
  },
  {
   "cell_type": "code",
   "execution_count": 1,
   "id": "a5c273e9-7d40-493c-a936-b7fa9251a966",
   "metadata": {
    "tags": []
   },
   "outputs": [],
   "source": [
    "# get LC data from ZTF"
   ]
  },
  {
   "cell_type": "code",
   "execution_count": 31,
   "id": "6dbbf223-5824-465f-9b59-c049da44116c",
   "metadata": {
    "tags": []
   },
   "outputs": [
    {
     "name": "stderr",
     "output_type": "stream",
     "text": [
      "100%|██████████| 1174/1174 [00:40<00:00, 29.04it/s]\n"
     ]
    }
   ],
   "source": [
    "lc_path = \"/global/cfs/projectdirs/desi/users/akim/Projects/QSO_Distance/data/lc/*\"\n",
    "paths = glob.glob(lc_path)\n",
    "\n",
    "keys = []\n",
    "for path in tqdm(paths):\n",
    "    desi_data = h5py.File(path, 'r')\n",
    "    for key in desi_data.keys():\n",
    "        keys.append(int(key))"
   ]
  },
  {
   "cell_type": "code",
   "execution_count": 32,
   "id": "ca54b8e9-96fd-468d-8cef-6edc78684f45",
   "metadata": {
    "tags": []
   },
   "outputs": [
    {
     "name": "stdout",
     "output_type": "stream",
     "text": [
      "1271420\n"
     ]
    }
   ],
   "source": [
    "key_set = set(keys)\n",
    "print(len(key_set))"
   ]
  },
  {
   "cell_type": "code",
   "execution_count": null,
   "id": "cc19247e-df2d-4232-aaba-26b8346dffe9",
   "metadata": {},
   "outputs": [],
   "source": [
    "#get DESI info from dates file"
   ]
  },
  {
   "cell_type": "code",
   "execution_count": 3,
   "id": "c60243f3-309f-4526-b160-8f1d40797836",
   "metadata": {
    "tags": []
   },
   "outputs": [],
   "source": [
    "dates = pd.read_hdf(\"/global/cfs/projectdirs/desi/users/akim/Projects/QSO_Distance/data/dates.hdf5\")"
   ]
  },
  {
   "cell_type": "code",
   "execution_count": 33,
   "id": "a935c01b-92ba-4065-ad32-d0cd1bca38a3",
   "metadata": {
    "tags": []
   },
   "outputs": [
    {
     "data": {
      "text/plain": [
       "1271420"
      ]
     },
     "execution_count": 33,
     "metadata": {},
     "output_type": "execute_result"
    }
   ],
   "source": [
    "DESI_date_keys = list(dates[\"targetid\"])\n",
    "DESI_date_keys_set = set(DESI_date_keys)\n",
    "len(DESI_date_keys_set)"
   ]
  },
  {
   "cell_type": "markdown",
   "id": "588237b8-3282-4eaa-9589-2831adcb396a",
   "metadata": {
    "tags": []
   },
   "source": [
    "## New DESI dataset"
   ]
  },
  {
   "cell_type": "code",
   "execution_count": 15,
   "id": "53f9977d-8d41-4d46-8780-05f03aa4914f",
   "metadata": {
    "tags": []
   },
   "outputs": [
    {
     "name": "stdout",
     "output_type": "stream",
     "text": [
      "reading /pscratch/sd/t/thomaslu/desi-ztf-qso-iron-pernight-summary.fits done (took 2.7s)\n"
     ]
    }
   ],
   "source": [
    "#load all of the fits files\n",
    "import fitsio\n",
    "import os\n",
    "from time import time\n",
    "ardir = os.path.join(os.getenv(\"PSCRATCH\", \"/pscratch/sd/r/raichoor/desi-ztf-qso/\"))\n",
    "sumfn = os.path.join(ardir, \"desi-ztf-qso-iron-pernight-summary.fits\")\n",
    "\n",
    "def get_ws(ardir):\n",
    "    fn = sorted(\n",
    "        glob.glob(os.path.join(ardir, \"pernight-spectra\",\"desi-ztf-qso-iron-*-*.fits\"))\n",
    "    )[0]\n",
    "    ws = fitsio.read(fn, \"BRZ_WAVE\")\n",
    "    return ws\n",
    "\n",
    "ws = get_ws(ardir)\n",
    "nwave = len(ws)\n",
    "\n",
    "start = time()\n",
    "d = fitsio.read(sumfn, \"FIBERMAP\")\n",
    "\n",
    "print(\"reading {} done (took {:.1f}s)\".format(sumfn, time() - start))"
   ]
  },
  {
   "cell_type": "code",
   "execution_count": 35,
   "id": "1e59be4f-94fd-4eb8-b067-ef223007a643",
   "metadata": {
    "tags": []
   },
   "outputs": [
    {
     "data": {
      "text/plain": [
       "1237825"
      ]
     },
     "execution_count": 35,
     "metadata": {},
     "output_type": "execute_result"
    }
   ],
   "source": [
    "new_desi_keys = list(d[\"TARGETID\"])\n",
    "new_desi_keys_set = set(d[\"TARGETID\"])\n",
    "len(new_desi_keys_set)"
   ]
  },
  {
   "cell_type": "code",
   "execution_count": 34,
   "id": "18c80c85-fc74-4598-8d4a-8c68d970ffc4",
   "metadata": {
    "tags": []
   },
   "outputs": [
    {
     "data": {
      "text/plain": [
       "1271420"
      ]
     },
     "execution_count": 34,
     "metadata": {},
     "output_type": "execute_result"
    }
   ],
   "source": [
    "len(DESI_date_keys_set.union(key_set))\n",
    "## original DESI and ZTF have perfect overlap, size 1271420"
   ]
  },
  {
   "cell_type": "code",
   "execution_count": 36,
   "id": "c7306dc7-db20-4548-92cf-0907c97cbb63",
   "metadata": {
    "tags": []
   },
   "outputs": [
    {
     "data": {
      "text/plain": [
       "1468445"
      ]
     },
     "execution_count": 36,
     "metadata": {},
     "output_type": "execute_result"
    }
   ],
   "source": [
    "len(new_desi_keys_set.union(key_set))\n",
    "#original dataset and fits dataset are disjoint, combined size 1468445"
   ]
  },
  {
   "cell_type": "code",
   "execution_count": 38,
   "id": "93865b2d-b534-4b13-8ffb-3b80c3ed8608",
   "metadata": {
    "tags": []
   },
   "outputs": [
    {
     "name": "stdout",
     "output_type": "stream",
     "text": [
      "overlap: 1040800\n"
     ]
    }
   ],
   "source": [
    "print(f\"overlap: {1237825+1271420-1468445}\")"
   ]
  },
  {
   "cell_type": "markdown",
   "id": "e20767cb-516a-4806-ae1a-02b87fcd9bcf",
   "metadata": {},
   "source": [
    "## Make the split"
   ]
  },
  {
   "cell_type": "code",
   "execution_count": 38,
   "id": "ed2e9070-3fd6-405e-9002-730dfc0900c3",
   "metadata": {
    "tags": []
   },
   "outputs": [],
   "source": [
    "from sklearn.model_selection import train_test_split\n",
    "\n",
    "numpy.random.seed(42)\n",
    "train_targets, test = train_test_split(keys, test_size = 0.4)\n",
    "test_targets, val_targets = train_test_split(test, test_size = 0.5)"
   ]
  },
  {
   "cell_type": "code",
   "execution_count": 39,
   "id": "5f779ed0-59a6-4561-bc53-5ecbf500c0ee",
   "metadata": {
    "tags": []
   },
   "outputs": [
    {
     "name": "stdout",
     "output_type": "stream",
     "text": [
      "0.5999995539157001\n",
      "0.20000022304214995\n",
      "0.20000022304214995\n"
     ]
    }
   ],
   "source": [
    "print(len(train_targets)/len(keys))\n",
    "print(len(test_targets)/len(keys))\n",
    "print(len(val_targets)/len(keys))"
   ]
  },
  {
   "cell_type": "code",
   "execution_count": 41,
   "id": "84de2fd7-9321-4ecb-81da-51d6224fb110",
   "metadata": {
    "tags": []
   },
   "outputs": [],
   "source": [
    "train_test_split = {\"train\": train_targets, \"test\": test_targets, \"validation\": val_targets}\n",
    "json_d = json.dumps(train_test_split)\n",
    "with open(\"train_split.json\", \"w\") as f:\n",
    "    f.write(json_d)"
   ]
  }
 ],
 "metadata": {
  "kernelspec": {
   "display_name": "pytorch-1.13.1",
   "language": "python",
   "name": "pytorch-1.13.1"
  },
  "language_info": {
   "codemirror_mode": {
    "name": "ipython",
    "version": 3
   },
   "file_extension": ".py",
   "mimetype": "text/x-python",
   "name": "python",
   "nbconvert_exporter": "python",
   "pygments_lexer": "ipython3",
   "version": "3.9.15"
  }
 },
 "nbformat": 4,
 "nbformat_minor": 5
}
