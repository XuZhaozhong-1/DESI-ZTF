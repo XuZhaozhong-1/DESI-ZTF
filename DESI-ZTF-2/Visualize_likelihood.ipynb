{
 "cells": [
  {
   "cell_type": "code",
   "execution_count": 1,
   "id": "84befa82-ba13-43b6-b2e4-bc1dc40bdf0f",
   "metadata": {
    "tags": []
   },
   "outputs": [
    {
     "name": "stderr",
     "output_type": "stream",
     "text": [
      "2024-11-04 07:14:17.290055: W external/xla/xla/service/gpu/nvptx_compiler.cc:765] The NVIDIA driver's CUDA version is 12.2 which is older than the ptxas CUDA version (12.4.131). Because the driver is older than the ptxas version, XLA is disabling parallel compilation, which may slow down compilation. You should update your NVIDIA driver or use the NVIDIA-provided CUDA forward compatibility packages.\n"
     ]
    }
   ],
   "source": [
    "import numpy as np\n",
    "import numpyro\n",
    "import numpyro.distributions as dist\n",
    "from jax import random\n",
    "from numpyro.infer import MCMC, HMC,NUTS\n",
    "import fitsio\n",
    "import matplotlib as mpl\n",
    "from multiprocessing import Pool\n",
    "from scipy.stats import dirichlet\n",
    "from astropy.table import Table\n",
    "from astropy.io import fits\n",
    "import fitsio\n",
    "from astropy.cosmology import Planck18\n",
    "import jax.numpy as jnp\n",
    "import matplotlib.pyplot as plt\n",
    "from numpyro import handlers \n",
    "from jax import random, jit\n",
    "import jax\n",
    "from fitting import abs_mag_to_L,get_lfpars_shen20,T0,T1,T2,get_lfpars,get_phis,integral,integral_Lmin_Lmax\n",
    "from jax import random, vmap\n",
    "from jax.scipy.stats import norm\n",
    "import numpyro.distributions as dist\n",
    "from jax.scipy.special import gammaln\n",
    "from astropy.cosmology import WMAP9 as cosmo\n",
    "from scipy.optimize import curve_fit, brentq\n",
    "import fitting\n",
    "from scipy.optimize import minimize"
   ]
  },
  {
   "cell_type": "code",
   "execution_count": 2,
   "id": "6e838f0a-6aaf-41d7-be3b-1aaefbac224e",
   "metadata": {},
   "outputs": [],
   "source": [
    "jax.config.update(\"jax_enable_x64\", True)"
   ]
  },
  {
   "cell_type": "code",
   "execution_count": 3,
   "id": "dbe1c440-7816-4534-be4e-cecc547e13f3",
   "metadata": {
    "tags": []
   },
   "outputs": [],
   "source": [
    "k = Table.read('/pscratch/sd/z/zhaozhon/DATASET/DESI-data/k.csv',format='csv')\n",
    "indice = np.isnan(k['k_rr']) | np.isinf(k['k_rr'])\n",
    "#k_gg = k['k_gg'][~indice]\n",
    "k_rr = k['k_rr'][~indice]"
   ]
  },
  {
   "cell_type": "code",
   "execution_count": 4,
   "id": "9258e0df-c7c7-4c66-9242-e68018f0f518",
   "metadata": {
    "tags": []
   },
   "outputs": [],
   "source": [
    "file = '/pscratch/sd/z/zhaozhon/DATASET/DESI-data/new_d.fits'\n",
    "d = Table(fitsio.read(file))\n",
    "SEL = np.where((d['Z'] > 2.3) & (d['Z'] < 2.8))[0]\n",
    "TARGETID = d['TARGETID'][SEL][~indice]\n",
    "#apr_mag_g = d['APP_MAG_G'][SEL][~indice]\n",
    "#apr_mag_g_err = d['APP_MAGERR_G'][SEL][~indice]\n",
    "apr_mag_r = d['APP_MAG_R'][SEL][~indice]\n",
    "apr_mag_r_err = d['APP_MAGERR_R'][SEL][~indice]\n",
    "z_desi = d['Z'][SEL][~indice]"
   ]
  },
  {
   "cell_type": "code",
   "execution_count": 5,
   "id": "75238390-f0f6-42e7-b6ae-02799cc233da",
   "metadata": {
    "tags": []
   },
   "outputs": [],
   "source": [
    "d_desi = Planck18.distmod(z_desi).value"
   ]
  },
  {
   "cell_type": "code",
   "execution_count": 6,
   "id": "614154df-ac64-4406-834b-de4703d118b8",
   "metadata": {
    "tags": []
   },
   "outputs": [],
   "source": [
    "TARGETID, indices = np.unique(TARGETID, return_index=True)\n",
    "#apr_mag_g = apr_mag_g[indices]\n",
    "#apr_mag_g_err = apr_mag_g_err[indices]\n",
    "apr_mag_r = apr_mag_r[indices]\n",
    "apr_mag_r_err = apr_mag_r_err[indices]\n",
    "d_desi = d_desi[indices]\n",
    "z_desi = z_desi[indices]\n",
    "#k_gg = k_gg[indices]\n",
    "k_rr = k_rr[indices]"
   ]
  },
  {
   "cell_type": "code",
   "execution_count": 7,
   "id": "5e97458d-8bc5-4884-9021-362b028693db",
   "metadata": {
    "tags": []
   },
   "outputs": [
    {
     "name": "stdout",
     "output_type": "stream",
     "text": [
      "42124\n"
     ]
    }
   ],
   "source": [
    "# Assuming z_desi is your redshift array\n",
    "filter_mask = (z_desi > 2.3) & (z_desi < 2.4)\n",
    "\n",
    "# Apply the filter to all arrays\n",
    "TARGETID = TARGETID[filter_mask]\n",
    "#apr_mag_g = apr_mag_g[filter_mask]\n",
    "#apr_mag_g_err = apr_mag_g_err[filter_mask]\n",
    "apr_mag_r = apr_mag_r[filter_mask]\n",
    "apr_mag_r_err = apr_mag_r_err[filter_mask]\n",
    "d_desi = d_desi[filter_mask]\n",
    "z_desi = z_desi[filter_mask]\n",
    "#k_gg = k_gg[filter_mask]\n",
    "k_rr = k_rr[filter_mask]\n",
    "\n",
    "# Recalculate N_obs after filtering\n",
    "N_obs = TARGETID.shape[0]\n",
    "print(N_obs)"
   ]
  },
  {
   "cell_type": "code",
   "execution_count": 8,
   "id": "1aec7ce8-8446-4255-aa40-64c4c9e6df91",
   "metadata": {
    "tags": []
   },
   "outputs": [],
   "source": [
    "apr_mag_r = apr_mag_r.astype(np.float64)\n",
    "apr_mag_r_err = apr_mag_r_err.astype(np.float64)\n",
    "k_rr = k_rr.astype(np.float64)\n",
    "\n",
    "d_desi = d_desi.astype(np.float64)\n",
    "z_desi = z_desi.astype(np.float64)"
   ]
  },
  {
   "cell_type": "code",
   "execution_count": 9,
   "id": "32ea450b-31d3-46b4-a468-41cdfcb9992a",
   "metadata": {
    "tags": []
   },
   "outputs": [],
   "source": [
    "def eff(m,b,m0):\n",
    "    eff = jnp.where(m < m0, 1, 10**(-b*(m-m0)/2.5))\n",
    "    return eff\n",
    "\n",
    "ln_posterior = fitting.ln_posterior(eff)\n",
    "\n",
    "def neg_likelihood(params,apr_mag,k,mu,apr_mag_err):\n",
    "    m0,b,x = params\n",
    "    log_likelihood = ln_posterior(m0, b, x, apr_mag, k, mu, apr_mag_err)\n",
    "    #log_likelihood = ln_posterior(m0, b, x, apr_mag, k, mu, apr_mag_err,0.07977749883319056)\n",
    "    return -log_likelihood"
   ]
  },
  {
   "cell_type": "code",
   "execution_count": 10,
   "id": "b1af3e6d-c21f-4895-b3c1-517fa3dd4b15",
   "metadata": {
    "tags": []
   },
   "outputs": [
    {
     "name": "stdout",
     "output_type": "stream",
     "text": [
      "first term -61307.06723835925\n",
      "Poisson term 406399.79733187373\n",
      "N_obs 40599.67827884669\n",
      "first term -61307.067238361866\n",
      "Poisson term 406399.79733887635\n",
      "N_obs 40599.67846535885\n",
      "first term -61307.06723838961\n",
      "Poisson term 406399.7972839627\n",
      "N_obs 40599.67700275918\n",
      "first term -61307.06730886444\n",
      "Poisson term 406399.7973200255\n",
      "N_obs 40599.67796327607\n",
      "first term -58895.19779796658\n",
      "Poisson term -10262.50499917753\n",
      "N_obs 568432.3637647843\n",
      "first term -58895.19779796658\n",
      "Poisson term -10262.504999177414\n",
      "N_obs 568432.3637647842\n",
      "first term -58895.1977980119\n",
      "Poisson term -10262.497701563523\n",
      "N_obs 568432.3558830931\n",
      "first term -58895.197780289745\n",
      "Poisson term -10262.502555900253\n",
      "N_obs 568432.3611259551\n",
      "first term -61043.90717546378\n",
      "Poisson term 406387.0045435049\n",
      "N_obs 44011.29504884044\n",
      "first term -61043.907175464024\n",
      "Poisson term 406387.00453501655\n",
      "N_obs 44011.29524678708\n",
      "first term -61043.907175495995\n",
      "Poisson term 406387.00460197206\n",
      "N_obs 44011.29368539824\n",
      "first term -61043.9072424188\n",
      "Poisson term 406387.00455799693\n",
      "N_obs 44011.29471089035\n",
      "first term -60706.45307144143\n",
      "Poisson term 406323.5228329334\n",
      "N_obs 45161.78217784525\n",
      "first term -60706.453071445605\n",
      "Poisson term 406323.52281897113\n",
      "N_obs 45161.78238541682\n",
      "first term -60706.45307147647\n",
      "Poisson term 406323.5229248387\n",
      "N_obs 45161.780811515324\n",
      "first term -60706.45313366219\n",
      "Poisson term 406323.52285621164\n",
      "N_obs 45161.7818317731\n",
      "first term -59037.862779182105\n",
      "Poisson term 405819.8171951623\n",
      "N_obs 49693.555430153836\n",
      "first term -59037.86277917962\n",
      "Poisson term 405819.81715299503\n",
      "N_obs 49693.55570697894\n",
      "first term -59037.862779232426\n",
      "Poisson term 405819.81738491124\n",
      "N_obs 49693.554184466404\n",
      "first term -59037.862813279084\n",
      "Poisson term 405819.8172541483\n",
      "N_obs 49693.555042915366\n",
      "first term -58731.582371248354\n",
      "Poisson term 406135.61340227607\n",
      "N_obs 47284.5325013379\n",
      "first term -58731.58237125\n",
      "Poisson term 406135.6133709417\n",
      "N_obs 47284.53278844531\n",
      "first term -58731.58237130242\n",
      "Poisson term 406135.6135245315\n",
      "N_obs 47284.531381144225\n",
      "first term -58731.58239852976\n",
      "Poisson term 406135.61344347696\n",
      "N_obs 47284.53212382452\n",
      "first term -58345.18194631842\n",
      "Poisson term 406401.4724690373\n",
      "N_obs 43638.458005169145\n",
      "first term -58345.18194630921\n",
      "Poisson term 406401.4724585102\n",
      "N_obs 43638.45830850146\n",
      "first term -58345.18194637829\n",
      "Poisson term 406401.47250127414\n",
      "N_obs 43638.457076275416\n",
      "first term -58345.1819628228\n",
      "Poisson term 406401.47248171584\n",
      "N_obs 43638.45763984132\n",
      "first term -58130.54672332357\n",
      "Poisson term 406377.30710536515\n",
      "N_obs 44225.80685174572\n",
      "first term -58130.54672332296\n",
      "Poisson term 406377.3070893439\n",
      "N_obs 44225.80718886201\n",
      "first term -58130.54672338806\n",
      "Poisson term 406377.3071445801\n",
      "N_obs 44225.806026593564\n",
      "first term -58130.54673041476\n",
      "Poisson term 406377.30712359824\n",
      "N_obs 44225.80646808987\n",
      "first term -58081.29171976708\n",
      "Poisson term 406410.147360065\n",
      "N_obs 40907.41494718291\n",
      "first term -58081.29171976492\n",
      "Poisson term 406410.1473698401\n",
      "N_obs 40907.415275867395\n",
      "first term -58081.291719833855\n",
      "Poisson term 406410.147337954\n",
      "N_obs 40907.41420370671\n",
      "first term -58081.291722332244\n",
      "Poisson term 406410.14734923077\n",
      "N_obs 40907.414582883604\n",
      "first term -58073.413691097914\n",
      "Poisson term 406427.8886844457\n",
      "N_obs 42244.68650960112\n",
      "first term -58073.41369110937\n",
      "Poisson term 406427.88868345885\n",
      "N_obs 42244.68685502518\n",
      "first term -58073.41369116574\n",
      "Poisson term 406427.8886865298\n",
      "N_obs 42244.6857800732\n",
      "first term -58073.413691441805\n",
      "Poisson term 406427.8886855281\n",
      "N_obs 42244.68613076218\n",
      "first term -58073.30159735739\n",
      "Poisson term 406428.05718930316\n",
      "N_obs 42142.47636107793\n",
      "first term -58073.3015973641\n",
      "Poisson term 406428.05718915176\n",
      "N_obs 42142.47670640578\n",
      "first term -58073.30159742526\n",
      "Poisson term 406428.0571896216\n",
      "N_obs 42142.47563466636\n",
      "first term -58073.30159750669\n",
      "Poisson term 406428.057189469\n",
      "N_obs 42142.475982732954\n",
      "first term -58073.282539988526\n",
      "Poisson term 406428.0612381054\n",
      "N_obs 42124.41549110145\n",
      "first term -58073.282539992586\n",
      "Poisson term 406428.0612381021\n",
      "N_obs 42124.41583669222\n",
      "first term -58073.28254005646\n",
      "Poisson term 406428.0612381126\n",
      "N_obs 42124.41476623098\n",
      "first term -58073.28254001746\n",
      "Poisson term 406428.0612381092\n",
      "N_obs 42124.41511269776\n",
      "first term -58073.282225734394\n",
      "Poisson term 406428.06123552856\n",
      "N_obs 42123.37571728703\n",
      "first term -58073.28222573045\n",
      "Poisson term 406428.0612355336\n",
      "N_obs 42123.3760628515\n",
      "first term -58073.28222580231\n",
      "Poisson term 406428.0612355178\n",
      "N_obs 42123.37499234506\n",
      "first term -58073.28222576558\n",
      "Poisson term 406428.0612355229\n",
      "N_obs 42123.37533890355\n",
      "Optimal parameters: m0 = 18.3823765357708, b = 0.9502828744931451, x = 0.7786015806136055\n",
      "Maximum likelihood value: 348354.7790097942\n"
     ]
    }
   ],
   "source": [
    "initial_guess = [18,0.5,1.85]\n",
    "bounds = [(0,20),(0,1),(0,3)]\n",
    "\n",
    "result = minimize(\n",
    "    neg_likelihood, \n",
    "    initial_guess, \n",
    "    args=(apr_mag_r, k_rr, d_desi, apr_mag_r_err), \n",
    "    method='L-BFGS-B',\n",
    "    bounds=bounds\n",
    ")\n",
    "\n",
    "optimal_params = result.x\n",
    "optimal_likelihood = -result.fun  \n",
    "\n",
    "print(f\"Optimal parameters: m0 = {optimal_params[0]}, b = {optimal_params[1]}, x = {optimal_params[2]}\")\n",
    "print(f\"Maximum likelihood value: {optimal_likelihood}\")"
   ]
  },
  {
   "cell_type": "code",
   "execution_count": 11,
   "id": "8be6877c-c313-44ab-8b77-31e26379fee7",
   "metadata": {},
   "outputs": [
    {
     "data": {
      "text/plain": [
       "'\\nparams = [16.0259,0.45,1.85]\\nneg_likelihood(params,apr_mag_r,k_rr,d_desi,apr_mag_r_err)\\n'"
      ]
     },
     "execution_count": 11,
     "metadata": {},
     "output_type": "execute_result"
    }
   ],
   "source": [
    "'''\n",
    "params = [16.0259,0.45,1.85]\n",
    "neg_likelihood(params,apr_mag_r,k_rr,d_desi,apr_mag_r_err)\n",
    "'''"
   ]
  },
  {
   "cell_type": "code",
   "execution_count": 12,
   "id": "a2fa3e20-fd1e-44b0-b7d8-5d310f68fcff",
   "metadata": {
    "tags": []
   },
   "outputs": [
    {
     "name": "stderr",
     "output_type": "stream",
     "text": [
      "  0%|          | 0/10 [00:00<?, ?it/s]"
     ]
    },
    {
     "name": "stdout",
     "output_type": "stream",
     "text": [
      "first term -65230.53561968019\n",
      "Poisson term -176098.57065534522\n",
      "N_obs 745702.7682316359\n",
      "first term -65238.885615129235\n",
      "Poisson term 76478.95518184023\n",
      "N_obs 474041.73412395746\n",
      "first term -65248.822814121384\n",
      "Poisson term 138740.19629615103\n",
      "N_obs 405167.2142328471\n",
      "first term -65260.07551556732\n",
      "Poisson term 165989.513734303\n",
      "N_obs 374615.3740993578\n",
      "first term -65272.42154282258\n",
      "Poisson term 181244.33236433525\n",
      "N_obs 357376.04038588546\n",
      "first term -65285.688893586834\n",
      "Poisson term 190989.9172652478\n",
      "N_obs 346304.8510161458\n",
      "first term -65299.75605444235\n",
      "Poisson term 197752.43027056888\n",
      "N_obs 338593.77386482136\n",
      "first term -65314.55206622639\n",
      "Poisson term 202719.01548838103\n",
      "N_obs 332914.66614332027\n",
      "first term -65330.05645780962\n",
      "Poisson term 206520.91350158304\n",
      "N_obs 328557.85821499175\n"
     ]
    },
    {
     "name": "stderr",
     "output_type": "stream",
     "text": [
      " 10%|█         | 1/10 [00:07<01:06,  7.44s/it]"
     ]
    },
    {
     "name": "stdout",
     "output_type": "stream",
     "text": [
      "first term -65346.29911629672\n",
      "Poisson term 209524.65963699302\n",
      "N_obs 325109.69056371594\n",
      "first term -64583.972722670835\n",
      "Poisson term 62869.90766104532\n",
      "N_obs 488955.6309547407\n",
      "first term -64592.322649213485\n",
      "Poisson term 222259.77591531735\n",
      "N_obs 310427.9966461358\n",
      "first term -64602.259779348984\n",
      "Poisson term 260877.84526570782\n",
      "N_obs 265172.3676980926\n",
      "first term -64613.51241200802\n",
      "Poisson term 277634.4647267046\n",
      "N_obs 245100.01143242442\n",
      "first term -64625.858370564696\n",
      "Poisson term 286966.7523373905\n",
      "N_obs 233774.9443360187\n",
      "first term -64639.12565273578\n",
      "Poisson term 292907.98996535625\n",
      "N_obs 226502.45873423695\n",
      "first term -64653.19274511935\n",
      "Poisson term 297020.3198877939\n",
      "N_obs 221437.47154967586\n",
      "first term -64667.98868856729\n",
      "Poisson term 300034.8157596108\n",
      "N_obs 217707.35133329156\n",
      "first term -64683.4930119638\n",
      "Poisson term 302338.977619287\n",
      "N_obs 214845.84911537007\n"
     ]
    },
    {
     "name": "stderr",
     "output_type": "stream",
     "text": [
      " 20%|██        | 2/10 [00:14<00:57,  7.16s/it]"
     ]
    },
    {
     "name": "stdout",
     "output_type": "stream",
     "text": [
      "first term -64699.73560242635\n",
      "Poisson term 304157.243841142\n",
      "N_obs 212581.20635754906\n",
      "first term -63586.99740449668\n",
      "Poisson term 217999.6328508003\n",
      "N_obs 315350.9219762357\n",
      "first term -63595.346741079265\n",
      "Poisson term 315641.95494763926\n",
      "N_obs 198131.18990362834\n",
      "first term -63605.28328168052\n",
      "Poisson term 338483.72987365525\n",
      "N_obs 168454.1249776509\n",
      "first term -63616.53532540257\n",
      "Poisson term 348209.27006191167\n",
      "N_obs 155305.08322412125\n",
      "first term -63628.880695778316\n",
      "Poisson term 353561.98850797414\n",
      "N_obs 147892.15986069734\n",
      "first term -63642.14739067113\n",
      "Poisson term 356942.0025071155\n",
      "N_obs 143134.8536537921\n",
      "first term -63656.213896814384\n",
      "Poisson term 359267.5776606146\n",
      "N_obs 139823.22992381343\n",
      "first term -63671.00925518503\n",
      "Poisson term 360964.5200749522\n",
      "N_obs 137385.36265156209\n",
      "first term -63686.512994783625\n",
      "Poisson term 362256.9045259466\n",
      "N_obs 135515.81714031848\n"
     ]
    },
    {
     "name": "stderr",
     "output_type": "stream",
     "text": [
      " 30%|███       | 3/10 [00:21<00:50,  7.21s/it]"
     ]
    },
    {
     "name": "stdout",
     "output_type": "stream",
     "text": [
      "first term -63702.75500283669\n",
      "Poisson term 363273.7619655025\n",
      "N_obs 134036.64240594767\n",
      "first term -62072.42154768429\n",
      "Poisson term 325273.8785712627\n",
      "N_obs 185790.22173465908\n",
      "first term -62080.76584838708\n",
      "Poisson term 379363.17257398035\n",
      "N_obs 109386.58308567996\n",
      "first term -62090.697356738354\n",
      "Poisson term 390401.9507718277\n",
      "N_obs 90244.68164448452\n",
      "first term -62101.94437330682\n",
      "Poisson term 394690.32304833445\n",
      "N_obs 81836.55543835505\n",
      "first term -62114.284722983444\n",
      "Poisson term 396902.86454929865\n",
      "N_obs 77127.65756079754\n",
      "first term -62127.54640488579\n",
      "Poisson term 398234.4587244978\n",
      "N_obs 74121.19647219442\n",
      "first term -62141.60790690426\n",
      "Poisson term 399117.24813206564\n",
      "N_obs 72036.90447214886\n",
      "first term -62156.39827108558\n",
      "Poisson term 399742.64226229955\n",
      "N_obs 70507.62901456111\n",
      "first term -62171.89702742537\n",
      "Poisson term 400207.59924128064\n",
      "N_obs 69338.07471871102\n"
     ]
    },
    {
     "name": "stderr",
     "output_type": "stream",
     "text": [
      " 40%|████      | 4/10 [00:28<00:42,  7.07s/it]"
     ]
    },
    {
     "name": "stdout",
     "output_type": "stream",
     "text": [
      "first term -62188.13406408299\n",
      "Poisson term 400566.1799174065\n",
      "N_obs 68414.85694427551\n",
      "first term -59981.410819656165\n",
      "Poisson term 391197.3150638821\n",
      "N_obs 88741.99455552445\n",
      "first term -59989.71302636919\n",
      "Poisson term 406421.95697905\n",
      "N_obs 41410.93626397733\n",
      "first term -59999.602470805214\n",
      "Poisson term 404409.39859626873\n",
      "N_obs 30392.573845051775\n",
      "first term -60010.80746597\n",
      "Poisson term 402124.13051620376\n",
      "N_obs 25836.531932413243\n",
      "first term -60023.105848269435\n",
      "Poisson term 400387.50618152536\n",
      "N_obs 23399.213452356344\n",
      "first term -60036.32562745258\n",
      "Poisson term 399094.70807169593\n",
      "N_obs 21897.035093037062\n",
      "first term -60050.34530121487\n",
      "Poisson term 398112.6459800869\n",
      "N_obs 20884.225581164934\n",
      "first term -60065.0939206663\n",
      "Poisson term 397347.5956616138\n",
      "N_obs 20157.645773431817\n",
      "first term -60080.55102423059\n",
      "Poisson term 396737.4926919614\n",
      "N_obs 19612.191277663795\n"
     ]
    },
    {
     "name": "stderr",
     "output_type": "stream",
     "text": [
      " 50%|█████     | 5/10 [00:35<00:35,  7.12s/it]"
     ]
    },
    {
     "name": "stdout",
     "output_type": "stream",
     "text": [
      "first term -60096.74650796705\n",
      "Poisson term 396240.9256155824\n",
      "N_obs 19188.282252545658\n",
      "first term -58159.397357917005\n",
      "Poisson term 405577.11974505306\n",
      "N_obs 34214.5326022762\n",
      "first term -58167.37478648737\n",
      "Poisson term 377092.42390678375\n",
      "N_obs 9729.708763915962\n",
      "first term -58176.93968793807\n",
      "Poisson term 356759.9208072276\n",
      "N_obs 5420.596808488131\n",
      "first term -58187.820477472975\n",
      "Poisson term 345315.67389468744\n",
      "N_obs 3993.4093062237916\n",
      "first term -58199.79508610524\n",
      "Poisson term 338442.3210977859\n",
      "N_obs 3339.97618436571\n",
      "first term -58212.69161088408\n",
      "Poisson term 333983.16745169676\n",
      "N_obs 2978.8359990249583\n",
      "first term -58226.38862994492\n",
      "Poisson term 330896.10342938686\n",
      "N_obs 2753.5744836987938\n",
      "first term -58240.81526866715\n",
      "Poisson term 328646.26552593475\n",
      "N_obs 2600.9223206978204\n",
      "first term -58255.95113445947\n",
      "Poisson term 326939.1353035449\n",
      "N_obs 2491.122008477768\n"
     ]
    },
    {
     "name": "stderr",
     "output_type": "stream",
     "text": [
      " 60%|██████    | 6/10 [00:43<00:29,  7.42s/it]"
     ]
    },
    {
     "name": "stdout",
     "output_type": "stream",
     "text": [
      "first term -58271.82618797791\n",
      "Poisson term 325601.75258166017\n",
      "N_obs 2408.5484256980517\n",
      "first term -60169.130059298586\n",
      "Poisson term 382474.3780708484\n",
      "N_obs 11541.661943404275\n",
      "first term -60174.94288394478\n",
      "Poisson term 310712.6910401064\n",
      "N_obs 1661.6920338469931\n",
      "first term -60182.34490733678\n",
      "Poisson term 270144.0241094569\n",
      "N_obs 618.784049712998\n",
      "first term -60191.065364923066\n",
      "Poisson term 250424.28832894284\n",
      "N_obs 385.3217402026024\n",
      "first term -60200.88295342183\n",
      "Poisson term 240076.68515990017\n",
      "N_obs 300.7940380246263\n",
      "first term -60211.62648142021\n",
      "Poisson term 233960.52733643254\n",
      "N_obs 259.89055731791547\n",
      "first term -60223.1751863741\n",
      "Poisson term 229969.07769928832\n",
      "N_obs 236.26284551403384\n",
      "first term -60235.45880501259\n",
      "Poisson term 227167.84537026857\n",
      "N_obs 220.9822783715086\n",
      "first term -60248.45751423437\n",
      "Poisson term 225094.94953081023\n",
      "N_obs 210.31785138634876\n"
     ]
    },
    {
     "name": "stderr",
     "output_type": "stream",
     "text": [
      " 70%|███████   | 7/10 [00:51<00:22,  7.38s/it]"
     ]
    },
    {
     "name": "stdout",
     "output_type": "stream",
     "text": [
      "first term -60262.20180869766\n",
      "Poisson term 223499.0570620116\n",
      "N_obs 202.46111896480014\n",
      "first term -72315.53241600838\n",
      "Poisson term 339541.7651287625\n",
      "N_obs 3436.1324578162516\n",
      "first term -72310.0197917092\n",
      "Poisson term 231057.44871333204\n",
      "N_obs 242.48258772228613\n",
      "first term -72306.10567542804\n",
      "Poisson term 170699.403675029\n",
      "N_obs 57.608790021476636\n",
      "first term -72303.52513367016\n",
      "Poisson term 145196.35165877733\n",
      "N_obs 31.425683942951103\n",
      "first term -72302.06240262058\n",
      "Poisson term 133413.91425538773\n",
      "N_obs 23.75362071444727\n",
      "first term -72301.55152765181\n",
      "Poisson term 126855.03363849877\n",
      "N_obs 20.326988734650424\n",
      "first term -72301.87668127271\n",
      "Poisson term 122682.22152882088\n",
      "N_obs 18.40907521762813\n",
      "first term -72302.97224956121\n",
      "Poisson term 119788.06928219946\n",
      "N_obs 17.1862421734686\n",
      "first term -72304.82279910345\n",
      "Poisson term 117659.69802549688\n",
      "N_obs 16.33912840762946\n"
     ]
    },
    {
     "name": "stderr",
     "output_type": "stream",
     "text": [
      " 80%|████████  | 8/10 [00:58<00:14,  7.45s/it]"
     ]
    },
    {
     "name": "stdout",
     "output_type": "stream",
     "text": [
      "first term -72307.46297947955\n",
      "Poisson term 116027.11524357747\n",
      "N_obs 15.717761862495571\n",
      "first term -95614.53719588311\n",
      "Poisson term 280391.2551884515\n",
      "N_obs 792.4606185739716\n",
      "first term -95572.31519112925\n",
      "Poisson term 144656.24162185818\n",
      "N_obs 31.025023838699884\n",
      "first term -95531.68590321588\n",
      "Poisson term 66776.27788504612\n",
      "N_obs 4.880984999851588\n",
      "first term -95492.41260937059\n",
      "Poisson term 37699.17297949982\n",
      "N_obs 2.4473729931819417\n",
      "first term -95454.30687205933\n",
      "Poisson term 25466.11294708567\n",
      "N_obs 1.8305099925892874\n",
      "first term -95417.22904757474\n",
      "Poisson term 18825.53707884082\n",
      "N_obs 1.5635279104146949\n",
      "first term -95381.08852400677\n",
      "Poisson term 14627.354441359083\n",
      "N_obs 1.4152111466461812\n",
      "first term -95345.84378721064\n",
      "Poisson term 11721.671907757313\n",
      "N_obs 1.3208787521229284\n",
      "first term -95311.50240328035\n",
      "Poisson term 9586.77505396391\n",
      "N_obs 1.255601122063667\n"
     ]
    },
    {
     "name": "stderr",
     "output_type": "stream",
     "text": [
      " 90%|█████████ | 9/10 [01:05<00:07,  7.17s/it]"
     ]
    },
    {
     "name": "stdout",
     "output_type": "stream",
     "text": [
      "first term -95278.12093348386\n",
      "Poisson term 7949.992772394698\n",
      "N_obs 1.2077474528846452\n",
      "first term -114144.29566160036\n",
      "Poisson term 197519.53941863123\n",
      "N_obs 109.0264683841341\n",
      "first term -114055.53940836954\n",
      "Poisson term 48415.15887173433\n",
      "N_obs 3.1563727159952597\n",
      "first term -113968.12877797429\n",
      "Poisson term -39586.66376252621\n",
      "N_obs 0.39072324092050637\n",
      "first term -113881.87562434943\n",
      "Poisson term -70311.68226303378\n",
      "N_obs 0.18840616300494467\n",
      "first term -113796.64060870445\n",
      "Poisson term -82657.73430199464\n",
      "N_obs 0.14054259724577473\n",
      "first term -113712.33330765471\n",
      "Poisson term -89310.58399896718\n",
      "N_obs 0.12001002000793953\n",
      "first term -113628.91214586137\n",
      "Poisson term -93511.86570145011\n",
      "N_obs 0.10861819240790299\n",
      "first term -113546.38425820596\n",
      "Poisson term -96418.87814722267\n",
      "N_obs 0.10137514100175296\n",
      "first term -113464.80531740564\n",
      "Poisson term -98554.51317392796\n",
      "N_obs 0.09636364591504328\n"
     ]
    },
    {
     "name": "stderr",
     "output_type": "stream",
     "text": [
      "100%|██████████| 10/10 [01:11<00:00,  7.17s/it]"
     ]
    },
    {
     "name": "stdout",
     "output_type": "stream",
     "text": [
      "first term -113384.27927981381\n",
      "Poisson term -100191.76589251266\n",
      "N_obs 0.09269008140795497\n"
     ]
    },
    {
     "name": "stderr",
     "output_type": "stream",
     "text": [
      "\n"
     ]
    },
    {
     "data": {
      "image/png": "[encoded data removed]",
      "text/plain": [
       "<Figure size 800x600 with 2 Axes>"
      ]
     },
     "metadata": {},
     "output_type": "display_data"
    }
   ],
   "source": [
    "import numpy as np\n",
    "import matplotlib.pyplot as plt\n",
    "from tqdm import tqdm\n",
    "\n",
    "# Define the parameter grid for m0 and b\n",
    "x_values = np.linspace(-5, 5, 10)\n",
    "#m0_values = np.linspace(1.5, 2.5, 10)\n",
    "b_values = np.linspace(1, 10, 10)\n",
    "\n",
    "# Calculate likelihoods for a fixed x\n",
    "#x_fixed = 1.7\n",
    "m0_fixed = 18\n",
    "#b_fixed = 0.5\n",
    "likelihoods = np.zeros((len(x_values), len(b_values)))\n",
    "\n",
    "for i, x in enumerate(tqdm(x_values)):\n",
    "    for j, b in enumerate(b_values):\n",
    "        params = [m0_fixed, b, x]\n",
    "        likelihoods[i, j] = neg_likelihood(params,apr_mag_r, k_rr, d_desi, apr_mag_r_err)\n",
    "\n",
    "# Create a heatmap\n",
    "plt.figure(figsize=(8, 6))\n",
    "plt.contourf(x_values, b_values, likelihoods.T, levels=50, cmap='viridis')\n",
    "plt.colorbar(label='Negative Log-Likelihood')\n",
    "plt.xlabel('$x$')\n",
    "plt.ylabel('$b$')\n",
    "plt.title('Negative Log-Likelihood Heatmap ($x$ fixed)')\n",
    "plt.show()"
   ]
  },
  {
   "cell_type": "code",
   "execution_count": 13,
   "id": "8eb998d7-5abe-4b88-9319-6feebd3e253d",
   "metadata": {},
   "outputs": [
    {
     "name": "stdout",
     "output_type": "stream",
     "text": [
      "first term -61307.30133250762\n",
      "Poisson term 406282.2777231101\n",
      "N_obs 38715.94355398525\n"
     ]
    },
    {
     "data": {
      "text/plain": [
       "Array(-344974.9763906, dtype=float64)"
      ]
     },
     "execution_count": 13,
     "metadata": {},
     "output_type": "execute_result"
    }
   ],
   "source": [
    "params = [18.358572258469366,0.5762614390624853,1.85]\n",
    "neg_likelihood(params,apr_mag_r, k_rr, d_desi, apr_mag_r_err)"
   ]
  },
  {
   "cell_type": "code",
   "execution_count": null,
   "id": "5bf93190-2098-4380-a663-92c641163a8b",
   "metadata": {},
   "outputs": [],
   "source": []
  }
 ],
 "metadata": {
  "kernelspec": {
   "display_name": "pytorch-2.0.1",
   "language": "python",
   "name": "pytorch-2.0.1"
  },
  "language_info": {
   "codemirror_mode": {
    "name": "ipython",
    "version": 3
   },
   "file_extension": ".py",
   "mimetype": "text/x-python",
   "name": "python",
   "nbconvert_exporter": "python",
   "pygments_lexer": "ipython3",
   "version": "3.9.16"
  }
 },
 "nbformat": 4,
 "nbformat_minor": 5
}
