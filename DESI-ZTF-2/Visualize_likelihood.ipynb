{
 "cells": [
  {
   "cell_type": "code",
   "execution_count": 1,
   "id": "84befa82-ba13-43b6-b2e4-bc1dc40bdf0f",
   "metadata": {
    "tags": []
   },
   "outputs": [
    {
     "name": "stderr",
     "output_type": "stream",
     "text": [
      "2024-10-29 02:09:55.161391: W external/xla/xla/service/gpu/nvptx_compiler.cc:765] The NVIDIA driver's CUDA version is 12.2 which is older than the ptxas CUDA version (12.4.131). Because the driver is older than the ptxas version, XLA is disabling parallel compilation, which may slow down compilation. You should update your NVIDIA driver or use the NVIDIA-provided CUDA forward compatibility packages.\n"
     ]
    }
   ],
   "source": [
    "import numpy as np\n",
    "import numpyro\n",
    "import numpyro.distributions as dist\n",
    "from jax import random\n",
    "from numpyro.infer import MCMC, HMC,NUTS\n",
    "import fitsio\n",
    "import matplotlib as mpl\n",
    "from multiprocessing import Pool\n",
    "from scipy.stats import dirichlet\n",
    "from astropy.table import Table\n",
    "from astropy.io import fits\n",
    "import fitsio\n",
    "from astropy.cosmology import Planck18\n",
    "import jax.numpy as jnp\n",
    "import matplotlib.pyplot as plt\n",
    "from numpyro import handlers \n",
    "from jax import random, jit\n",
    "import jax\n",
    "from fitting import abs_mag_to_L,get_lfpars_shen20,T0,T1,T2,get_lfpars,get_phis,integral,integral_Lmin_Lmax\n",
    "from jax import random, vmap\n",
    "from jax.scipy.stats import norm\n",
    "import numpyro.distributions as dist\n",
    "from jax.scipy.special import gammaln\n",
    "from astropy.cosmology import WMAP9 as cosmo\n",
    "from scipy.optimize import curve_fit, brentq\n",
    "import fitting\n",
    "from scipy.optimize import minimize"
   ]
  },
  {
   "cell_type": "code",
   "execution_count": 2,
   "id": "6e838f0a-6aaf-41d7-be3b-1aaefbac224e",
   "metadata": {},
   "outputs": [],
   "source": [
    "jax.config.update(\"jax_enable_x64\", True)"
   ]
  },
  {
   "cell_type": "code",
   "execution_count": 3,
   "id": "dbe1c440-7816-4534-be4e-cecc547e13f3",
   "metadata": {
    "tags": []
   },
   "outputs": [],
   "source": [
    "k = Table.read('/pscratch/sd/z/zhaozhon/DATASET/DESI-data/k.csv',format='csv')\n",
    "indice = np.isnan(k['k_rr']) | np.isinf(k['k_rr'])\n",
    "#k_gg = k['k_gg'][~indice]\n",
    "k_rr = k['k_rr'][~indice]"
   ]
  },
  {
   "cell_type": "code",
   "execution_count": 4,
   "id": "9258e0df-c7c7-4c66-9242-e68018f0f518",
   "metadata": {
    "tags": []
   },
   "outputs": [],
   "source": [
    "file = '/pscratch/sd/z/zhaozhon/DATASET/DESI-data/new_d.fits'\n",
    "d = Table(fitsio.read(file))\n",
    "SEL = np.where((d['Z'] > 2.3) & (d['Z'] < 2.8))[0]\n",
    "TARGETID = d['TARGETID'][SEL][~indice]\n",
    "#apr_mag_g = d['APP_MAG_G'][SEL][~indice]\n",
    "#apr_mag_g_err = d['APP_MAGERR_G'][SEL][~indice]\n",
    "apr_mag_r = d['APP_MAG_R'][SEL][~indice]\n",
    "apr_mag_r_err = d['APP_MAGERR_R'][SEL][~indice]\n",
    "z_desi = d['Z'][SEL][~indice]"
   ]
  },
  {
   "cell_type": "code",
   "execution_count": 5,
   "id": "75238390-f0f6-42e7-b6ae-02799cc233da",
   "metadata": {
    "tags": []
   },
   "outputs": [],
   "source": [
    "d_desi = Planck18.distmod(z_desi).value"
   ]
  },
  {
   "cell_type": "code",
   "execution_count": 6,
   "id": "614154df-ac64-4406-834b-de4703d118b8",
   "metadata": {
    "tags": []
   },
   "outputs": [],
   "source": [
    "TARGETID, indices = np.unique(TARGETID, return_index=True)\n",
    "#apr_mag_g = apr_mag_g[indices]\n",
    "#apr_mag_g_err = apr_mag_g_err[indices]\n",
    "apr_mag_r = apr_mag_r[indices]\n",
    "apr_mag_r_err = apr_mag_r_err[indices]\n",
    "d_desi = d_desi[indices]\n",
    "z_desi = z_desi[indices]\n",
    "#k_gg = k_gg[indices]\n",
    "k_rr = k_rr[indices]"
   ]
  },
  {
   "cell_type": "code",
   "execution_count": 7,
   "id": "5e97458d-8bc5-4884-9021-362b028693db",
   "metadata": {
    "tags": []
   },
   "outputs": [
    {
     "name": "stdout",
     "output_type": "stream",
     "text": [
      "42124\n"
     ]
    }
   ],
   "source": [
    "# Assuming z_desi is your redshift array\n",
    "filter_mask = (z_desi > 2.3) & (z_desi < 2.4)\n",
    "\n",
    "# Apply the filter to all arrays\n",
    "TARGETID = TARGETID[filter_mask]\n",
    "#apr_mag_g = apr_mag_g[filter_mask]\n",
    "#apr_mag_g_err = apr_mag_g_err[filter_mask]\n",
    "apr_mag_r = apr_mag_r[filter_mask]\n",
    "apr_mag_r_err = apr_mag_r_err[filter_mask]\n",
    "d_desi = d_desi[filter_mask]\n",
    "z_desi = z_desi[filter_mask]\n",
    "#k_gg = k_gg[filter_mask]\n",
    "k_rr = k_rr[filter_mask]\n",
    "\n",
    "# Recalculate N_obs after filtering\n",
    "N_obs = TARGETID.shape[0]\n",
    "print(N_obs)"
   ]
  },
  {
   "cell_type": "code",
   "execution_count": 8,
   "id": "1aec7ce8-8446-4255-aa40-64c4c9e6df91",
   "metadata": {
    "tags": []
   },
   "outputs": [],
   "source": [
    "apr_mag_r = apr_mag_r.astype(np.float64)\n",
    "apr_mag_r_err = apr_mag_r_err.astype(np.float64)\n",
    "k_rr = k_rr.astype(np.float64)\n",
    "\n",
    "d_desi = d_desi.astype(np.float64)\n",
    "z_desi = z_desi.astype(np.float64)"
   ]
  },
  {
   "cell_type": "code",
   "execution_count": 9,
   "id": "32ea450b-31d3-46b4-a468-41cdfcb9992a",
   "metadata": {
    "tags": []
   },
   "outputs": [],
   "source": [
    "def eff(m,b,m0):\n",
    "    eff = jnp.where(m < m0, 1, 10**(-b*(m-m0)/2.5))\n",
    "    return eff\n",
    "\n",
    "ln_posterior = fitting.ln_posterior(eff)\n",
    "\n",
    "def neg_likelihood(params,apr_mag,k,mu,apr_mag_err):\n",
    "    m0,b,x = params\n",
    "    #Lmin = abs_mag_to_L(apr_mag_r.max()-k_rr.mean()-d_desi.mean()-x)/L_star\n",
    "    \n",
    "    log_likelihood = ln_posterior(m0, b, x, apr_mag, k, mu, apr_mag_err,0.0001)\n",
    "    return -log_likelihood"
   ]
  },
  {
   "cell_type": "code",
   "execution_count": 10,
   "id": "b1af3e6d-c21f-4895-b3c1-517fa3dd4b15",
   "metadata": {
    "tags": []
   },
   "outputs": [
    {
     "name": "stdout",
     "output_type": "stream",
     "text": [
      "Optimal parameters: m0 = 19.096216282010253, b = 10.0, x = 0.0\n",
      "Maximum likelihood value: 253694.3786738453\n"
     ]
    }
   ],
   "source": [
    "initial_guess = [18,0.5,1.85]\n",
    "bounds = [(0,20),(10,20),(0,3)]\n",
    "\n",
    "result = minimize(\n",
    "    neg_likelihood, \n",
    "    initial_guess, \n",
    "    args=(apr_mag_r, k_rr, d_desi, apr_mag_r_err), \n",
    "    method='L-BFGS-B',\n",
    "    bounds=bounds\n",
    ")\n",
    "\n",
    "optimal_params = result.x\n",
    "optimal_likelihood = -result.fun  \n",
    "\n",
    "print(f\"Optimal parameters: m0 = {optimal_params[0]}, b = {optimal_params[1]}, x = {optimal_params[2]}\")\n",
    "print(f\"Maximum likelihood value: {optimal_likelihood}\")"
   ]
  },
  {
   "cell_type": "code",
   "execution_count": 11,
   "id": "8be6877c-c313-44ab-8b77-31e26379fee7",
   "metadata": {},
   "outputs": [
    {
     "data": {
      "text/plain": [
       "'\\nparams = [16.0259,0.45,1.85]\\nneg_likelihood(params,apr_mag_r,k_rr,d_desi,apr_mag_r_err)\\n'"
      ]
     },
     "execution_count": 11,
     "metadata": {},
     "output_type": "execute_result"
    }
   ],
   "source": [
    "'''\n",
    "params = [16.0259,0.45,1.85]\n",
    "neg_likelihood(params,apr_mag_r,k_rr,d_desi,apr_mag_r_err)\n",
    "'''"
   ]
  },
  {
   "cell_type": "code",
   "execution_count": 12,
   "id": "a2fa3e20-fd1e-44b0-b7d8-5d310f68fcff",
   "metadata": {
    "tags": []
   },
   "outputs": [
    {
     "name": "stderr",
     "output_type": "stream",
     "text": [
      "100%|██████████| 100/100 [1:03:27<00:00, 38.08s/it]\n"
     ]
    },
    {
     "data": {
      "image/png": "[encoded data removed]",
      "text/plain": [
       "<Figure size 800x600 with 2 Axes>"
      ]
     },
     "metadata": {},
     "output_type": "display_data"
    }
   ],
   "source": [
    "import numpy as np\n",
    "import matplotlib.pyplot as plt\n",
    "from tqdm import tqdm\n",
    "\n",
    "# Define the parameter grid for m0 and b\n",
    "x_values = np.linspace(-5, 5, 100)\n",
    "#m0_values = np.linspace(1.5, 2.5, 10)\n",
    "b_values = np.linspace(0, 5, 50)\n",
    "\n",
    "# Calculate likelihoods for a fixed x\n",
    "#x_fixed = 1.7\n",
    "m0_fixed = 18\n",
    "#b_fixed = 0.5\n",
    "likelihoods = np.zeros((len(x_values), len(b_values)))\n",
    "\n",
    "for i, x in enumerate(tqdm(x_values)):\n",
    "    for j, b in enumerate(b_values):\n",
    "        params = [m0_fixed, b, x]\n",
    "        likelihoods[i, j] = neg_likelihood(params,apr_mag_r, k_rr, d_desi, apr_mag_r_err)\n",
    "\n",
    "# Create a heatmap\n",
    "plt.figure(figsize=(8, 6))\n",
    "plt.contourf(x_values, b_values, likelihoods.T, levels=50, cmap='viridis')\n",
    "plt.colorbar(label='Negative Log-Likelihood')\n",
    "plt.xlabel('$x$')\n",
    "plt.ylabel('$b$')\n",
    "plt.title('Negative Log-Likelihood Heatmap ($x$ fixed)')\n",
    "plt.show()"
   ]
  },
  {
   "cell_type": "code",
   "execution_count": null,
   "id": "8eb998d7-5abe-4b88-9319-6feebd3e253d",
   "metadata": {},
   "outputs": [],
   "source": []
  }
 ],
 "metadata": {
  "kernelspec": {
   "display_name": "pytorch-2.0.1",
   "language": "python",
   "name": "pytorch-2.0.1"
  },
  "language_info": {
   "codemirror_mode": {
    "name": "ipython",
    "version": 3
   },
   "file_extension": ".py",
   "mimetype": "text/x-python",
   "name": "python",
   "nbconvert_exporter": "python",
   "pygments_lexer": "ipython3",
   "version": "3.9.16"
  }
 },
 "nbformat": 4,
 "nbformat_minor": 5
}
