{
 "cells": [
  {
   "cell_type": "code",
   "execution_count": 1,
   "id": "58b39f90-8414-489e-9fc6-ef5eed8dfeb3",
   "metadata": {
    "tags": []
   },
   "outputs": [
    {
     "name": "stderr",
     "output_type": "stream",
     "text": [
      "2024-11-22 10:36:43.788430: W external/xla/xla/service/gpu/nvptx_compiler.cc:765] The NVIDIA driver's CUDA version is 12.2 which is older than the ptxas CUDA version (12.4.131). Because the driver is older than the ptxas version, XLA is disabling parallel compilation, which may slow down compilation. You should update your NVIDIA driver or use the NVIDIA-provided CUDA forward compatibility packages.\n"
     ]
    }
   ],
   "source": [
    "import numpy as np\n",
    "import numpyro\n",
    "import numpyro.distributions as dist\n",
    "from jax import random\n",
    "from numpyro.infer import MCMC, HMC,NUTS\n",
    "import fitsio\n",
    "import matplotlib as mpl\n",
    "from multiprocessing import Pool\n",
    "from scipy.stats import dirichlet\n",
    "from astropy.table import Table\n",
    "from astropy.io import fits\n",
    "import fitsio\n",
    "from astropy.cosmology import Planck18\n",
    "import jax.numpy as jnp\n",
    "import matplotlib.pyplot as plt\n",
    "from numpyro import handlers \n",
    "from jax import random, jit\n",
    "import jax\n",
    "from fitting import abs_mag_to_L,get_lfpars_shen20,T0,T1,T2,get_lfpars,get_phis,integral,integral_Lmin_Lmax\n",
    "from jax import random, vmap\n",
    "from jax.scipy.stats import norm\n",
    "import numpyro.distributions as dist\n",
    "from jax.scipy.special import gammaln\n",
    "from astropy.cosmology import WMAP9 as cosmo\n",
    "from scipy.optimize import curve_fit, brentq\n",
    "import fitting\n",
    "from tqdm import tqdm"
   ]
  },
  {
   "cell_type": "code",
   "execution_count": 2,
   "id": "2cedc99a-1632-4058-a1d7-99f4df394067",
   "metadata": {
    "tags": []
   },
   "outputs": [],
   "source": [
    "jax.config.update(\"jax_enable_x64\", True)"
   ]
  },
  {
   "cell_type": "code",
   "execution_count": 3,
   "id": "7217356d-9ec9-4e57-840d-645ae6a7b52f",
   "metadata": {
    "tags": []
   },
   "outputs": [],
   "source": [
    "k = Table.read('/pscratch/sd/z/zhaozhon/DATASET/DESI-data/k.csv',format='csv')\n",
    "indice = np.isnan(k['k_rr']) | np.isinf(k['k_rr'])\n",
    "#k_gg = k['k_gg'][~indice]\n",
    "k_rr = k['k_rr'][~indice]"
   ]
  },
  {
   "cell_type": "code",
   "execution_count": 4,
   "id": "ff491c31-b27f-4320-bd57-3b1f1064c55a",
   "metadata": {
    "tags": []
   },
   "outputs": [],
   "source": [
    "file = '/pscratch/sd/z/zhaozhon/DATASET/DESI-data/new_d.fits'\n",
    "d = Table(fitsio.read(file))\n",
    "SEL = np.where((d['Z'] > 2.3) & (d['Z'] < 2.8))[0]\n",
    "TARGETID = d['TARGETID'][SEL][~indice]\n",
    "#apr_mag_g = d['APP_MAG_G'][SEL][~indice]\n",
    "#apr_mag_g_err = d['APP_MAGERR_G'][SEL][~indice]\n",
    "apr_mag_r = d['APP_MAG_R'][SEL][~indice]\n",
    "apr_mag_r_err = d['APP_MAGERR_R'][SEL][~indice]\n",
    "z_desi = d['Z'][SEL][~indice]\n",
    "d_desi = Planck18.distmod(z_desi).value"
   ]
  },
  {
   "cell_type": "code",
   "execution_count": 5,
   "id": "671ef9cc-feec-4560-aefc-752678fd7ee7",
   "metadata": {
    "tags": []
   },
   "outputs": [],
   "source": [
    "TARGETID, indices = np.unique(TARGETID, return_index=True)\n",
    "#apr_mag_g = apr_mag_g[indices]\n",
    "#apr_mag_g_err = apr_mag_g_err[indices]\n",
    "apr_mag_r = apr_mag_r[indices]\n",
    "apr_mag_r_err = apr_mag_r_err[indices]\n",
    "d_desi = d_desi[indices]\n",
    "z_desi = z_desi[indices]\n",
    "#k_gg = k_gg[indices]\n",
    "k_rr = k_rr[indices]"
   ]
  },
  {
   "cell_type": "code",
   "execution_count": 6,
   "id": "86785cb2-9ea6-4611-b2c6-142062e80c5b",
   "metadata": {
    "tags": []
   },
   "outputs": [
    {
     "name": "stdout",
     "output_type": "stream",
     "text": [
      "78837\n"
     ]
    }
   ],
   "source": [
    "# Assuming z_desi is your redshift array\n",
    "filter_mask = (z_desi > 2.3) & (z_desi < 2.5)\n",
    "\n",
    "# Apply the filter to all arrays\n",
    "TARGETID = TARGETID[filter_mask]\n",
    "#apr_mag_g = apr_mag_g[filter_mask]\n",
    "#apr_mag_g_err = apr_mag_g_err[filter_mask]\n",
    "apr_mag_r = apr_mag_r[filter_mask]\n",
    "apr_mag_r_err = apr_mag_r_err[filter_mask]\n",
    "d_desi = d_desi[filter_mask]\n",
    "z_desi = z_desi[filter_mask]\n",
    "#k_gg = k_gg[filter_mask]\n",
    "k_rr = k_rr[filter_mask]\n",
    "\n",
    "# Recalculate N_obs after filtering\n",
    "N_obs = TARGETID.shape[0]\n",
    "print(N_obs)"
   ]
  },
  {
   "cell_type": "code",
   "execution_count": 7,
   "id": "3198d723-d2df-4c3e-87d5-01480b11709c",
   "metadata": {
    "tags": []
   },
   "outputs": [],
   "source": [
    "apr_mag_r = apr_mag_r.astype(np.float64)\n",
    "apr_mag_r_err = apr_mag_r_err.astype(np.float64)\n",
    "k_rr = k_rr.astype(np.float64)\n",
    "\n",
    "d_desi = d_desi.astype(np.float64)\n",
    "z_desi = z_desi.astype(np.float64)"
   ]
  },
  {
   "cell_type": "code",
   "execution_count": 8,
   "id": "b8ae88a7-c8b6-4661-b8e8-b6ad4aab3161",
   "metadata": {
    "tags": []
   },
   "outputs": [
    {
     "name": "stdout",
     "output_type": "stream",
     "text": [
      "-0.16798166842332596 46.50658918752716 0.027258500456809998\n"
     ]
    }
   ],
   "source": [
    "print(k_rr[0],d_desi[0],apr_mag_r_err[0])"
   ]
  },
  {
   "cell_type": "markdown",
   "id": "20919ca4-74ee-4af9-a3d5-79ce309df107",
   "metadata": {},
   "source": [
    "## Compare numerical df and analytical df"
   ]
  },
  {
   "cell_type": "code",
   "execution_count": 9,
   "id": "9101abfb-e323-4179-9c6c-9a722d4a9a91",
   "metadata": {
    "tags": []
   },
   "outputs": [],
   "source": [
    "gamma1, gamma2, L_star, phi_star = get_lfpars(\"shen20\",2.35)\n",
    "alpha = -(gamma1+1)\n",
    "beta = -(gamma2+1)\n",
    "_, _, L_star, phi_star = get_lfpars_shen20((2.3+2.4)/2)\n",
    "L_min = abs_mag_to_L(apr_mag_r.max()-k_rr.mean()-d_desi.mean()-1.7)/L_star\n",
    "def eff(m):\n",
    "    eff = jnp.where(m < 18.326392827473228, 1, 10**(-0.6586*(m-18.326392827473228)/2.5))\n",
    "    return eff\n",
    "\n",
    "df1 = fitting.discovery_fraction(eff)\n",
    "discovery_fraction1 = df1(1.7, -25, k_rr, d_desi,apr_mag_r_err)\n",
    "#discovery_fraction1 = df1(1.7, -25, -0.2386751981396219, 46.403933445021295,0.015071204863488674)"
   ]
  },
  {
   "cell_type": "code",
   "execution_count": 10,
   "id": "671d34d8-128e-47dc-a792-9dd198d046c9",
   "metadata": {
    "tags": []
   },
   "outputs": [
    {
     "name": "stdout",
     "output_type": "stream",
     "text": [
      "[[0.05742084 0.06375637 0.05718718 ... 0.05215113 0.0548327  0.05192355]]\n"
     ]
    }
   ],
   "source": [
    "print(discovery_fraction1)"
   ]
  },
  {
   "cell_type": "code",
   "execution_count": 11,
   "id": "0b9f6821-c51e-4a24-b01a-cf2ef00412f3",
   "metadata": {
    "tags": []
   },
   "outputs": [],
   "source": [
    "df2 = fitting.discovery_fraction_exp(18.326392827473228,0.6586,-25+1.7+k_rr+d_desi,apr_mag_r_err)\n",
    "#df2 = fitting.discovery_fraction_exp(18.326392827473228,0.6586,-25+1.7-0.2386751981396219+46.403933445021295,0.015071204863488674)\n",
    "df3 = fitting.df_analytic(18.326392827473228,0.6586,-25+1.7+k_rr+d_desi,apr_mag_r_err)\n",
    "#df3 = fitting.df_analytic(18.326392827473228,0.6586,-25+1.7-0.2386751981396219+46.403933445021295,0.015071204863488674)"
   ]
  },
  {
   "cell_type": "code",
   "execution_count": 12,
   "id": "f82a7779-fccd-4bfc-af09-036fbd518996",
   "metadata": {
    "tags": []
   },
   "outputs": [
    {
     "name": "stdout",
     "output_type": "stream",
     "text": [
      "[[0.05742084 0.06375637 0.05718718 ... 0.05215113 0.0548327  0.05192355]]\n",
      "[0.0573685  0.06372401 0.0571653  ... 0.05211376 0.05480745 0.05187881]\n",
      "[0.0573685  0.06372401 0.0571653  ... 0.05211376 0.05480745 0.05187881]\n"
     ]
    },
    {
     "data": {
      "text/plain": [
       "(array([4.2549e+04, 2.1647e+04, 1.0240e+04, 3.2650e+03, 8.9000e+02,\n",
       "        1.9300e+02, 3.8000e+01, 7.0000e+00, 4.0000e+00, 4.0000e+00]),\n",
       " array([1.00001903, 1.00085976, 1.0017005 , 1.00254124, 1.00338197,\n",
       "        1.00422271, 1.00506344, 1.00590418, 1.00674492, 1.00758565,\n",
       "        1.00842639]),\n",
       " <BarContainer object of 10 artists>)"
      ]
     },
     "execution_count": 12,
     "metadata": {},
     "output_type": "execute_result"
    },
    {
     "data": {
      "image/png": "[encoded data removed]",
      "text/plain": [
       "<Figure size 640x480 with 1 Axes>"
      ]
     },
     "metadata": {},
     "output_type": "display_data"
    }
   ],
   "source": [
    "print(discovery_fraction1)\n",
    "print(df2)\n",
    "print(df3)\n",
    "plt.hist(discovery_fraction1/df2)"
   ]
  },
  {
   "cell_type": "code",
   "execution_count": 13,
   "id": "a6fd9c65-b3d2-4f01-81f2-9c6397c45035",
   "metadata": {
    "tags": []
   },
   "outputs": [
    {
     "data": {
      "image/png": "[encoded data removed]",
      "text/plain": [
       "<Figure size 640x480 with 1 Axes>"
      ]
     },
     "metadata": {},
     "output_type": "display_data"
    }
   ],
   "source": [
    "plt.scatter(discovery_fraction1,df3)\n",
    "plt.xlabel(\"Numerical Method\")\n",
    "plt.ylabel(\"Analytical Solution\")\n",
    "plt.grid()\n",
    "plt.show()"
   ]
  },
  {
   "cell_type": "code",
   "execution_count": 14,
   "id": "bfe66e3a-9b9b-408a-8442-4ade7739e3e5",
   "metadata": {},
   "outputs": [
    {
     "name": "stdout",
     "output_type": "stream",
     "text": [
      "[[1.]]\n",
      "[0.0573685  0.06372401 0.0571653  ... 0.05211376 0.05480745 0.05187881]\n"
     ]
    }
   ],
   "source": [
    "print(df1(1.7, -25, 0, 0,0))\n",
    "print(fitting.discovery_fraction_exp(18.326392827473228,0.6586,-25+1.7+k_rr+d_desi,apr_mag_r_err))"
   ]
  },
  {
   "cell_type": "markdown",
   "id": "a80816e2-a3b3-4503-ad7d-872253f70581",
   "metadata": {},
   "source": [
    "## Compare numerical integral and analytical integral"
   ]
  },
  {
   "cell_type": "code",
   "execution_count": 15,
   "id": "d6c607c6-0c97-42cb-952f-a51092440d6a",
   "metadata": {
    "tags": []
   },
   "outputs": [],
   "source": [
    "def integral_numerical(Lmin,Lmax,alpha,beta,Nsamples):\n",
    "    new_L = jnp.linspace(Lmin,Lmax,Nsamples)\n",
    "    integrand = 1/(new_L**-alpha+new_L**-beta)\n",
    "    integral = jnp.trapezoid(integrand,new_L)\n",
    "    return integral"
   ]
  },
  {
   "cell_type": "code",
   "execution_count": 16,
   "id": "cfcebc2a-f4ca-4836-82a6-2ef12016e753",
   "metadata": {
    "tags": []
   },
   "outputs": [],
   "source": [
    "alpha = -3.3\n",
    "beta = -4.5\n",
    "Nsamples = np.logspace(3,5,100).astype(int)\n",
    "Outputs = np.zeros(len(Nsamples),dtype=float)\n",
    "for i,Nsample in enumerate(Nsamples):\n",
    "    Outputs[i] = integral_numerical(0.1,100,beta,alpha,Nsample)"
   ]
  },
  {
   "cell_type": "code",
   "execution_count": 17,
   "id": "3e014178-381c-4d29-9c16-a6bf6f225320",
   "metadata": {
    "tags": []
   },
   "outputs": [
    {
     "name": "stdout",
     "output_type": "stream",
     "text": [
      "77.5202296885486\n"
     ]
    },
    {
     "data": {
      "image/png": "[encoded data removed]",
      "text/plain": [
       "<Figure size 640x480 with 1 Axes>"
      ]
     },
     "metadata": {},
     "output_type": "display_data"
    }
   ],
   "source": [
    "plt.scatter(Nsamples,Outputs/fitting.integral_Lmin_Lmax(0.1, 100, beta, alpha))\n",
    "plt.ylim(0.95,1.05)\n",
    "plt.grid()\n",
    "print(Outputs[-1])"
   ]
  },
  {
   "cell_type": "code",
   "execution_count": 18,
   "id": "5c674e76-77f4-4a60-8f9c-294da9b9064e",
   "metadata": {
    "tags": []
   },
   "outputs": [
    {
     "name": "stdout",
     "output_type": "stream",
     "text": [
      "77.51496761967655\n"
     ]
    }
   ],
   "source": [
    "print(fitting.integral_Lmin_Lmax(0.1, 100, beta, alpha))"
   ]
  },
  {
   "cell_type": "code",
   "execution_count": 19,
   "id": "abc9e980-d06a-41ab-9260-f986608aae77",
   "metadata": {
    "tags": []
   },
   "outputs": [
    {
     "name": "stdout",
     "output_type": "stream",
     "text": [
      "77.34882089131452\n",
      "0.09731003734013896\n"
     ]
    }
   ],
   "source": [
    "new_L1 = np.linspace(0.1,1,10)\n",
    "integral1 = np.array([fitting.integral(x,alpha,beta) for x in new_L1])\n",
    "new_L2 = np.linspace(1.1,2,10)\n",
    "integral2 = np.array([fitting.integral(x,beta,alpha) for x in new_L2])\n",
    "print(integral1[-1]-integral1[0])\n",
    "print(integral2[-1]-integral2[0])\n",
    "new_L = np.concatenate((new_L1,new_L2))\n",
    "integral = np.concatenate((integral1,integral2))"
   ]
  },
  {
   "cell_type": "code",
   "execution_count": 20,
   "id": "24d97f8c-7c04-4a48-8cbd-b7cb63507fc5",
   "metadata": {
    "tags": []
   },
   "outputs": [
    {
     "data": {
      "text/plain": [
       "<matplotlib.collections.PathCollection at 0x7f0c90589c10>"
      ]
     },
     "execution_count": 20,
     "metadata": {},
     "output_type": "execute_result"
    },
    {
     "data": {
      "image/png": "[encoded data removed]",
      "text/plain": [
       "<Figure size 640x480 with 1 Axes>"
      ]
     },
     "metadata": {},
     "output_type": "display_data"
    }
   ],
   "source": [
    "plt.scatter(new_L,integral)"
   ]
  },
  {
   "cell_type": "markdown",
   "id": "afb34a84-05d6-4cd9-8f21-eae1bfd24556",
   "metadata": {},
   "source": [
    "## Check the precision of log_likelihood"
   ]
  },
  {
   "cell_type": "code",
   "execution_count": 21,
   "id": "5dab8780-47fc-4f25-92e9-60ff2f4ce926",
   "metadata": {
    "tags": []
   },
   "outputs": [
    {
     "name": "stderr",
     "output_type": "stream",
     "text": [
      "1it [00:03,  3.16s/it]"
     ]
    },
    {
     "name": "stdout",
     "output_type": "stream",
     "text": [
      "first term -109047.28314118655\n",
      "Poisson term 808718.9875846851\n",
      "N_obs 94291.78293298476\n"
     ]
    },
    {
     "name": "stderr",
     "output_type": "stream",
     "text": [
      "2it [00:05,  2.79s/it]"
     ]
    },
    {
     "name": "stdout",
     "output_type": "stream",
     "text": [
      "first term -108929.12411806028\n",
      "Poisson term 808718.9875846851\n",
      "N_obs 94291.78293298476\n"
     ]
    },
    {
     "name": "stderr",
     "output_type": "stream",
     "text": [
      "3it [00:08,  2.72s/it]"
     ]
    },
    {
     "name": "stdout",
     "output_type": "stream",
     "text": [
      "first term -108944.55272662512\n",
      "Poisson term 808718.9875846851\n",
      "N_obs 94291.78293298476\n"
     ]
    },
    {
     "name": "stderr",
     "output_type": "stream",
     "text": [
      "4it [00:11,  2.83s/it]"
     ]
    },
    {
     "name": "stdout",
     "output_type": "stream",
     "text": [
      "first term -108994.62542141236\n",
      "Poisson term 808718.9875846851\n",
      "N_obs 94291.78293298476\n"
     ]
    },
    {
     "name": "stderr",
     "output_type": "stream",
     "text": [
      "5it [00:14,  2.78s/it]"
     ]
    },
    {
     "name": "stdout",
     "output_type": "stream",
     "text": [
      "first term -109022.71280475584\n",
      "Poisson term 808718.9875846851\n",
      "N_obs 94291.78293298476\n"
     ]
    },
    {
     "name": "stderr",
     "output_type": "stream",
     "text": [
      "6it [00:16,  2.78s/it]"
     ]
    },
    {
     "name": "stdout",
     "output_type": "stream",
     "text": [
      "first term -109029.13983205229\n",
      "Poisson term 808718.9875846851\n",
      "N_obs 94291.78293298476\n"
     ]
    },
    {
     "name": "stderr",
     "output_type": "stream",
     "text": [
      "7it [00:19,  2.82s/it]"
     ]
    },
    {
     "name": "stdout",
     "output_type": "stream",
     "text": [
      "first term -108980.60759945701\n",
      "Poisson term 808718.9875846851\n",
      "N_obs 94291.78293298476\n"
     ]
    },
    {
     "name": "stderr",
     "output_type": "stream",
     "text": [
      "8it [00:22,  2.85s/it]"
     ]
    },
    {
     "name": "stdout",
     "output_type": "stream",
     "text": [
      "first term -108955.6185317517\n",
      "Poisson term 808718.9875846851\n",
      "N_obs 94291.78293298476\n"
     ]
    },
    {
     "name": "stderr",
     "output_type": "stream",
     "text": [
      "9it [00:25,  2.86s/it]"
     ]
    },
    {
     "name": "stdout",
     "output_type": "stream",
     "text": [
      "first term -108945.7004278957\n",
      "Poisson term 808718.9875846851\n",
      "N_obs 94291.78293298476\n"
     ]
    },
    {
     "name": "stderr",
     "output_type": "stream",
     "text": [
      "10it [00:28,  2.87s/it]"
     ]
    },
    {
     "name": "stdout",
     "output_type": "stream",
     "text": [
      "first term -108947.83687702025\n",
      "Poisson term 808718.9875846851\n",
      "N_obs 94291.78293298476\n"
     ]
    },
    {
     "name": "stderr",
     "output_type": "stream",
     "text": [
      "\n"
     ]
    }
   ],
   "source": [
    "def eff(m,b,m0):\n",
    "    eff = jnp.where(m < m0, 1, 10**(-b*(m-m0)/2.5))\n",
    "    return eff\n",
    "Nsamples = np.linspace(1000,4000,10).astype(int)\n",
    "Outputs = np.zeros(len(Nsamples),dtype=float)\n",
    "for i,Nsample in tqdm(enumerate(Nsamples)):\n",
    "    check_ln_posterior = fitting.check_ln_posterior(eff,2.3,2.5,Nsample)\n",
    "    Outputs[i] = check_ln_posterior(19, 0.7, 0.74, apr_mag_r,k_rr,d_desi,apr_mag_r_err,0.08)"
   ]
  },
  {
   "cell_type": "code",
   "execution_count": 22,
   "id": "89de92d5-9254-46de-9ed6-d3309009bb03",
   "metadata": {
    "tags": []
   },
   "outputs": [
    {
     "data": {
      "text/plain": [
       "<matplotlib.collections.PathCollection at 0x7f0c30303670>"
      ]
     },
     "execution_count": 22,
     "metadata": {},
     "output_type": "execute_result"
    },
    {
     "data": {
      "image/png": "[encoded data removed]",
      "text/plain": [
       "<Figure size 640x480 with 1 Axes>"
      ]
     },
     "metadata": {},
     "output_type": "display_data"
    }
   ],
   "source": [
    "plt.scatter(Nsamples,Outputs)"
   ]
  },
  {
   "cell_type": "code",
   "execution_count": null,
   "id": "3914c74a-e583-4872-a3b3-f8072b84670c",
   "metadata": {},
   "outputs": [],
   "source": []
  }
 ],
 "metadata": {
  "kernelspec": {
   "display_name": "pytorch-2.0.1",
   "language": "python",
   "name": "pytorch-2.0.1"
  },
  "language_info": {
   "codemirror_mode": {
    "name": "ipython",
    "version": 3
   },
   "file_extension": ".py",
   "mimetype": "text/x-python",
   "name": "python",
   "nbconvert_exporter": "python",
   "pygments_lexer": "ipython3",
   "version": "3.9.16"
  }
 },
 "nbformat": 4,
 "nbformat_minor": 5
}
