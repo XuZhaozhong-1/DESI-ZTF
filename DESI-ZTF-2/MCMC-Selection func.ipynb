{
 "cells": [
  {
   "cell_type": "code",
   "execution_count": 1,
   "id": "ab11f7bf-19d7-4806-911c-04f111e01405",
   "metadata": {
    "tags": []
   },
   "outputs": [
    {
     "name": "stderr",
     "output_type": "stream",
     "text": [
      "2024-10-20 19:06:44.201905: W external/xla/xla/service/gpu/nvptx_compiler.cc:765] The NVIDIA driver's CUDA version is 12.2 which is older than the ptxas CUDA version (12.4.131). Because the driver is older than the ptxas version, XLA is disabling parallel compilation, which may slow down compilation. You should update your NVIDIA driver or use the NVIDIA-provided CUDA forward compatibility packages.\n"
     ]
    }
   ],
   "source": [
    "import numpy as np\n",
    "import numpyro\n",
    "import numpyro.distributions as dist\n",
    "from jax import random\n",
    "from numpyro.infer import MCMC, HMC,NUTS\n",
    "import fitsio\n",
    "import matplotlib as mpl\n",
    "from multiprocessing import Pool\n",
    "from scipy.stats import dirichlet\n",
    "from astropy.table import Table\n",
    "from astropy.io import fits\n",
    "import fitsio\n",
    "from astropy.cosmology import Planck18\n",
    "import jax.numpy as jnp\n",
    "import matplotlib.pyplot as plt\n",
    "from numpyro import handlers \n",
    "from jax import random, jit\n",
    "import jax\n",
    "from fitting import abs_mag_to_L,get_lfpars_shen20,T0,T1,T2,get_lfpars,get_phis,integral,integral_Lmin_Lmax\n",
    "from jax import random, vmap\n",
    "from jax.scipy.stats import norm\n",
    "import numpyro.distributions as dist\n",
    "from jax.scipy.special import gammaln\n",
    "from astropy.cosmology import WMAP9 as cosmo\n",
    "from scipy.optimize import curve_fit, brentq\n",
    "import fitting"
   ]
  },
  {
   "cell_type": "code",
   "execution_count": 2,
   "id": "95f6aa8e-1d54-4e54-b97f-846fef5e04a5",
   "metadata": {
    "tags": []
   },
   "outputs": [
    {
     "name": "stdout",
     "output_type": "stream",
     "text": [
      "(5, 4, 3)\n",
      "\n"
     ]
    }
   ],
   "source": [
    "array = np.array([1,2,3])\n",
    "array1 = np.array([1,2,3,4])\n",
    "array2 = np.array([1,2,3,4,5])\n",
    "array1 = array1[:,None]\n",
    "array2 = array2[:,None,None]\n",
    "print((array+array1+array2).shape)\n",
    "print()"
   ]
  },
  {
   "cell_type": "code",
   "execution_count": 3,
   "id": "d9dbd732-ce13-474e-a8ca-6317a3024a16",
   "metadata": {
    "tags": []
   },
   "outputs": [
    {
     "name": "stdout",
     "output_type": "stream",
     "text": [
      "JAX version: 0.4.30\n",
      "JAX is using CUDA: gpu\n",
      "jax_enable_x64: True\n"
     ]
    }
   ],
   "source": [
    "# Verify the installation\n",
    "print(\"JAX version:\", jax.__version__)\n",
    "print(\"JAX is using CUDA:\", jax.lib.xla_bridge.get_backend().platform)\n",
    "\n",
    "# Enable 64-bit floating point precision\n",
    "jax.config.update(\"jax_enable_x64\", True)\n",
    "\n",
    "# Verify the update\n",
    "print(\"jax_enable_x64:\", jax.config.read(\"jax_enable_x64\"))"
   ]
  },
  {
   "cell_type": "code",
   "execution_count": 4,
   "id": "408dc985-acc8-4c52-80a8-ae37475a1315",
   "metadata": {
    "tags": []
   },
   "outputs": [
    {
     "name": "stdout",
     "output_type": "stream",
     "text": [
      "Available devices: [cuda(id=0)]\n",
      "Computation result: [1. 4. 9.]\n"
     ]
    }
   ],
   "source": [
    "# Check available devices\n",
    "print(\"Available devices:\", jax.devices())\n",
    "\n",
    "# Simple CPU computation test\n",
    "x = jnp.array([1.0, 2.0, 3.0])\n",
    "y = jax.device_put(x, jax.devices('gpu')[0])\n",
    "z = y ** 2\n",
    "print(\"Computation result:\", z)"
   ]
  },
  {
   "cell_type": "code",
   "execution_count": 5,
   "id": "df9e48fa-4f1e-40a1-a545-e33abc865170",
   "metadata": {
    "tags": []
   },
   "outputs": [],
   "source": [
    "k = Table.read('/pscratch/sd/z/zhaozhon/DATASET/DESI-data/k.csv',format='csv')\n",
    "indice = np.isnan(k['k_rr']) | np.isinf(k['k_rr'])\n",
    "#k_gg = k['k_gg'][~indice]\n",
    "k_rr = k['k_rr'][~indice]"
   ]
  },
  {
   "cell_type": "code",
   "execution_count": 6,
   "id": "adf99b5b-c388-44bd-be2b-5f1912857786",
   "metadata": {
    "tags": []
   },
   "outputs": [],
   "source": [
    "file = '/pscratch/sd/z/zhaozhon/DATASET/DESI-data/new_d.fits'\n",
    "d = Table(fitsio.read(file))\n",
    "SEL = np.where((d['Z'] > 2.3) & (d['Z'] < 2.8))[0]\n",
    "TARGETID = d['TARGETID'][SEL][~indice]\n",
    "#apr_mag_g = d['APP_MAG_G'][SEL][~indice]\n",
    "#apr_mag_g_err = d['APP_MAGERR_G'][SEL][~indice]\n",
    "apr_mag_r = d['APP_MAG_R'][SEL][~indice]\n",
    "apr_mag_r_err = d['APP_MAGERR_R'][SEL][~indice]\n",
    "z_desi = d['Z'][SEL][~indice]"
   ]
  },
  {
   "cell_type": "code",
   "execution_count": 7,
   "id": "ad2c5861-3949-4df5-8cff-19fdb83295a3",
   "metadata": {
    "tags": []
   },
   "outputs": [],
   "source": [
    "d_desi = Planck18.distmod(z_desi).value"
   ]
  },
  {
   "cell_type": "code",
   "execution_count": 8,
   "id": "6cff6db2-88f5-445a-9fc6-045e24bb9d9a",
   "metadata": {
    "tags": []
   },
   "outputs": [],
   "source": [
    "TARGETID, indices = np.unique(TARGETID, return_index=True)\n",
    "#apr_mag_g = apr_mag_g[indices]\n",
    "#apr_mag_g_err = apr_mag_g_err[indices]\n",
    "apr_mag_r = apr_mag_r[indices]\n",
    "apr_mag_r_err = apr_mag_r_err[indices]\n",
    "d_desi = d_desi[indices]\n",
    "z_desi = z_desi[indices]\n",
    "#k_gg = k_gg[indices]\n",
    "k_rr = k_rr[indices]"
   ]
  },
  {
   "cell_type": "code",
   "execution_count": 9,
   "id": "e0767f0d-1f37-4077-b1b8-0b932e34ed09",
   "metadata": {
    "tags": []
   },
   "outputs": [
    {
     "name": "stdout",
     "output_type": "stream",
     "text": [
      "42124\n"
     ]
    }
   ],
   "source": [
    "# Assuming z_desi is your redshift array\n",
    "filter_mask = (z_desi > 2.3) & (z_desi < 2.4)\n",
    "\n",
    "# Apply the filter to all arrays\n",
    "TARGETID = TARGETID[filter_mask]\n",
    "#apr_mag_g = apr_mag_g[filter_mask]\n",
    "#apr_mag_g_err = apr_mag_g_err[filter_mask]\n",
    "apr_mag_r = apr_mag_r[filter_mask]\n",
    "apr_mag_r_err = apr_mag_r_err[filter_mask]\n",
    "d_desi = d_desi[filter_mask]\n",
    "z_desi = z_desi[filter_mask]\n",
    "#k_gg = k_gg[filter_mask]\n",
    "k_rr = k_rr[filter_mask]\n",
    "\n",
    "# Recalculate N_obs after filtering\n",
    "N_obs = TARGETID.shape[0]\n",
    "print(N_obs)"
   ]
  },
  {
   "cell_type": "code",
   "execution_count": 10,
   "id": "79c811db-05e9-419a-81c6-39fb31653ff3",
   "metadata": {
    "tags": []
   },
   "outputs": [],
   "source": [
    "#apr_mag_g = apr_mag_g.astype(np.float64)\n",
    "#apr_mag_g_err = apr_mag_g_err.astype(np.float64)\n",
    "#k_gg = k_gg.astype(np.float64)\n",
    "\n",
    "apr_mag_r = apr_mag_r.astype(np.float64)\n",
    "apr_mag_r_err = apr_mag_r_err.astype(np.float64)\n",
    "k_rr = k_rr.astype(np.float64)\n",
    "\n",
    "d_desi = d_desi.astype(np.float64)\n",
    "z_desi = z_desi.astype(np.float64)"
   ]
  },
  {
   "cell_type": "code",
   "execution_count": 11,
   "id": "4287330d-89ed-413e-a625-615f471006eb",
   "metadata": {},
   "outputs": [
    {
     "ename": "TypeError",
     "evalue": "eff() takes 1 positional argument but 3 were given",
     "output_type": "error",
     "traceback": [
      "\u001b[0;31m---------------------------------------------------------------------------\u001b[0m",
      "\u001b[0;31mTypeError\u001b[0m                                 Traceback (most recent call last)",
      "Cell \u001b[0;32mIn[11], line 15\u001b[0m\n\u001b[1;32m     13\u001b[0m     \u001b[38;5;28;01mreturn\u001b[39;00m eff\n\u001b[1;32m     14\u001b[0m lg_lkh \u001b[38;5;241m=\u001b[39m fitting\u001b[38;5;241m.\u001b[39mln_posterior(eff)\n\u001b[0;32m---> 15\u001b[0m lg_lkh \u001b[38;5;241m=\u001b[39m \u001b[43mlg_lkh\u001b[49m\u001b[43m(\u001b[49m\u001b[38;5;241;43m18.326392827473228\u001b[39;49m\u001b[43m,\u001b[49m\u001b[38;5;241;43m0.55\u001b[39;49m\u001b[43m,\u001b[49m\u001b[38;5;241;43m1.85\u001b[39;49m\u001b[43m,\u001b[49m\u001b[43mapr_mag_r\u001b[49m\u001b[43m,\u001b[49m\u001b[43mk_rr\u001b[49m\u001b[43m,\u001b[49m\u001b[43md_desi\u001b[49m\u001b[43m,\u001b[49m\u001b[43mapr_mag_r_err\u001b[49m\u001b[43m,\u001b[49m\u001b[43mL_min\u001b[49m\u001b[43m)\u001b[49m\n\u001b[1;32m     16\u001b[0m \u001b[38;5;28mprint\u001b[39m(alpha,beta)\n\u001b[1;32m     17\u001b[0m \u001b[38;5;28mprint\u001b[39m(N)\n",
      "File \u001b[0;32m/global/u1/z/zhaozhon/DESI-ZTF-2/fitting.py:246\u001b[0m, in \u001b[0;36mln_posterior.__call__\u001b[0;34m(self, m0, b, x, mhat, k, mu, sigma, Lmin)\u001b[0m\n\u001b[1;32m    242\u001b[0m phi \u001b[38;5;241m=\u001b[39m phi_new(L,\u001b[38;5;28mself\u001b[39m\u001b[38;5;241m.\u001b[39malpha,\u001b[38;5;28mself\u001b[39m\u001b[38;5;241m.\u001b[39mbeta,Lmin)\n\u001b[1;32m    243\u001b[0m \u001b[38;5;66;03m#integrand = self.eff(mhat)/df*phi\u001b[39;00m\n\u001b[1;32m    244\u001b[0m \u001b[38;5;66;03m#temp = integrand.prod(axis=1)\u001b[39;00m\n\u001b[1;32m    245\u001b[0m \u001b[38;5;66;03m#maxtemp = temp.max()\u001b[39;00m\n\u001b[0;32m--> 246\u001b[0m integral \u001b[38;5;241m=\u001b[39m (\u001b[38;5;28;43mself\u001b[39;49m\u001b[38;5;241;43m.\u001b[39;49m\u001b[43meff\u001b[49m\u001b[43m(\u001b[49m\u001b[43mmhat\u001b[49m\u001b[43m,\u001b[49m\u001b[43mb\u001b[49m\u001b[43m,\u001b[49m\u001b[43mm0\u001b[49m\u001b[43m)\u001b[49m\u001b[38;5;241m/\u001b[39mdf\u001b[38;5;241m*\u001b[39mphi)\u001b[38;5;241m.\u001b[39mmean(axis\u001b[38;5;241m=\u001b[39m\u001b[38;5;241m0\u001b[39m)\n\u001b[1;32m    247\u001b[0m \u001b[38;5;66;03m#print((jnp.log(integral)).sum())\u001b[39;00m\n\u001b[1;32m    248\u001b[0m \u001b[38;5;66;03m#print(nquasar*jnp.log(N_obs) - N_obs)\u001b[39;00m\n\u001b[1;32m    249\u001b[0m \u001b[38;5;28mprint\u001b[39m(df)\n",
      "\u001b[0;31mTypeError\u001b[0m: eff() takes 1 positional argument but 3 were given"
     ]
    }
   ],
   "source": [
    "gamma1, gamma2, L_star, phi_star = get_lfpars(\"shen20\",2.35)\n",
    "alpha = -(gamma1+1)\n",
    "beta = -(gamma2+1)\n",
    "_, _, L_star, phi_star = get_lfpars_shen20((2.3+2.4)/2)\n",
    "L_min = abs_mag_to_L(apr_mag_r.max()-k_rr.mean()-d_desi.mean()-1.85)/L_star\n",
    "#L_min = 0.01\n",
    "#print(integral(0.1,alpha,beta))\n",
    "N_obs = fitting.N_obs(2.3,2.4)\n",
    "#print(integral(0.1,alpha,beta).dtype)\n",
    "N = N_obs(18.326392827473228,0.55,1.85,alpha,beta,L_min,k_rr)\n",
    "def eff(m,b=0.5,m0=18):\n",
    "    eff = jnp.where(m < m0, 1, 10**(-b*(m-m0)/2.5))\n",
    "    return eff\n",
    "lg_lkh = fitting.ln_posterior(eff)\n",
    "lg_lkh = lg_lkh(18.326392827473228,0.55,1.85,apr_mag_r,k_rr,d_desi,apr_mag_r_err,L_min)"
   ]
  },
  {
   "cell_type": "code",
   "execution_count": null,
   "id": "88aa9033-7ed1-4fa6-8819-4968d1035dd8",
   "metadata": {},
   "outputs": [],
   "source": [
    "integral_Lmin_Lmax(0.1,jnp.inf,beta,alpha)"
   ]
  },
  {
   "cell_type": "code",
   "execution_count": null,
   "id": "416dd18f-62a5-4da3-b39d-ddf008dc2381",
   "metadata": {},
   "outputs": [],
   "source": [
    "def model(zmin,zmax,apr_mag,k,mu,apr_mag_err):\n",
    "    #x = numpyro.sample('x', dist.Uniform(-6,3))\n",
    "    m0 = numpyro.sample('m0', dist.Uniform(0, 20))\n",
    "    b = numpyro.sample('b', dist.Uniform(0, 1))\n",
    "    x = 1.85\n",
    "    #m0 = 18.179295603378442\n",
    "    #b = 0.5461566287177613\n",
    "    \n",
    "    def eff(m):\n",
    "        eff = jnp.where(m < m0, 1, 10**(-b*(m-m0)/2.5))\n",
    "        return eff\n",
    "    Lmin = abs_mag_to_L(apr_mag_r.max()-k.mean()-mu.mean()-x)/L_star\n",
    "    \n",
    "    ln_posterior = fitting.ln_posterior(eff,zmin,zmax)\n",
    "    \n",
    "    log_likelihood = ln_posterior(m0, b, x, apr_mag, k, mu, apr_mag_err,Lmin)\n",
    "    \n",
    "    numpyro.factor(\"log_likelihood\",log_likelihood)"
   ]
  },
  {
   "cell_type": "code",
   "execution_count": null,
   "id": "0f03ab37-934f-4594-89a8-247074966997",
   "metadata": {
    "tags": []
   },
   "outputs": [],
   "source": [
    "rng_key = random.PRNGKey(0)\n",
    "# Sampler configuration\n",
    "num_warmup, num_samples = 5000, 5000\n",
    "i_start = 0\n",
    "i_end = i_start+1000\n",
    "# Initialize batch parameters for the entire datasetw\n",
    "\n",
    "init_params = {\n",
    "    #'x': 1.70 * jnp.ones((1,)),  \n",
    "    'm0': 18.54 * jnp.ones((1,)),\n",
    "    'b': 0.4 * jnp.ones((1,)),\n",
    "}\n",
    "\n",
    "# Set up the NUTS sampler\n",
    "kernel = NUTS(model, target_accept_prob=0.8)\n",
    "#kernel = HMC(model)\n",
    "mcmc = MCMC(kernel, num_warmup=num_warmup, num_samples=num_samples, num_chains=1, jit_model_args=True, progress_bar=True)\n",
    "\n",
    "# Run the sampler over thswwe entire dataset\n",
    "#mcmc.run(rng_key, apr_mag_g, apr_mag_g_err, k_gg, apr_mag_r, apr_mag_r_err, k_rr, d,z, 22.5, init_params=init_params)\n",
    "mcmc.run(rng_key, 2.3,2.301,apr_mag_r,k_rr,d_desi,apr_mag_r_err)\n",
    "# Get samples\n",
    "samples = mcmc.get_samples()\n",
    "# Optionally, process or save your samples\n",
    "print(samples)"
   ]
  },
  {
   "cell_type": "code",
   "execution_count": null,
   "id": "8e7b23db-a98b-4cc1-a139-d083422cfe49",
   "metadata": {
    "tags": []
   },
   "outputs": [],
   "source": [
    "# Extract the chains and parameters\n",
    "samples = mcmc.get_samples()\n",
    "#x = samples['x']\n",
    "m0 = samples['m0']\n",
    "b = samples['b']\n",
    "\n",
    "# Creating a figure to hold the subplots\n",
    "fig, axs = plt.subplots(2, 2, figsize=(12, 24))  \n",
    "\n",
    "# Helper function to plot histograms and traces\n",
    "def plot_param(ax, data, title):\n",
    "    ax[0].hist(data, bins=100, alpha=0.75, color='blue')\n",
    "    ax[0].set_title(f'Posterior Distribution of {title}')\n",
    "    ax[1].plot(data, color='blue')\n",
    "    ax[1].set_title(f'Trace of {title}')\n",
    "\n",
    "# Plotting each parameter\n",
    "#plot_param(axs[0], x, 'x')\n",
    "plot_param(axs[0], m0, 'm0')\n",
    "#plot_param(axs[2],a,'a')\n",
    "plot_param(axs[1],b,'b')\n",
    "#plot_param(axs[4],c,'c')\n",
    "\n",
    "\n",
    "# Adjust layout to prevent overlap\n",
    "plt.tight_layout()\n",
    "plt.show()"
   ]
  },
  {
   "cell_type": "code",
   "execution_count": null,
   "id": "0610e774-50d1-44e2-bd21-05f94a30265a",
   "metadata": {},
   "outputs": [],
   "source": [
    "import corner\n",
    "# Extract samples for plotting\n",
    "#samples = np.vstack((x, m0)).T\n",
    "samples = np.vstack((m0,b)).T\n",
    "# Create a corner plot\n",
    "fig = corner.corner(samples, labels=['m0','b'], \n",
    "                    show_titles=True,quantiles=[0.16, 0.5, 0.84],\n",
    "                       plot_contours=True, color='blue', title_kwargs={\"fontsize\": 12},title_fmt=\".4f\")\n",
    "\n",
    "fig.suptitle('Corner Plot of Parameters')\n",
    "fig.show()"
   ]
  },
  {
   "cell_type": "code",
   "execution_count": null,
   "id": "72e816a8-4065-41d7-81e5-e1c7621afeaf",
   "metadata": {
    "tags": []
   },
   "outputs": [],
   "source": [
    "# Extract all chains, including warmup steps\n",
    "all_samples = mcmc.get_samples(group_by_chain=True)\n",
    "\n",
    "# Convert JAX arrays to NumPy arrays\n",
    "all_samples = {k: np.array(v.block_until_ready()) for k, v in all_samples.items()}\n",
    "\n",
    "# Number of warmup samples\n",
    "num_warmup = mcmc.num_warmup\n",
    "\n",
    "# Extract the parameter chains\n",
    "x = all_samples['x'].flatten()\n",
    "#m0 = all_samples['m0'].flatten()\n",
    "#b = all_samples['b'].flatten()\n",
    "\n",
    "# Creating a figure to hold the subplots\n",
    "fig, axs = plt.subplots(2, 2, figsize=(12, 24))\n",
    "\n",
    "# Helper function to plot histograms and traces with warmup steps\n",
    "def plot_param(ax, data, title):\n",
    "    warmup_data = data[:num_warmup]\n",
    "    post_warmup_data = data[num_warmup:]\n",
    "    \n",
    "    # Plot histogram of post-warmup samples\n",
    "    ax[0].hist(post_warmup_data, bins=100, alpha=0.75, color='blue')\n",
    "    ax[0].set_title(f'Posterior Distribution of {title}')\n",
    "    \n",
    "    # Plot trace with warmup steps in a different color\n",
    "    ax[1].plot(range(num_warmup), warmup_data, color='red', label='Warmup')\n",
    "    ax[1].plot(range(num_warmup, len(data)), post_warmup_data, color='blue', label='Post-Warmup')\n",
    "    ax[1].set_title(f'Trace of {title}')\n",
    "    ax[1].axvline(x=num_warmup, color='black', linestyle='--', label='End of Warmup')\n",
    "    ax[1].legend()\n",
    "\n",
    "# Plotting each parameter\n",
    "#plot_param(axs[0], x, 'x')\n",
    "plot_param(axs[0], m0, 'm0')\n",
    "#plot_param(axs[2], a, 'a')\n",
    "plot_param(axs[1], b, 'b')\n",
    "\n",
    "# Adjust layout to prevent overlap\n",
    "plt.tight_layout()\n",
    "plt.show()"
   ]
  },
  {
   "cell_type": "code",
   "execution_count": null,
   "id": "35d8b942-576c-41ef-baf0-07deb0fd4d6f",
   "metadata": {},
   "outputs": [],
   "source": []
  }
 ],
 "metadata": {
  "kernelspec": {
   "display_name": "pytorch-2.0.1",
   "language": "python",
   "name": "pytorch-2.0.1"
  },
  "language_info": {
   "codemirror_mode": {
    "name": "ipython",
    "version": 3
   },
   "file_extension": ".py",
   "mimetype": "text/x-python",
   "name": "python",
   "nbconvert_exporter": "python",
   "pygments_lexer": "ipython3",
   "version": "3.9.16"
  }
 },
 "nbformat": 4,
 "nbformat_minor": 5
}
