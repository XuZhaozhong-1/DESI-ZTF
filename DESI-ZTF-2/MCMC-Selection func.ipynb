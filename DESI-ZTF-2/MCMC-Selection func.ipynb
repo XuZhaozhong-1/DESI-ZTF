{
 "cells": [
  {
   "cell_type": "code",
   "execution_count": 1,
   "id": "ab11f7bf-19d7-4806-911c-04f111e01405",
   "metadata": {
    "tags": []
   },
   "outputs": [
    {
     "name": "stderr",
     "output_type": "stream",
     "text": [
      "2024-10-28 10:52:31.004780: W external/xla/xla/service/gpu/nvptx_compiler.cc:765] The NVIDIA driver's CUDA version is 12.2 which is older than the ptxas CUDA version (12.4.131). Because the driver is older than the ptxas version, XLA is disabling parallel compilation, which may slow down compilation. You should update your NVIDIA driver or use the NVIDIA-provided CUDA forward compatibility packages.\n"
     ]
    }
   ],
   "source": [
    "import numpy as np\n",
    "import numpyro\n",
    "import numpyro.distributions as dist\n",
    "from jax import random\n",
    "from numpyro.infer import MCMC, HMC,NUTS\n",
    "import fitsio\n",
    "import matplotlib as mpl\n",
    "from multiprocessing import Pool\n",
    "from scipy.stats import dirichlet\n",
    "from astropy.table import Table\n",
    "from astropy.io import fits\n",
    "import fitsio\n",
    "from astropy.cosmology import Planck18\n",
    "import jax.numpy as jnp\n",
    "import matplotlib.pyplot as plt\n",
    "from numpyro import handlers \n",
    "from jax import random, jit\n",
    "import jax\n",
    "from fitting import abs_mag_to_L,get_lfpars_shen20,T0,T1,T2,get_lfpars,get_phis,integral,integral_Lmin_Lmax\n",
    "from jax import random, vmap\n",
    "from jax.scipy.stats import norm\n",
    "import numpyro.distributions as dist\n",
    "from jax.scipy.special import gammaln\n",
    "from astropy.cosmology import WMAP9 as cosmo\n",
    "from scipy.optimize import curve_fit, brentq\n",
    "import fitting"
   ]
  },
  {
   "cell_type": "code",
   "execution_count": 2,
   "id": "95f6aa8e-1d54-4e54-b97f-846fef5e04a5",
   "metadata": {
    "tags": []
   },
   "outputs": [
    {
     "name": "stdout",
     "output_type": "stream",
     "text": [
      "(5, 4, 3)\n",
      "\n"
     ]
    }
   ],
   "source": [
    "array = np.array([1,2,3])\n",
    "array1 = np.array([1,2,3,4])\n",
    "array2 = np.array([1,2,3,4,5])\n",
    "array1 = array1[:,None]\n",
    "array2 = array2[:,None,None]\n",
    "print((array+array1+array2).shape)\n",
    "print()"
   ]
  },
  {
   "cell_type": "code",
   "execution_count": 3,
   "id": "d9dbd732-ce13-474e-a8ca-6317a3024a16",
   "metadata": {
    "tags": []
   },
   "outputs": [
    {
     "name": "stdout",
     "output_type": "stream",
     "text": [
      "JAX version: 0.4.30\n",
      "JAX is using CUDA: gpu\n",
      "jax_enable_x64: True\n"
     ]
    }
   ],
   "source": [
    "# Verify the installation\n",
    "print(\"JAX version:\", jax.__version__)\n",
    "print(\"JAX is using CUDA:\", jax.lib.xla_bridge.get_backend().platform)\n",
    "\n",
    "# Enable 64-bit floating point precision\n",
    "jax.config.update(\"jax_enable_x64\", True)\n",
    "\n",
    "# Verify the update\n",
    "print(\"jax_enable_x64:\", jax.config.read(\"jax_enable_x64\"))"
   ]
  },
  {
   "cell_type": "code",
   "execution_count": 4,
   "id": "408dc985-acc8-4c52-80a8-ae37475a1315",
   "metadata": {
    "tags": []
   },
   "outputs": [
    {
     "name": "stdout",
     "output_type": "stream",
     "text": [
      "Available devices: [cuda(id=0)]\n",
      "Computation result: [1. 4. 9.]\n"
     ]
    }
   ],
   "source": [
    "# Check available devices\n",
    "print(\"Available devices:\", jax.devices())\n",
    "\n",
    "# Simple CPU computation test\n",
    "x = jnp.array([1.0, 2.0, 3.0])\n",
    "y = jax.device_put(x, jax.devices('gpu')[0])\n",
    "z = y ** 2\n",
    "print(\"Computation result:\", z)"
   ]
  },
  {
   "cell_type": "code",
   "execution_count": 5,
   "id": "df9e48fa-4f1e-40a1-a545-e33abc865170",
   "metadata": {
    "tags": []
   },
   "outputs": [],
   "source": [
    "k = Table.read('/pscratch/sd/z/zhaozhon/DATASET/DESI-data/k.csv',format='csv')\n",
    "indice = np.isnan(k['k_rr']) | np.isinf(k['k_rr'])\n",
    "#k_gg = k['k_gg'][~indice]\n",
    "k_rr = k['k_rr'][~indice]"
   ]
  },
  {
   "cell_type": "code",
   "execution_count": 6,
   "id": "adf99b5b-c388-44bd-be2b-5f1912857786",
   "metadata": {
    "tags": []
   },
   "outputs": [],
   "source": [
    "file = '/pscratch/sd/z/zhaozhon/DATASET/DESI-data/new_d.fits'\n",
    "d = Table(fitsio.read(file))\n",
    "SEL = np.where((d['Z'] > 2.3) & (d['Z'] < 2.8))[0]\n",
    "TARGETID = d['TARGETID'][SEL][~indice]\n",
    "#apr_mag_g = d['APP_MAG_G'][SEL][~indice]\n",
    "#apr_mag_g_err = d['APP_MAGERR_G'][SEL][~indice]\n",
    "apr_mag_r = d['APP_MAG_R'][SEL][~indice]\n",
    "apr_mag_r_err = d['APP_MAGERR_R'][SEL][~indice]\n",
    "z_desi = d['Z'][SEL][~indice]"
   ]
  },
  {
   "cell_type": "code",
   "execution_count": 7,
   "id": "ad2c5861-3949-4df5-8cff-19fdb83295a3",
   "metadata": {
    "tags": []
   },
   "outputs": [],
   "source": [
    "d_desi = Planck18.distmod(z_desi).value"
   ]
  },
  {
   "cell_type": "code",
   "execution_count": 8,
   "id": "6cff6db2-88f5-445a-9fc6-045e24bb9d9a",
   "metadata": {
    "tags": []
   },
   "outputs": [],
   "source": [
    "TARGETID, indices = np.unique(TARGETID, return_index=True)\n",
    "#apr_mag_g = apr_mag_g[indices]\n",
    "#apr_mag_g_err = apr_mag_g_err[indices]\n",
    "apr_mag_r = apr_mag_r[indices]\n",
    "apr_mag_r_err = apr_mag_r_err[indices]\n",
    "d_desi = d_desi[indices]\n",
    "z_desi = z_desi[indices]\n",
    "#k_gg = k_gg[indices]\n",
    "k_rr = k_rr[indices]"
   ]
  },
  {
   "cell_type": "code",
   "execution_count": 9,
   "id": "e0767f0d-1f37-4077-b1b8-0b932e34ed09",
   "metadata": {
    "tags": []
   },
   "outputs": [
    {
     "name": "stdout",
     "output_type": "stream",
     "text": [
      "42124\n"
     ]
    }
   ],
   "source": [
    "# Assuming z_desi is your redshift array\n",
    "filter_mask = (z_desi > 2.3) & (z_desi < 2.4)\n",
    "\n",
    "# Apply the filter to all arrays\n",
    "TARGETID = TARGETID[filter_mask]\n",
    "#apr_mag_g = apr_mag_g[filter_mask]\n",
    "#apr_mag_g_err = apr_mag_g_err[filter_mask]\n",
    "apr_mag_r = apr_mag_r[filter_mask]\n",
    "apr_mag_r_err = apr_mag_r_err[filter_mask]\n",
    "d_desi = d_desi[filter_mask]\n",
    "z_desi = z_desi[filter_mask]\n",
    "#k_gg = k_gg[filter_mask]\n",
    "k_rr = k_rr[filter_mask]\n",
    "\n",
    "# Recalculate N_obs after filtering\n",
    "N_obs = TARGETID.shape[0]\n",
    "print(N_obs)"
   ]
  },
  {
   "cell_type": "code",
   "execution_count": 10,
   "id": "79c811db-05e9-419a-81c6-39fb31653ff3",
   "metadata": {
    "tags": []
   },
   "outputs": [],
   "source": [
    "#apr_mag_g = apr_mag_g.astype(np.float64)\n",
    "#apr_mag_g_err = apr_mag_g_err.astype(np.float64)\n",
    "#k_gg = k_gg.astype(np.float64)\n",
    "\n",
    "apr_mag_r = apr_mag_r.astype(np.float64)\n",
    "apr_mag_r_err = apr_mag_r_err.astype(np.float64)\n",
    "k_rr = k_rr.astype(np.float64)\n",
    "\n",
    "d_desi = d_desi.astype(np.float64)\n",
    "z_desi = z_desi.astype(np.float64)"
   ]
  },
  {
   "cell_type": "code",
   "execution_count": 18,
   "id": "4287330d-89ed-413e-a625-615f471006eb",
   "metadata": {},
   "outputs": [
    {
     "name": "stdout",
     "output_type": "stream",
     "text": [
      "0.7290148205353946\n",
      "-0.00040549092770790875\n",
      "23308.92255695211\n",
      "26040918045627.855\n",
      "-246127211627257.12\n"
     ]
    }
   ],
   "source": [
    "gamma1, gamma2, L_star, phi_star = get_lfpars(\"shen20\",2.35)\n",
    "alpha = -(gamma1+1)\n",
    "beta = -(gamma2+1)\n",
    "_, _, L_star, phi_star = get_lfpars_shen20((2.3+2.4)/2)\n",
    "N_e = fitting.N_exp(2.3,2.4)\n",
    "M_min = apr_mag_r.min() - k_rr.mean() - d_desi.mean() - 1.7\n",
    "M_max = apr_mag_r.max() - k_rr.mean() - d_desi.mean() - 1.7\n",
    "N = N_e(19,0.5,1.7,alpha,beta,M_min,M_max,k_rr,d_desi,apr_mag_r_err)\n",
    "print(N)"
   ]
  },
  {
   "cell_type": "code",
   "execution_count": 12,
   "id": "88aa9033-7ed1-4fa6-8819-4968d1035dd8",
   "metadata": {},
   "outputs": [
    {
     "data": {
      "text/plain": [
       "Array(3.68270422, dtype=float64, weak_type=True)"
      ]
     },
     "execution_count": 12,
     "metadata": {},
     "output_type": "execute_result"
    }
   ],
   "source": [
    "integral_Lmin_Lmax(0.1,jnp.inf,beta,alpha)"
   ]
  },
  {
   "cell_type": "code",
   "execution_count": 13,
   "id": "416dd18f-62a5-4da3-b39d-ddf008dc2381",
   "metadata": {},
   "outputs": [],
   "source": [
    "def model(zmin,zmax,apr_mag,k,mu,apr_mag_err):\n",
    "    #x = numpyro.sample('x', dist.Uniform(-6,3))\n",
    "    m0 = numpyro.sample('m0', dist.Uniform(0, 20))\n",
    "    b = numpyro.sample('b', dist.Uniform(0, 1))\n",
    "    x = 1.85\n",
    "    #m0 = 18.179295603378442\n",
    "    #b = 0.5461566287177613\n",
    "    \n",
    "    def eff(m):\n",
    "        eff = jnp.where(m < m0, 1, 10**(-b*(m-m0)/2.5))\n",
    "        return eff\n",
    "    Lmin = abs_mag_to_L(apr_mag_r.max()-k.mean()-mu.mean()-x)/L_star\n",
    "    \n",
    "    ln_posterior = fitting.ln_posterior(eff,zmin,zmax)\n",
    "    \n",
    "    log_likelihood = ln_posterior(m0, b, x, apr_mag, k, mu, apr_mag_err,Lmin)\n",
    "    \n",
    "    numpyro.factor(\"log_likelihood\",log_likelihood)"
   ]
  },
  {
   "cell_type": "code",
   "execution_count": 14,
   "id": "0f03ab37-934f-4594-89a8-247074966997",
   "metadata": {
    "tags": []
   },
   "outputs": [
    {
     "ename": "TypeError",
     "evalue": "eff() takes 1 positional argument but 3 were given",
     "output_type": "error",
     "traceback": [
      "\u001b[0;31m---------------------------------------------------------------------------\u001b[0m",
      "\u001b[0;31mTypeError\u001b[0m                                 Traceback (most recent call last)",
      "Cell \u001b[0;32mIn[14], line 21\u001b[0m\n\u001b[1;32m     17\u001b[0m mcmc \u001b[38;5;241m=\u001b[39m MCMC(kernel, num_warmup\u001b[38;5;241m=\u001b[39mnum_warmup, num_samples\u001b[38;5;241m=\u001b[39mnum_samples, num_chains\u001b[38;5;241m=\u001b[39m\u001b[38;5;241m1\u001b[39m, jit_model_args\u001b[38;5;241m=\u001b[39m\u001b[38;5;28;01mTrue\u001b[39;00m, progress_bar\u001b[38;5;241m=\u001b[39m\u001b[38;5;28;01mTrue\u001b[39;00m)\n\u001b[1;32m     19\u001b[0m \u001b[38;5;66;03m# Run the sampler over thswwe entire dataset\u001b[39;00m\n\u001b[1;32m     20\u001b[0m \u001b[38;5;66;03m#mcmc.run(rng_key, apr_mag_g, apr_mag_g_err, k_gg, apr_mag_r, apr_mag_r_err, k_rr, d,z, 22.5, init_params=init_params)\u001b[39;00m\n\u001b[0;32m---> 21\u001b[0m \u001b[43mmcmc\u001b[49m\u001b[38;5;241;43m.\u001b[39;49m\u001b[43mrun\u001b[49m\u001b[43m(\u001b[49m\u001b[43mrng_key\u001b[49m\u001b[43m,\u001b[49m\u001b[43m \u001b[49m\u001b[38;5;241;43m2.3\u001b[39;49m\u001b[43m,\u001b[49m\u001b[38;5;241;43m2.301\u001b[39;49m\u001b[43m,\u001b[49m\u001b[43mapr_mag_r\u001b[49m\u001b[43m,\u001b[49m\u001b[43mk_rr\u001b[49m\u001b[43m,\u001b[49m\u001b[43md_desi\u001b[49m\u001b[43m,\u001b[49m\u001b[43mapr_mag_r_err\u001b[49m\u001b[43m)\u001b[49m\n\u001b[1;32m     22\u001b[0m \u001b[38;5;66;03m# Get samples\u001b[39;00m\n\u001b[1;32m     23\u001b[0m samples \u001b[38;5;241m=\u001b[39m mcmc\u001b[38;5;241m.\u001b[39mget_samples()\n",
      "File \u001b[0;32m~/.local/perlmutter/pytorch2.0.1/lib/python3.9/site-packages/numpyro/infer/mcmc.py:644\u001b[0m, in \u001b[0;36mMCMC.run\u001b[0;34m(self, rng_key, extra_fields, init_params, *args, **kwargs)\u001b[0m\n\u001b[1;32m    642\u001b[0m map_args \u001b[38;5;241m=\u001b[39m (rng_key, init_state, init_params)\n\u001b[1;32m    643\u001b[0m \u001b[38;5;28;01mif\u001b[39;00m \u001b[38;5;28mself\u001b[39m\u001b[38;5;241m.\u001b[39mnum_chains \u001b[38;5;241m==\u001b[39m \u001b[38;5;241m1\u001b[39m:\n\u001b[0;32m--> 644\u001b[0m     states_flat, last_state \u001b[38;5;241m=\u001b[39m \u001b[43mpartial_map_fn\u001b[49m\u001b[43m(\u001b[49m\u001b[43mmap_args\u001b[49m\u001b[43m)\u001b[49m\n\u001b[1;32m    645\u001b[0m     states \u001b[38;5;241m=\u001b[39m tree_map(\u001b[38;5;28;01mlambda\u001b[39;00m x: x[jnp\u001b[38;5;241m.\u001b[39mnewaxis, \u001b[38;5;241m.\u001b[39m\u001b[38;5;241m.\u001b[39m\u001b[38;5;241m.\u001b[39m], states_flat)\n\u001b[1;32m    646\u001b[0m \u001b[38;5;28;01melse\u001b[39;00m:\n",
      "File \u001b[0;32m~/.local/perlmutter/pytorch2.0.1/lib/python3.9/site-packages/numpyro/infer/mcmc.py:426\u001b[0m, in \u001b[0;36mMCMC._single_chain_mcmc\u001b[0;34m(self, init, args, kwargs, collect_fields)\u001b[0m\n\u001b[1;32m    424\u001b[0m \u001b[38;5;66;03m# Check if _sample_fn is None, then we need to initialize the sampler.\u001b[39;00m\n\u001b[1;32m    425\u001b[0m \u001b[38;5;28;01mif\u001b[39;00m init_state \u001b[38;5;129;01mis\u001b[39;00m \u001b[38;5;28;01mNone\u001b[39;00m \u001b[38;5;129;01mor\u001b[39;00m (\u001b[38;5;28mgetattr\u001b[39m(\u001b[38;5;28mself\u001b[39m\u001b[38;5;241m.\u001b[39msampler, \u001b[38;5;124m\"\u001b[39m\u001b[38;5;124m_sample_fn\u001b[39m\u001b[38;5;124m\"\u001b[39m, \u001b[38;5;28;01mNone\u001b[39;00m) \u001b[38;5;129;01mis\u001b[39;00m \u001b[38;5;28;01mNone\u001b[39;00m):\n\u001b[0;32m--> 426\u001b[0m     new_init_state \u001b[38;5;241m=\u001b[39m \u001b[38;5;28;43mself\u001b[39;49m\u001b[38;5;241;43m.\u001b[39;49m\u001b[43msampler\u001b[49m\u001b[38;5;241;43m.\u001b[39;49m\u001b[43minit\u001b[49m\u001b[43m(\u001b[49m\n\u001b[1;32m    427\u001b[0m \u001b[43m        \u001b[49m\u001b[43mrng_key\u001b[49m\u001b[43m,\u001b[49m\n\u001b[1;32m    428\u001b[0m \u001b[43m        \u001b[49m\u001b[38;5;28;43mself\u001b[39;49m\u001b[38;5;241;43m.\u001b[39;49m\u001b[43mnum_warmup\u001b[49m\u001b[43m,\u001b[49m\n\u001b[1;32m    429\u001b[0m \u001b[43m        \u001b[49m\u001b[43minit_params\u001b[49m\u001b[43m,\u001b[49m\n\u001b[1;32m    430\u001b[0m \u001b[43m        \u001b[49m\u001b[43mmodel_args\u001b[49m\u001b[38;5;241;43m=\u001b[39;49m\u001b[43margs\u001b[49m\u001b[43m,\u001b[49m\n\u001b[1;32m    431\u001b[0m \u001b[43m        \u001b[49m\u001b[43mmodel_kwargs\u001b[49m\u001b[38;5;241;43m=\u001b[39;49m\u001b[43mkwargs\u001b[49m\u001b[43m,\u001b[49m\n\u001b[1;32m    432\u001b[0m \u001b[43m    \u001b[49m\u001b[43m)\u001b[49m\n\u001b[1;32m    433\u001b[0m     init_state \u001b[38;5;241m=\u001b[39m new_init_state \u001b[38;5;28;01mif\u001b[39;00m init_state \u001b[38;5;129;01mis\u001b[39;00m \u001b[38;5;28;01mNone\u001b[39;00m \u001b[38;5;28;01melse\u001b[39;00m init_state\n\u001b[1;32m    434\u001b[0m sample_fn, postprocess_fn \u001b[38;5;241m=\u001b[39m \u001b[38;5;28mself\u001b[39m\u001b[38;5;241m.\u001b[39m_get_cached_fns()\n",
      "File \u001b[0;32m~/.local/perlmutter/pytorch2.0.1/lib/python3.9/site-packages/numpyro/infer/hmc.py:743\u001b[0m, in \u001b[0;36mHMC.init\u001b[0;34m(self, rng_key, num_warmup, init_params, model_args, model_kwargs)\u001b[0m\n\u001b[1;32m    738\u001b[0m \u001b[38;5;66;03m# vectorized\u001b[39;00m\n\u001b[1;32m    739\u001b[0m \u001b[38;5;28;01melse\u001b[39;00m:\n\u001b[1;32m    740\u001b[0m     rng_key, rng_key_init_model \u001b[38;5;241m=\u001b[39m jnp\u001b[38;5;241m.\u001b[39mswapaxes(\n\u001b[1;32m    741\u001b[0m         vmap(random\u001b[38;5;241m.\u001b[39msplit)(rng_key), \u001b[38;5;241m0\u001b[39m, \u001b[38;5;241m1\u001b[39m\n\u001b[1;32m    742\u001b[0m     )\n\u001b[0;32m--> 743\u001b[0m init_params \u001b[38;5;241m=\u001b[39m \u001b[38;5;28;43mself\u001b[39;49m\u001b[38;5;241;43m.\u001b[39;49m\u001b[43m_init_state\u001b[49m\u001b[43m(\u001b[49m\n\u001b[1;32m    744\u001b[0m \u001b[43m    \u001b[49m\u001b[43mrng_key_init_model\u001b[49m\u001b[43m,\u001b[49m\u001b[43m \u001b[49m\u001b[43mmodel_args\u001b[49m\u001b[43m,\u001b[49m\u001b[43m \u001b[49m\u001b[43mmodel_kwargs\u001b[49m\u001b[43m,\u001b[49m\u001b[43m \u001b[49m\u001b[43minit_params\u001b[49m\n\u001b[1;32m    745\u001b[0m \u001b[43m\u001b[49m\u001b[43m)\u001b[49m\n\u001b[1;32m    746\u001b[0m \u001b[38;5;28;01mif\u001b[39;00m \u001b[38;5;28mself\u001b[39m\u001b[38;5;241m.\u001b[39m_potential_fn \u001b[38;5;129;01mand\u001b[39;00m init_params \u001b[38;5;129;01mis\u001b[39;00m \u001b[38;5;28;01mNone\u001b[39;00m:\n\u001b[1;32m    747\u001b[0m     \u001b[38;5;28;01mraise\u001b[39;00m \u001b[38;5;167;01mValueError\u001b[39;00m(\n\u001b[1;32m    748\u001b[0m         \u001b[38;5;124m\"\u001b[39m\u001b[38;5;124mValid value of `init_params` must be provided with\u001b[39m\u001b[38;5;124m\"\u001b[39m \u001b[38;5;124m\"\u001b[39m\u001b[38;5;124m `potential_fn`.\u001b[39m\u001b[38;5;124m\"\u001b[39m\n\u001b[1;32m    749\u001b[0m     )\n",
      "File \u001b[0;32m~/.local/perlmutter/pytorch2.0.1/lib/python3.9/site-packages/numpyro/infer/hmc.py:687\u001b[0m, in \u001b[0;36mHMC._init_state\u001b[0;34m(self, rng_key, model_args, model_kwargs, init_params)\u001b[0m\n\u001b[1;32m    680\u001b[0m \u001b[38;5;28;01mdef\u001b[39;00m \u001b[38;5;21m_init_state\u001b[39m(\u001b[38;5;28mself\u001b[39m, rng_key, model_args, model_kwargs, init_params):\n\u001b[1;32m    681\u001b[0m     \u001b[38;5;28;01mif\u001b[39;00m \u001b[38;5;28mself\u001b[39m\u001b[38;5;241m.\u001b[39m_model \u001b[38;5;129;01mis\u001b[39;00m \u001b[38;5;129;01mnot\u001b[39;00m \u001b[38;5;28;01mNone\u001b[39;00m:\n\u001b[1;32m    682\u001b[0m         (\n\u001b[1;32m    683\u001b[0m             new_init_params,\n\u001b[1;32m    684\u001b[0m             potential_fn,\n\u001b[1;32m    685\u001b[0m             postprocess_fn,\n\u001b[1;32m    686\u001b[0m             model_trace,\n\u001b[0;32m--> 687\u001b[0m         ) \u001b[38;5;241m=\u001b[39m \u001b[43minitialize_model\u001b[49m\u001b[43m(\u001b[49m\n\u001b[1;32m    688\u001b[0m \u001b[43m            \u001b[49m\u001b[43mrng_key\u001b[49m\u001b[43m,\u001b[49m\n\u001b[1;32m    689\u001b[0m \u001b[43m            \u001b[49m\u001b[38;5;28;43mself\u001b[39;49m\u001b[38;5;241;43m.\u001b[39;49m\u001b[43m_model\u001b[49m\u001b[43m,\u001b[49m\n\u001b[1;32m    690\u001b[0m \u001b[43m            \u001b[49m\u001b[43mdynamic_args\u001b[49m\u001b[38;5;241;43m=\u001b[39;49m\u001b[38;5;28;43;01mTrue\u001b[39;49;00m\u001b[43m,\u001b[49m\n\u001b[1;32m    691\u001b[0m \u001b[43m            \u001b[49m\u001b[43minit_strategy\u001b[49m\u001b[38;5;241;43m=\u001b[39;49m\u001b[38;5;28;43mself\u001b[39;49m\u001b[38;5;241;43m.\u001b[39;49m\u001b[43m_init_strategy\u001b[49m\u001b[43m,\u001b[49m\n\u001b[1;32m    692\u001b[0m \u001b[43m            \u001b[49m\u001b[43mmodel_args\u001b[49m\u001b[38;5;241;43m=\u001b[39;49m\u001b[43mmodel_args\u001b[49m\u001b[43m,\u001b[49m\n\u001b[1;32m    693\u001b[0m \u001b[43m            \u001b[49m\u001b[43mmodel_kwargs\u001b[49m\u001b[38;5;241;43m=\u001b[39;49m\u001b[43mmodel_kwargs\u001b[49m\u001b[43m,\u001b[49m\n\u001b[1;32m    694\u001b[0m \u001b[43m            \u001b[49m\u001b[43mforward_mode_differentiation\u001b[49m\u001b[38;5;241;43m=\u001b[39;49m\u001b[38;5;28;43mself\u001b[39;49m\u001b[38;5;241;43m.\u001b[39;49m\u001b[43m_forward_mode_differentiation\u001b[49m\u001b[43m,\u001b[49m\n\u001b[1;32m    695\u001b[0m \u001b[43m        \u001b[49m\u001b[43m)\u001b[49m\n\u001b[1;32m    696\u001b[0m         \u001b[38;5;28;01mif\u001b[39;00m init_params \u001b[38;5;129;01mis\u001b[39;00m \u001b[38;5;28;01mNone\u001b[39;00m:\n\u001b[1;32m    697\u001b[0m             init_params \u001b[38;5;241m=\u001b[39m new_init_params\n",
      "File \u001b[0;32m~/.local/perlmutter/pytorch2.0.1/lib/python3.9/site-packages/numpyro/infer/util.py:656\u001b[0m, in \u001b[0;36minitialize_model\u001b[0;34m(rng_key, model, init_strategy, dynamic_args, model_args, model_kwargs, forward_mode_differentiation, validate_grad)\u001b[0m\n\u001b[1;32m    646\u001b[0m model_kwargs \u001b[38;5;241m=\u001b[39m {} \u001b[38;5;28;01mif\u001b[39;00m model_kwargs \u001b[38;5;129;01mis\u001b[39;00m \u001b[38;5;28;01mNone\u001b[39;00m \u001b[38;5;28;01melse\u001b[39;00m model_kwargs\n\u001b[1;32m    647\u001b[0m substituted_model \u001b[38;5;241m=\u001b[39m substitute(\n\u001b[1;32m    648\u001b[0m     seed(model, rng_key \u001b[38;5;28;01mif\u001b[39;00m is_prng_key(rng_key) \u001b[38;5;28;01melse\u001b[39;00m rng_key[\u001b[38;5;241m0\u001b[39m]),\n\u001b[1;32m    649\u001b[0m     substitute_fn\u001b[38;5;241m=\u001b[39minit_strategy,\n\u001b[1;32m    650\u001b[0m )\n\u001b[1;32m    651\u001b[0m (\n\u001b[1;32m    652\u001b[0m     inv_transforms,\n\u001b[1;32m    653\u001b[0m     replay_model,\n\u001b[1;32m    654\u001b[0m     has_enumerate_support,\n\u001b[1;32m    655\u001b[0m     model_trace,\n\u001b[0;32m--> 656\u001b[0m ) \u001b[38;5;241m=\u001b[39m \u001b[43m_get_model_transforms\u001b[49m\u001b[43m(\u001b[49m\u001b[43msubstituted_model\u001b[49m\u001b[43m,\u001b[49m\u001b[43m \u001b[49m\u001b[43mmodel_args\u001b[49m\u001b[43m,\u001b[49m\u001b[43m \u001b[49m\u001b[43mmodel_kwargs\u001b[49m\u001b[43m)\u001b[49m\n\u001b[1;32m    657\u001b[0m \u001b[38;5;66;03m# substitute param sites from model_trace to model so\u001b[39;00m\n\u001b[1;32m    658\u001b[0m \u001b[38;5;66;03m# we don't need to generate again parameters of `numpyro.module`\u001b[39;00m\n\u001b[1;32m    659\u001b[0m model \u001b[38;5;241m=\u001b[39m substitute(\n\u001b[1;32m    660\u001b[0m     model,\n\u001b[1;32m    661\u001b[0m     data\u001b[38;5;241m=\u001b[39m{\n\u001b[0;32m   (...)\u001b[0m\n\u001b[1;32m    665\u001b[0m     },\n\u001b[1;32m    666\u001b[0m )\n",
      "File \u001b[0;32m~/.local/perlmutter/pytorch2.0.1/lib/python3.9/site-packages/numpyro/infer/util.py:450\u001b[0m, in \u001b[0;36m_get_model_transforms\u001b[0;34m(model, model_args, model_kwargs)\u001b[0m\n\u001b[1;32m    448\u001b[0m \u001b[38;5;28;01mdef\u001b[39;00m \u001b[38;5;21m_get_model_transforms\u001b[39m(model, model_args\u001b[38;5;241m=\u001b[39m(), model_kwargs\u001b[38;5;241m=\u001b[39m\u001b[38;5;28;01mNone\u001b[39;00m):\n\u001b[1;32m    449\u001b[0m     model_kwargs \u001b[38;5;241m=\u001b[39m {} \u001b[38;5;28;01mif\u001b[39;00m model_kwargs \u001b[38;5;129;01mis\u001b[39;00m \u001b[38;5;28;01mNone\u001b[39;00m \u001b[38;5;28;01melse\u001b[39;00m model_kwargs\n\u001b[0;32m--> 450\u001b[0m     model_trace \u001b[38;5;241m=\u001b[39m \u001b[43mtrace\u001b[49m\u001b[43m(\u001b[49m\u001b[43mmodel\u001b[49m\u001b[43m)\u001b[49m\u001b[38;5;241;43m.\u001b[39;49m\u001b[43mget_trace\u001b[49m\u001b[43m(\u001b[49m\u001b[38;5;241;43m*\u001b[39;49m\u001b[43mmodel_args\u001b[49m\u001b[43m,\u001b[49m\u001b[43m \u001b[49m\u001b[38;5;241;43m*\u001b[39;49m\u001b[38;5;241;43m*\u001b[39;49m\u001b[43mmodel_kwargs\u001b[49m\u001b[43m)\u001b[49m\n\u001b[1;32m    451\u001b[0m     inv_transforms \u001b[38;5;241m=\u001b[39m {}\n\u001b[1;32m    452\u001b[0m     \u001b[38;5;66;03m# model code may need to be replayed in the presence of deterministic sites\u001b[39;00m\n",
      "File \u001b[0;32m~/.local/perlmutter/pytorch2.0.1/lib/python3.9/site-packages/numpyro/handlers.py:171\u001b[0m, in \u001b[0;36mtrace.get_trace\u001b[0;34m(self, *args, **kwargs)\u001b[0m\n\u001b[1;32m    163\u001b[0m \u001b[38;5;28;01mdef\u001b[39;00m \u001b[38;5;21mget_trace\u001b[39m(\u001b[38;5;28mself\u001b[39m, \u001b[38;5;241m*\u001b[39margs, \u001b[38;5;241m*\u001b[39m\u001b[38;5;241m*\u001b[39mkwargs):\n\u001b[1;32m    164\u001b[0m \u001b[38;5;250m    \u001b[39m\u001b[38;5;124;03m\"\"\"\u001b[39;00m\n\u001b[1;32m    165\u001b[0m \u001b[38;5;124;03m    Run the wrapped callable and return the recorded trace.\u001b[39;00m\n\u001b[1;32m    166\u001b[0m \n\u001b[0;32m   (...)\u001b[0m\n\u001b[1;32m    169\u001b[0m \u001b[38;5;124;03m    :return: `OrderedDict` containing the execution trace.\u001b[39;00m\n\u001b[1;32m    170\u001b[0m \u001b[38;5;124;03m    \"\"\"\u001b[39;00m\n\u001b[0;32m--> 171\u001b[0m     \u001b[38;5;28;43mself\u001b[39;49m\u001b[43m(\u001b[49m\u001b[38;5;241;43m*\u001b[39;49m\u001b[43margs\u001b[49m\u001b[43m,\u001b[49m\u001b[43m \u001b[49m\u001b[38;5;241;43m*\u001b[39;49m\u001b[38;5;241;43m*\u001b[39;49m\u001b[43mkwargs\u001b[49m\u001b[43m)\u001b[49m\n\u001b[1;32m    172\u001b[0m     \u001b[38;5;28;01mreturn\u001b[39;00m \u001b[38;5;28mself\u001b[39m\u001b[38;5;241m.\u001b[39mtrace\n",
      "File \u001b[0;32m~/.local/perlmutter/pytorch2.0.1/lib/python3.9/site-packages/numpyro/primitives.py:105\u001b[0m, in \u001b[0;36mMessenger.__call__\u001b[0;34m(self, *args, **kwargs)\u001b[0m\n\u001b[1;32m    103\u001b[0m     \u001b[38;5;28;01mreturn\u001b[39;00m \u001b[38;5;28mself\u001b[39m\n\u001b[1;32m    104\u001b[0m \u001b[38;5;28;01mwith\u001b[39;00m \u001b[38;5;28mself\u001b[39m:\n\u001b[0;32m--> 105\u001b[0m     \u001b[38;5;28;01mreturn\u001b[39;00m \u001b[38;5;28;43mself\u001b[39;49m\u001b[38;5;241;43m.\u001b[39;49m\u001b[43mfn\u001b[49m\u001b[43m(\u001b[49m\u001b[38;5;241;43m*\u001b[39;49m\u001b[43margs\u001b[49m\u001b[43m,\u001b[49m\u001b[43m \u001b[49m\u001b[38;5;241;43m*\u001b[39;49m\u001b[38;5;241;43m*\u001b[39;49m\u001b[43mkwargs\u001b[49m\u001b[43m)\u001b[49m\n",
      "File \u001b[0;32m~/.local/perlmutter/pytorch2.0.1/lib/python3.9/site-packages/numpyro/primitives.py:105\u001b[0m, in \u001b[0;36mMessenger.__call__\u001b[0;34m(self, *args, **kwargs)\u001b[0m\n\u001b[1;32m    103\u001b[0m     \u001b[38;5;28;01mreturn\u001b[39;00m \u001b[38;5;28mself\u001b[39m\n\u001b[1;32m    104\u001b[0m \u001b[38;5;28;01mwith\u001b[39;00m \u001b[38;5;28mself\u001b[39m:\n\u001b[0;32m--> 105\u001b[0m     \u001b[38;5;28;01mreturn\u001b[39;00m \u001b[38;5;28;43mself\u001b[39;49m\u001b[38;5;241;43m.\u001b[39;49m\u001b[43mfn\u001b[49m\u001b[43m(\u001b[49m\u001b[38;5;241;43m*\u001b[39;49m\u001b[43margs\u001b[49m\u001b[43m,\u001b[49m\u001b[43m \u001b[49m\u001b[38;5;241;43m*\u001b[39;49m\u001b[38;5;241;43m*\u001b[39;49m\u001b[43mkwargs\u001b[49m\u001b[43m)\u001b[49m\n",
      "File \u001b[0;32m~/.local/perlmutter/pytorch2.0.1/lib/python3.9/site-packages/numpyro/primitives.py:105\u001b[0m, in \u001b[0;36mMessenger.__call__\u001b[0;34m(self, *args, **kwargs)\u001b[0m\n\u001b[1;32m    103\u001b[0m     \u001b[38;5;28;01mreturn\u001b[39;00m \u001b[38;5;28mself\u001b[39m\n\u001b[1;32m    104\u001b[0m \u001b[38;5;28;01mwith\u001b[39;00m \u001b[38;5;28mself\u001b[39m:\n\u001b[0;32m--> 105\u001b[0m     \u001b[38;5;28;01mreturn\u001b[39;00m \u001b[38;5;28;43mself\u001b[39;49m\u001b[38;5;241;43m.\u001b[39;49m\u001b[43mfn\u001b[49m\u001b[43m(\u001b[49m\u001b[38;5;241;43m*\u001b[39;49m\u001b[43margs\u001b[49m\u001b[43m,\u001b[49m\u001b[43m \u001b[49m\u001b[38;5;241;43m*\u001b[39;49m\u001b[38;5;241;43m*\u001b[39;49m\u001b[43mkwargs\u001b[49m\u001b[43m)\u001b[49m\n",
      "Cell \u001b[0;32mIn[13], line 16\u001b[0m, in \u001b[0;36mmodel\u001b[0;34m(zmin, zmax, apr_mag, k, mu, apr_mag_err)\u001b[0m\n\u001b[1;32m     12\u001b[0m Lmin \u001b[38;5;241m=\u001b[39m abs_mag_to_L(apr_mag_r\u001b[38;5;241m.\u001b[39mmax()\u001b[38;5;241m-\u001b[39mk\u001b[38;5;241m.\u001b[39mmean()\u001b[38;5;241m-\u001b[39mmu\u001b[38;5;241m.\u001b[39mmean()\u001b[38;5;241m-\u001b[39mx)\u001b[38;5;241m/\u001b[39mL_star\n\u001b[1;32m     14\u001b[0m ln_posterior \u001b[38;5;241m=\u001b[39m fitting\u001b[38;5;241m.\u001b[39mln_posterior(eff,zmin,zmax)\n\u001b[0;32m---> 16\u001b[0m log_likelihood \u001b[38;5;241m=\u001b[39m \u001b[43mln_posterior\u001b[49m\u001b[43m(\u001b[49m\u001b[43mm0\u001b[49m\u001b[43m,\u001b[49m\u001b[43m \u001b[49m\u001b[43mb\u001b[49m\u001b[43m,\u001b[49m\u001b[43m \u001b[49m\u001b[43mx\u001b[49m\u001b[43m,\u001b[49m\u001b[43m \u001b[49m\u001b[43mapr_mag\u001b[49m\u001b[43m,\u001b[49m\u001b[43m \u001b[49m\u001b[43mk\u001b[49m\u001b[43m,\u001b[49m\u001b[43m \u001b[49m\u001b[43mmu\u001b[49m\u001b[43m,\u001b[49m\u001b[43m \u001b[49m\u001b[43mapr_mag_err\u001b[49m\u001b[43m,\u001b[49m\u001b[43mLmin\u001b[49m\u001b[43m)\u001b[49m\n\u001b[1;32m     18\u001b[0m numpyro\u001b[38;5;241m.\u001b[39mfactor(\u001b[38;5;124m\"\u001b[39m\u001b[38;5;124mlog_likelihood\u001b[39m\u001b[38;5;124m\"\u001b[39m,log_likelihood)\n",
      "File \u001b[0;32m/global/u1/z/zhaozhon/DESI-ZTF-2/fitting.py:246\u001b[0m, in \u001b[0;36mln_posterior.__call__\u001b[0;34m(self, m0, b, x, mhat, k, mu, sigma, Lmin)\u001b[0m\n\u001b[1;32m    242\u001b[0m  phi \u001b[38;5;241m=\u001b[39m phi_new(L,\u001b[38;5;28mself\u001b[39m\u001b[38;5;241m.\u001b[39malpha,\u001b[38;5;28mself\u001b[39m\u001b[38;5;241m.\u001b[39mbeta,Lmin)\n\u001b[1;32m    243\u001b[0m  \u001b[38;5;66;03m#integrand = self.eff(mhat)/df*phi\u001b[39;00m\n\u001b[1;32m    244\u001b[0m  \u001b[38;5;66;03m#temp = integrand.prod(axis=1)\u001b[39;00m\n\u001b[1;32m    245\u001b[0m  \u001b[38;5;66;03m#maxtemp = temp.max()\u001b[39;00m\n\u001b[0;32m--> 246\u001b[0m  integral \u001b[38;5;241m=\u001b[39m (\u001b[38;5;28;43mself\u001b[39;49m\u001b[38;5;241;43m.\u001b[39;49m\u001b[43meff\u001b[49m\u001b[43m(\u001b[49m\u001b[43mmhat\u001b[49m\u001b[43m,\u001b[49m\u001b[43mb\u001b[49m\u001b[43m,\u001b[49m\u001b[43mm0\u001b[49m\u001b[43m)\u001b[49m\u001b[38;5;241m/\u001b[39mdf\u001b[38;5;241m*\u001b[39mphi\u001b[38;5;241m*\u001b[39m\u001b[38;5;241m0.4\u001b[39m\u001b[38;5;241m*\u001b[39mjnp\u001b[38;5;241m.\u001b[39mlog(\u001b[38;5;241m10\u001b[39m)\u001b[38;5;241m*\u001b[39mL)\u001b[38;5;241m.\u001b[39mmean(axis\u001b[38;5;241m=\u001b[39m\u001b[38;5;241m0\u001b[39m)\n\u001b[1;32m    247\u001b[0m \u001b[38;5;66;03m#print(f\"first term {(jnp.log(integral)).sum()}\")\u001b[39;00m\n\u001b[1;32m    248\u001b[0m \u001b[38;5;66;03m# print(f\"Poisson term {nquasar*jnp.log(N_obs) - N_obs}\")\u001b[39;00m\n\u001b[1;32m    249\u001b[0m \u001b[38;5;66;03m# print(f\"N_obs {N_obs}\")\u001b[39;00m\n\u001b[1;32m    250\u001b[0m  \u001b[38;5;28;01mreturn\u001b[39;00m (jnp\u001b[38;5;241m.\u001b[39mlog(integral))\u001b[38;5;241m.\u001b[39msum() \u001b[38;5;241m+\u001b[39m nquasar\u001b[38;5;241m*\u001b[39mjnp\u001b[38;5;241m.\u001b[39mlog(N_obs) \u001b[38;5;241m-\u001b[39m N_obs\n",
      "\u001b[0;31mTypeError\u001b[0m: eff() takes 1 positional argument but 3 were given"
     ]
    }
   ],
   "source": [
    "rng_key = random.PRNGKey(0)\n",
    "# Sampler configuration\n",
    "num_warmup, num_samples = 5000, 5000\n",
    "i_start = 0\n",
    "i_end = i_start+1000\n",
    "# Initialize batch parameters for the entire datasetw\n",
    "\n",
    "init_params = {\n",
    "    #'x': 1.70 * jnp.ones((1,)),  \n",
    "    'm0': 18.54 * jnp.ones((1,)),\n",
    "    'b': 0.4 * jnp.ones((1,)),\n",
    "}\n",
    "\n",
    "# Set up the NUTS sampler\n",
    "kernel = NUTS(model, target_accept_prob=0.8)\n",
    "#kernel = HMC(model)\n",
    "mcmc = MCMC(kernel, num_warmup=num_warmup, num_samples=num_samples, num_chains=1, jit_model_args=True, progress_bar=True)\n",
    "\n",
    "# Run the sampler over thswwe entire dataset\n",
    "#mcmc.run(rng_key, apr_mag_g, apr_mag_g_err, k_gg, apr_mag_r, apr_mag_r_err, k_rr, d,z, 22.5, init_params=init_params)\n",
    "mcmc.run(rng_key, 2.3,2.301,apr_mag_r,k_rr,d_desi,apr_mag_r_err)\n",
    "# Get samples\n",
    "samples = mcmc.get_samples()\n",
    "# Optionally, process or save your samples\n",
    "print(samples)"
   ]
  },
  {
   "cell_type": "code",
   "execution_count": null,
   "id": "8e7b23db-a98b-4cc1-a139-d083422cfe49",
   "metadata": {
    "tags": []
   },
   "outputs": [],
   "source": [
    "# Extract the chains and parameters\n",
    "samples = mcmc.get_samples()\n",
    "#x = samples['x']\n",
    "m0 = samples['m0']\n",
    "b = samples['b']\n",
    "\n",
    "# Creating a figure to hold the subplots\n",
    "fig, axs = plt.subplots(2, 2, figsize=(12, 24))  \n",
    "\n",
    "# Helper function to plot histograms and traces\n",
    "def plot_param(ax, data, title):\n",
    "    ax[0].hist(data, bins=100, alpha=0.75, color='blue')\n",
    "    ax[0].set_title(f'Posterior Distribution of {title}')\n",
    "    ax[1].plot(data, color='blue')\n",
    "    ax[1].set_title(f'Trace of {title}')\n",
    "\n",
    "# Plotting each parameter\n",
    "#plot_param(axs[0], x, 'x')\n",
    "plot_param(axs[0], m0, 'm0')\n",
    "#plot_param(axs[2],a,'a')\n",
    "plot_param(axs[1],b,'b')\n",
    "#plot_param(axs[4],c,'c')\n",
    "\n",
    "\n",
    "# Adjust layout to prevent overlap\n",
    "plt.tight_layout()\n",
    "plt.show()"
   ]
  },
  {
   "cell_type": "code",
   "execution_count": null,
   "id": "0610e774-50d1-44e2-bd21-05f94a30265a",
   "metadata": {},
   "outputs": [],
   "source": [
    "import corner\n",
    "# Extract samples for plotting\n",
    "#samples = np.vstack((x, m0)).T\n",
    "samples = np.vstack((m0,b)).T\n",
    "# Create a corner plot\n",
    "fig = corner.corner(samples, labels=['m0','b'], \n",
    "                    show_titles=True,quantiles=[0.16, 0.5, 0.84],\n",
    "                       plot_contours=True, color='blue', title_kwargs={\"fontsize\": 12},title_fmt=\".4f\")\n",
    "\n",
    "fig.suptitle('Corner Plot of Parameters')\n",
    "fig.show()"
   ]
  },
  {
   "cell_type": "code",
   "execution_count": null,
   "id": "72e816a8-4065-41d7-81e5-e1c7621afeaf",
   "metadata": {
    "tags": []
   },
   "outputs": [],
   "source": [
    "# Extract all chains, including warmup steps\n",
    "all_samples = mcmc.get_samples(group_by_chain=True)\n",
    "\n",
    "# Convert JAX arrays to NumPy arrays\n",
    "all_samples = {k: np.array(v.block_until_ready()) for k, v in all_samples.items()}\n",
    "\n",
    "# Number of warmup samples\n",
    "num_warmup = mcmc.num_warmup\n",
    "\n",
    "# Extract the parameter chains\n",
    "x = all_samples['x'].flatten()\n",
    "#m0 = all_samples['m0'].flatten()\n",
    "#b = all_samples['b'].flatten()\n",
    "\n",
    "# Creating a figure to hold the subplots\n",
    "fig, axs = plt.subplots(2, 2, figsize=(12, 24))\n",
    "\n",
    "# Helper function to plot histograms and traces with warmup steps\n",
    "def plot_param(ax, data, title):\n",
    "    warmup_data = data[:num_warmup]\n",
    "    post_warmup_data = data[num_warmup:]\n",
    "    \n",
    "    # Plot histogram of post-warmup samples\n",
    "    ax[0].hist(post_warmup_data, bins=100, alpha=0.75, color='blue')\n",
    "    ax[0].set_title(f'Posterior Distribution of {title}')\n",
    "    \n",
    "    # Plot trace with warmup steps in a different color\n",
    "    ax[1].plot(range(num_warmup), warmup_data, color='red', label='Warmup')\n",
    "    ax[1].plot(range(num_warmup, len(data)), post_warmup_data, color='blue', label='Post-Warmup')\n",
    "    ax[1].set_title(f'Trace of {title}')\n",
    "    ax[1].axvline(x=num_warmup, color='black', linestyle='--', label='End of Warmup')\n",
    "    ax[1].legend()\n",
    "\n",
    "# Plotting each parameter\n",
    "#plot_param(axs[0], x, 'x')\n",
    "plot_param(axs[0], m0, 'm0')\n",
    "#plot_param(axs[2], a, 'a')\n",
    "plot_param(axs[1], b, 'b')\n",
    "\n",
    "# Adjust layout to prevent overlap\n",
    "plt.tight_layout()\n",
    "plt.show()"
   ]
  },
  {
   "cell_type": "code",
   "execution_count": null,
   "id": "35d8b942-576c-41ef-baf0-07deb0fd4d6f",
   "metadata": {},
   "outputs": [],
   "source": []
  }
 ],
 "metadata": {
  "kernelspec": {
   "display_name": "pytorch-2.0.1",
   "language": "python",
   "name": "pytorch-2.0.1"
  },
  "language_info": {
   "codemirror_mode": {
    "name": "ipython",
    "version": 3
   },
   "file_extension": ".py",
   "mimetype": "text/x-python",
   "name": "python",
   "nbconvert_exporter": "python",
   "pygments_lexer": "ipython3",
   "version": "3.9.16"
  }
 },
 "nbformat": 4,
 "nbformat_minor": 5
}
