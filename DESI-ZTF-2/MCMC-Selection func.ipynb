{
 "cells": [
  {
   "cell_type": "code",
   "execution_count": 1,
   "id": "ab11f7bf-19d7-4806-911c-04f111e01405",
   "metadata": {
    "tags": []
   },
   "outputs": [],
   "source": [
    "import numpy as np\n",
    "import numpyro\n",
    "import numpyro.distributions as dist\n",
    "from jax import random\n",
    "from numpyro.infer import MCMC, HMC,NUTS\n",
    "import fitsio\n",
    "import matplotlib as mpl\n",
    "from multiprocessing import Pool\n",
    "from scipy.stats import dirichlet\n",
    "from astropy.table import Table\n",
    "from astropy.io import fits\n",
    "import fitsio\n",
    "from astropy.cosmology import Planck18\n",
    "import jax.numpy as jnp\n",
    "import matplotlib.pyplot as plt\n",
    "from numpyro import handlers \n",
    "from jax import random, jit\n",
    "import jax\n",
    "from fitting import abs_mag_to_L,get_lfpars_shen20,T0,T1,T2,get_lfpars,get_phis,integral,integral_Lmin_Lmax\n",
    "from jax import random, vmap\n",
    "from jax.scipy.stats import norm\n",
    "import numpyro.distributions as dist\n",
    "from jax.scipy.special import gammaln\n",
    "from astropy.cosmology import WMAP9 as cosmo\n",
    "from scipy.optimize import curve_fit, brentq\n",
    "import fitting"
   ]
  },
  {
   "cell_type": "code",
   "execution_count": 2,
   "id": "95f6aa8e-1d54-4e54-b97f-846fef5e04a5",
   "metadata": {
    "tags": []
   },
   "outputs": [
    {
     "name": "stdout",
     "output_type": "stream",
     "text": [
      "(5, 4, 3)\n",
      "\n"
     ]
    }
   ],
   "source": [
    "array = np.array([1,2,3])\n",
    "array1 = np.array([1,2,3,4])\n",
    "array2 = np.array([1,2,3,4,5])\n",
    "array1 = array1[:,None]\n",
    "array2 = array2[:,None,None]\n",
    "print((array+array1+array2).shape)\n",
    "print()"
   ]
  },
  {
   "cell_type": "code",
   "execution_count": 3,
   "id": "d9dbd732-ce13-474e-a8ca-6317a3024a16",
   "metadata": {
    "tags": []
   },
   "outputs": [
    {
     "name": "stdout",
     "output_type": "stream",
     "text": [
      "JAX version: 0.4.30\n",
      "JAX is using CUDA: gpu\n",
      "jax_enable_x64: True\n"
     ]
    }
   ],
   "source": [
    "# Verify the installation\n",
    "print(\"JAX version:\", jax.__version__)\n",
    "print(\"JAX is using CUDA:\", jax.lib.xla_bridge.get_backend().platform)\n",
    "\n",
    "# Enable 64-bit floating point precision\n",
    "jax.config.update(\"jax_enable_x64\", True)\n",
    "\n",
    "# Verify the update\n",
    "print(\"jax_enable_x64:\", jax.config.read(\"jax_enable_x64\"))"
   ]
  },
  {
   "cell_type": "code",
   "execution_count": 4,
   "id": "408dc985-acc8-4c52-80a8-ae37475a1315",
   "metadata": {
    "tags": []
   },
   "outputs": [
    {
     "name": "stdout",
     "output_type": "stream",
     "text": [
      "Available devices: [cuda(id=0)]\n",
      "Computation result: [1. 4. 9.]\n"
     ]
    }
   ],
   "source": [
    "# Check available devices\n",
    "print(\"Available devices:\", jax.devices())\n",
    "\n",
    "# Simple CPU computation test\n",
    "x = jnp.array([1.0, 2.0, 3.0])\n",
    "y = jax.device_put(x, jax.devices('gpu')[0])\n",
    "z = y ** 2\n",
    "print(\"Computation result:\", z)"
   ]
  },
  {
   "cell_type": "code",
   "execution_count": 5,
   "id": "df9e48fa-4f1e-40a1-a545-e33abc865170",
   "metadata": {
    "tags": []
   },
   "outputs": [],
   "source": [
    "k = Table.read('/pscratch/sd/z/zhaozhon/DATASET/DESI-data/k.csv',format='csv')\n",
    "indice = np.isnan(k['k_rr']) | np.isinf(k['k_rr'])\n",
    "#k_gg = k['k_gg'][~indice]\n",
    "k_rr = k['k_rr'][~indice]"
   ]
  },
  {
   "cell_type": "code",
   "execution_count": 6,
   "id": "adf99b5b-c388-44bd-be2b-5f1912857786",
   "metadata": {
    "tags": []
   },
   "outputs": [],
   "source": [
    "file = '/pscratch/sd/z/zhaozhon/DATASET/DESI-data/new_d.fits'\n",
    "d = Table(fitsio.read(file))\n",
    "SEL = np.where((d['Z'] > 2.3) & (d['Z'] < 2.8))[0]\n",
    "TARGETID = d['TARGETID'][SEL][~indice]\n",
    "#apr_mag_g = d['APP_MAG_G'][SEL][~indice]\n",
    "#apr_mag_g_err = d['APP_MAGERR_G'][SEL][~indice]\n",
    "apr_mag_r = d['APP_MAG_R'][SEL][~indice]\n",
    "apr_mag_r_err = d['APP_MAGERR_R'][SEL][~indice]\n",
    "z_desi = d['Z'][SEL][~indice]"
   ]
  },
  {
   "cell_type": "code",
   "execution_count": 7,
   "id": "ad2c5861-3949-4df5-8cff-19fdb83295a3",
   "metadata": {
    "tags": []
   },
   "outputs": [],
   "source": [
    "d_desi = Planck18.distmod(z_desi).value"
   ]
  },
  {
   "cell_type": "code",
   "execution_count": 8,
   "id": "6cff6db2-88f5-445a-9fc6-045e24bb9d9a",
   "metadata": {
    "tags": []
   },
   "outputs": [],
   "source": [
    "TARGETID, indices = np.unique(TARGETID, return_index=True)\n",
    "#apr_mag_g = apr_mag_g[indices]\n",
    "#apr_mag_g_err = apr_mag_g_err[indices]\n",
    "apr_mag_r = apr_mag_r[indices]\n",
    "apr_mag_r_err = apr_mag_r_err[indices]\n",
    "d_desi = d_desi[indices]\n",
    "z_desi = z_desi[indices]\n",
    "#k_gg = k_gg[indices]\n",
    "k_rr = k_rr[indices]"
   ]
  },
  {
   "cell_type": "code",
   "execution_count": 9,
   "id": "e0767f0d-1f37-4077-b1b8-0b932e34ed09",
   "metadata": {
    "tags": []
   },
   "outputs": [
    {
     "name": "stdout",
     "output_type": "stream",
     "text": [
      "42124\n"
     ]
    }
   ],
   "source": [
    "# Assuming z_desi is your redshift array\n",
    "filter_mask = (z_desi > 2.3) & (z_desi < 2.4)\n",
    "\n",
    "# Apply the filter to all arrays\n",
    "TARGETID = TARGETID[filter_mask]\n",
    "#apr_mag_g = apr_mag_g[filter_mask]\n",
    "#apr_mag_g_err = apr_mag_g_err[filter_mask]\n",
    "apr_mag_r = apr_mag_r[filter_mask]\n",
    "apr_mag_r_err = apr_mag_r_err[filter_mask]\n",
    "d_desi = d_desi[filter_mask]\n",
    "z_desi = z_desi[filter_mask]\n",
    "#k_gg = k_gg[filter_mask]\n",
    "k_rr = k_rr[filter_mask]\n",
    "\n",
    "# Recalculate N_obs after filtering\n",
    "N_obs = TARGETID.shape[0]\n",
    "print(N_obs)"
   ]
  },
  {
   "cell_type": "code",
   "execution_count": 10,
   "id": "79c811db-05e9-419a-81c6-39fb31653ff3",
   "metadata": {
    "tags": []
   },
   "outputs": [],
   "source": [
    "#apr_mag_g = apr_mag_g.astype(np.float64)\n",
    "#apr_mag_g_err = apr_mag_g_err.astype(np.float64)\n",
    "#k_gg = k_gg.astype(np.float64)\n",
    "\n",
    "apr_mag_r = apr_mag_r.astype(np.float64)\n",
    "apr_mag_r_err = apr_mag_r_err.astype(np.float64)\n",
    "k_rr = k_rr.astype(np.float64)\n",
    "\n",
    "d_desi = d_desi.astype(np.float64)\n",
    "z_desi = z_desi.astype(np.float64)"
   ]
  },
  {
   "cell_type": "code",
   "execution_count": 11,
   "id": "416dd18f-62a5-4da3-b39d-ddf008dc2381",
   "metadata": {},
   "outputs": [],
   "source": [
    "def eff(m,b,m0):\n",
    "    eff = jnp.where(m < m0, 1,jnp.where(m < 23.1,10**(-b*(m-m0)/2.5),0))\n",
    "    return eff\n",
    "\n",
    "ln_posterior = fitting.ln_posterior(eff)\n",
    "\n",
    "def model(apr_mag, k, mu, apr_mag_err):\n",
    "    x = numpyro.sample('x', dist.Uniform(0,3))\n",
    "    m0 = numpyro.sample('m0', dist.Uniform(-10, 20))\n",
    "    b = numpyro.sample('b', dist.Uniform(-2, 2))\n",
    "    fraction = 0.16\n",
    "    #x = 1.85\n",
    "    #m0 = 18.179295603378442\n",
    "    #b = 0.5461566287177613\n",
    "    #log_likelihood = -(x-5)**2-(m0-2)**2-(b-10)**2\n",
    "    log_likelihood = ln_posterior(m0, b, x, apr_mag, k, mu, apr_mag_err,fraction)\n",
    "    \n",
    "    numpyro.factor(\"log_likelihood\",log_likelihood)"
   ]
  },
  {
   "cell_type": "code",
   "execution_count": null,
   "id": "0f03ab37-934f-4594-89a8-247074966997",
   "metadata": {
    "tags": []
   },
   "outputs": [
    {
     "name": "stdout",
     "output_type": "stream",
     "text": [
      "first term -1398.1757875994497\n",
      "Poisson term 4490.305982123009\n",
      "first term Traced<ConcreteArray(-1398.1757875994497, dtype=float64)>with<JVPTrace(level=2/0)> with\n",
      "  primal = Array(-1398.1757876, dtype=float64)\n",
      "  tangent = Traced<ShapedArray(float64[])>with<JaxprTrace(level=1/0)> with\n",
      "    pval = (ShapedArray(float64[]), None)\n",
      "    recipe = JaxprEqnRecipe(eqn_id=<object object at 0x7f6ea45e98a0>, in_tracers=(Traced<ShapedArray(float64[1000]):JaxprTrace(level=1/0)>,), out_tracer_refs=[<weakref at 0x7f6ea460b130; to 'JaxprTracer' at 0x7f6ea460b090>], out_avals=[ShapedArray(float64[])], primitive=pjit, params={'jaxpr': { lambda ; a:f64[1000]. let b:f64[] = reduce_sum[axes=(0,)] a in (b,) }, 'in_shardings': (UnspecifiedValue,), 'out_shardings': (UnspecifiedValue,), 'in_layouts': (None,), 'out_layouts': (None,), 'resource_env': None, 'donated_invars': (False,), 'name': '_reduce_sum', 'keep_unused': False, 'inline': True}, effects=set(), source_info=SourceInfo(traceback=<jaxlib.xla_extension.Traceback object at 0x2f286400>, name_stack=NameStack(stack=(Transform(name='jvp'),))), ctx=JaxprEqnContext(compute_type=None,threefry_partitionable=False))\n",
      "Poisson term Traced<ConcreteArray(nan, dtype=float64)>with<JVPTrace(level=2/0)> with\n",
      "  primal = Array(nan, dtype=float64)\n",
      "  tangent = Traced<ShapedArray(float64[])>with<JaxprTrace(level=1/0)> with\n",
      "    pval = (ShapedArray(float64[]), None)\n",
      "    recipe = JaxprEqnRecipe(eqn_id=<object object at 0x7f6ea45e99e0>, in_tracers=(Traced<ShapedArray(float64[]):JaxprTrace(level=1/0)>, Traced<ShapedArray(float64[]):JaxprTrace(level=1/0)>), out_tracer_refs=[<weakref at 0x7f6ea460bae0; to 'JaxprTracer' at 0x7f6ea460ba90>], out_avals=[ShapedArray(float64[])], primitive=pjit, params={'jaxpr': { lambda ; a:f64[] b:f64[]. let c:f64[] = sub a b in (c,) }, 'in_shardings': (UnspecifiedValue, UnspecifiedValue), 'out_shardings': (UnspecifiedValue,), 'in_layouts': (None, None), 'out_layouts': (None,), 'resource_env': None, 'donated_invars': (False, False), 'name': 'subtract', 'keep_unused': False, 'inline': True}, effects=set(), source_info=SourceInfo(traceback=<jaxlib.xla_extension.Traceback object at 0x2f55b660>, name_stack=NameStack(stack=(Transform(name='jvp'),))), ctx=JaxprEqnContext(compute_type=None,threefry_partitionable=False))\n",
      "first term Traced<ShapedArray(float64[])>with<JVPTrace(level=3/0)> with\n",
      "  primal = Traced<ShapedArray(float64[])>with<DynamicJaxprTrace(level=1/0)>\n",
      "  tangent = Traced<ShapedArray(float64[])>with<JaxprTrace(level=2/0)> with\n",
      "    pval = (ShapedArray(float64[]), None)\n",
      "    recipe = JaxprEqnRecipe(eqn_id=<object object at 0x7f6e40569460>, in_tracers=(Traced<ShapedArray(float64[1000]):JaxprTrace(level=2/0)>,), out_tracer_refs=[<weakref at 0x7f6e40577bd0; to 'JaxprTracer' at 0x7f6e40577b80>], out_avals=[ShapedArray(float64[])], primitive=pjit, params={'jaxpr': { lambda ; a:f64[1000]. let b:f64[] = reduce_sum[axes=(0,)] a in (b,) }, 'in_shardings': (UnspecifiedValue,), 'out_shardings': (UnspecifiedValue,), 'in_layouts': (None,), 'out_layouts': (None,), 'resource_env': None, 'donated_invars': (False,), 'name': '_reduce_sum', 'keep_unused': False, 'inline': True}, effects=set(), source_info=SourceInfo(traceback=<jaxlib.xla_extension.Traceback object at 0x34eb2dd0>, name_stack=NameStack(stack=(Transform(name='jvp'),))), ctx=JaxprEqnContext(compute_type=None,threefry_partitionable=False))\n",
      "Poisson term Traced<ShapedArray(float64[])>with<JVPTrace(level=3/0)> with\n",
      "  primal = Traced<ShapedArray(float64[])>with<DynamicJaxprTrace(level=1/0)>\n",
      "  tangent = Traced<ShapedArray(float64[])>with<JaxprTrace(level=2/0)> with\n",
      "    pval = (ShapedArray(float64[]), None)\n",
      "    recipe = JaxprEqnRecipe(eqn_id=<object object at 0x7f6e40569660>, in_tracers=(Traced<ShapedArray(float64[]):JaxprTrace(level=2/0)>, Traced<ShapedArray(float64[]):JaxprTrace(level=2/0)>), out_tracer_refs=[<weakref at 0x7f6e405000e0; to 'JaxprTracer' at 0x7f6e40500090>], out_avals=[ShapedArray(float64[])], primitive=pjit, params={'jaxpr': { lambda ; a:f64[] b:f64[]. let c:f64[] = sub a b in (c,) }, 'in_shardings': (UnspecifiedValue, UnspecifiedValue), 'out_shardings': (UnspecifiedValue,), 'in_layouts': (None, None), 'out_layouts': (None,), 'resource_env': None, 'donated_invars': (False, False), 'name': 'subtract', 'keep_unused': False, 'inline': True}, effects=set(), source_info=SourceInfo(traceback=<jaxlib.xla_extension.Traceback object at 0x34b76b10>, name_stack=NameStack(stack=(Transform(name='jvp'),))), ctx=JaxprEqnContext(compute_type=None,threefry_partitionable=False))\n"
     ]
    },
    {
     "name": "stderr",
     "output_type": "stream",
     "text": [
      "  0%|          | 0/60000 [00:00<?, ?it/s]"
     ]
    },
    {
     "name": "stdout",
     "output_type": "stream",
     "text": [
      "first term Traced<ShapedArray(float64[])>with<JVPTrace(level=5/0)> with\n",
      "  primal = Traced<ShapedArray(float64[])>with<DynamicJaxprTrace(level=3/0)>\n",
      "  tangent = Traced<ShapedArray(float64[])>with<JaxprTrace(level=4/0)> with\n",
      "    pval = (ShapedArray(float64[]), None)\n",
      "    recipe = JaxprEqnRecipe(eqn_id=<object object at 0x7f6e184d21e0>, in_tracers=(Traced<ShapedArray(float64[1000]):JaxprTrace(level=4/0)>,), out_tracer_refs=[<weakref at 0x7f6e184d4220; to 'JaxprTracer' at 0x7f6e184d41d0>], out_avals=[ShapedArray(float64[])], primitive=pjit, params={'jaxpr': { lambda ; a:f64[1000]. let b:f64[] = reduce_sum[axes=(0,)] a in (b,) }, 'in_shardings': (UnspecifiedValue,), 'out_shardings': (UnspecifiedValue,), 'in_layouts': (None,), 'out_layouts': (None,), 'resource_env': None, 'donated_invars': (False,), 'name': '_reduce_sum', 'keep_unused': False, 'inline': True}, effects=set(), source_info=SourceInfo(traceback=<jaxlib.xla_extension.Traceback object at 0x37b87300>, name_stack=NameStack(stack=(Transform(name='jvp'),))), ctx=JaxprEqnContext(compute_type=None,threefry_partitionable=False))\n",
      "Poisson term Traced<ShapedArray(float64[])>with<JVPTrace(level=5/0)> with\n",
      "  primal = Traced<ShapedArray(float64[])>with<DynamicJaxprTrace(level=3/0)>\n",
      "  tangent = Traced<ShapedArray(float64[])>with<JaxprTrace(level=4/0)> with\n",
      "    pval = (ShapedArray(float64[]), None)\n",
      "    recipe = JaxprEqnRecipe(eqn_id=<object object at 0x7f6e184d2280>, in_tracers=(Traced<ShapedArray(float64[]):JaxprTrace(level=4/0)>, Traced<ShapedArray(float64[]):JaxprTrace(level=4/0)>), out_tracer_refs=[<weakref at 0x7f6e184d4630; to 'JaxprTracer' at 0x7f6e184d45e0>], out_avals=[ShapedArray(float64[])], primitive=pjit, params={'jaxpr': { lambda ; a:f64[] b:f64[]. let c:f64[] = sub a b in (c,) }, 'in_shardings': (UnspecifiedValue, UnspecifiedValue), 'out_shardings': (UnspecifiedValue,), 'in_layouts': (None, None), 'out_layouts': (None,), 'resource_env': None, 'donated_invars': (False, False), 'name': 'subtract', 'keep_unused': False, 'inline': True}, effects=set(), source_info=SourceInfo(traceback=<jaxlib.xla_extension.Traceback object at 0x38f373e0>, name_stack=NameStack(stack=(Transform(name='jvp'),))), ctx=JaxprEqnContext(compute_type=None,threefry_partitionable=False))\n"
     ]
    },
    {
     "name": "stderr",
     "output_type": "stream",
     "text": [
      "warmup:   0%|          | 42/60000 [00:17<7:46:23,  2.14it/s, 219 steps of size 1.30e-03. acc. prob=0.71] "
     ]
    }
   ],
   "source": [
    "rng_key = random.PRNGKey(0)\n",
    "# Sampler configuration\n",
    "num_warmup, num_samples = 40000, 20000\n",
    "i_start = 0\n",
    "i_end = i_start+1000\n",
    "# Initialize batch parameters for the entire datasetw\n",
    "\n",
    "init_params = {\n",
    "    'x': 1.70 * jnp.ones((1,)),  \n",
    "    'm0': 18.54 * jnp.ones((1,)),\n",
    "    'b': 0.4 * jnp.ones((1,)),\n",
    "}\n",
    "\n",
    "# Set up the NUTS sampler\n",
    "kernel = NUTS(model, target_accept_prob=0.8)\n",
    "#kernel = HMC(model)\n",
    "mcmc = MCMC(kernel, num_warmup=num_warmup, num_samples=num_samples, num_chains=1, jit_model_args=True, progress_bar=True)\n",
    "\n",
    "# Run the sampler over thswwe entire dataset\n",
    "#mcmc.run(rng_key, apr_mag_g, apr_mag_g_err, k_gg, apr_mag_r, apr_mag_r_err, k_rr, d,z, 22.5, init_params=init_params)\n",
    "mcmc.run(rng_key, apr_mag_r[i_start:i_end],k_rr[i_start:i_end],d_desi[i_start:i_end],apr_mag_r_err[i_start:i_end])\n",
    "# Get samples\n",
    "samples = mcmc.get_samples()\n",
    "# Optionally, process or save your samples\n",
    "print(samples)"
   ]
  },
  {
   "cell_type": "code",
   "execution_count": null,
   "id": "8e7b23db-a98b-4cc1-a139-d083422cfe49",
   "metadata": {
    "tags": []
   },
   "outputs": [],
   "source": [
    "# Extract the chains and parameters\n",
    "samples = mcmc.get_samples()\n",
    "x = samples['x']\n",
    "m0 = samples['m0']\n",
    "b = samples['b']\n",
    "c = 10**(b*m0)\n",
    "\n",
    "# Creating a figure to hold the subplots\n",
    "fig, axs = plt.subplots(4, 2, figsize=(12, 24))  \n",
    "\n",
    "# Helper function to plot histograms and traces\n",
    "def plot_param(ax, data, title):\n",
    "    ax[0].hist(data, bins=100, alpha=0.75, color='blue')\n",
    "    ax[0].set_title(f'Posterior Distribution of {title}')\n",
    "    ax[1].plot(data, color='blue')\n",
    "    ax[1].set_title(f'Trace of {title}')\n",
    "\n",
    "# Plotting each parameter\n",
    "plot_param(axs[0], x, 'x')\n",
    "plot_param(axs[1], m0, 'm0')\n",
    "#plot_param(axs[2],a,'a')\n",
    "plot_param(axs[2],b,'b')\n",
    "plot_param(axs[3],c,'c')\n",
    "#plot_param(axs[4],c,'c')\n",
    "\n",
    "\n",
    "# Adjust layout to prevent overlap\n",
    "plt.tight_layout()\n",
    "plt.show()"
   ]
  },
  {
   "cell_type": "code",
   "execution_count": null,
   "id": "0610e774-50d1-44e2-bd21-05f94a30265a",
   "metadata": {},
   "outputs": [],
   "source": [
    "import corner\n",
    "# Extract samples for plotting\n",
    "#samples = np.vstack((x, m0)).T\n",
    "samples = np.vstack((x,m0,c)).T\n",
    "# Create a corner plot\n",
    "fig = corner.corner(samples, labels=['x','m0','c'], \n",
    "                    show_titles=True,quantiles=[0.16, 0.5, 0.84],\n",
    "                       plot_contours=True, color='blue', title_kwargs={\"fontsize\": 12},title_fmt=\".4f\")\n",
    "\n",
    "fig.suptitle('Corner Plot of Parameters')\n",
    "fig.show()"
   ]
  },
  {
   "cell_type": "code",
   "execution_count": null,
   "id": "034e4440-204a-4b5b-ad31-510e898e3e00",
   "metadata": {},
   "outputs": [],
   "source": []
  }
 ],
 "metadata": {
  "kernelspec": {
   "display_name": "pytorch-2.0.1",
   "language": "python",
   "name": "pytorch-2.0.1"
  },
  "language_info": {
   "codemirror_mode": {
    "name": "ipython",
    "version": 3
   },
   "file_extension": ".py",
   "mimetype": "text/x-python",
   "name": "python",
   "nbconvert_exporter": "python",
   "pygments_lexer": "ipython3",
   "version": "3.9.16"
  }
 },
 "nbformat": 4,
 "nbformat_minor": 5
}
