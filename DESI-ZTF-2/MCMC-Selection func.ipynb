{
 "cells": [
  {
   "cell_type": "code",
   "execution_count": 1,
   "id": "ab11f7bf-19d7-4806-911c-04f111e01405",
   "metadata": {
    "tags": []
   },
   "outputs": [],
   "source": [
    "import numpy as np\n",
    "import numpyro\n",
    "from jax import random\n",
    "from numpyro.infer import MCMC, HMC,NUTS\n",
    "import fitsio\n",
    "from multiprocessing import Pool\n",
    "from astropy.table import Table\n",
    "from astropy.io import fits\n",
    "import fitsio\n",
    "import jax.numpy as jnp\n",
    "import matplotlib.pyplot as plt\n",
    "from numpyro import handlers \n",
    "from jax import random, jit\n",
    "import jax\n",
    "import numpyro.distributions as dist\n",
    "import fitting2\n",
    "from astropy.cosmology import Planck18"
   ]
  },
  {
   "cell_type": "code",
   "execution_count": 2,
   "id": "95f6aa8e-1d54-4e54-b97f-846fef5e04a5",
   "metadata": {
    "tags": []
   },
   "outputs": [
    {
     "name": "stdout",
     "output_type": "stream",
     "text": [
      "(5, 4, 3)\n",
      "\n"
     ]
    }
   ],
   "source": [
    "array = np.array([1,2,3])\n",
    "array1 = np.array([1,2,3,4])\n",
    "array2 = np.array([1,2,3,4,5])\n",
    "array1 = array1[:,None]\n",
    "array2 = array2[:,None,None]\n",
    "print((array+array1+array2).shape)\n",
    "print()"
   ]
  },
  {
   "cell_type": "code",
   "execution_count": 3,
   "id": "d9dbd732-ce13-474e-a8ca-6317a3024a16",
   "metadata": {
    "tags": []
   },
   "outputs": [
    {
     "name": "stdout",
     "output_type": "stream",
     "text": [
      "JAX version: 0.4.30\n",
      "JAX is using CUDA: gpu\n",
      "jax_enable_x64: True\n"
     ]
    }
   ],
   "source": [
    "# Verify the installation\n",
    "print(\"JAX version:\", jax.__version__)\n",
    "print(\"JAX is using CUDA:\", jax.lib.xla_bridge.get_backend().platform)\n",
    "\n",
    "# Enable 64-bit floating point precision\n",
    "jax.config.update(\"jax_enable_x64\", True)\n",
    "\n",
    "# Verify the update\n",
    "print(\"jax_enable_x64:\", jax.config.read(\"jax_enable_x64\"))"
   ]
  },
  {
   "cell_type": "code",
   "execution_count": 4,
   "id": "408dc985-acc8-4c52-80a8-ae37475a1315",
   "metadata": {
    "tags": []
   },
   "outputs": [
    {
     "name": "stdout",
     "output_type": "stream",
     "text": [
      "Available devices: [cuda(id=0)]\n",
      "Computation result: [1. 4. 9.]\n"
     ]
    }
   ],
   "source": [
    "# Check available devices\n",
    "print(\"Available devices:\", jax.devices())\n",
    "\n",
    "# Simple CPU computation test\n",
    "x = jnp.array([1.0, 2.0, 3.0])\n",
    "y = jax.device_put(x, jax.devices('gpu')[0])\n",
    "z = y ** 2\n",
    "print(\"Computation result:\", z)"
   ]
  },
  {
   "cell_type": "code",
   "execution_count": 5,
   "id": "df9e48fa-4f1e-40a1-a545-e33abc865170",
   "metadata": {
    "tags": []
   },
   "outputs": [],
   "source": [
    "k = Table.read('/pscratch/sd/z/zhaozhon/DATASET/DESI-data/k1.csv',format='csv')\n",
    "indice = np.isnan(k['k_rr']) | np.isinf(k['k_rr'])\n",
    "#k_gg = k['k_gg'][~indice]\n",
    "k_rr = k['k_rr'][~indice]"
   ]
  },
  {
   "cell_type": "code",
   "execution_count": 6,
   "id": "adf99b5b-c388-44bd-be2b-5f1912857786",
   "metadata": {
    "tags": []
   },
   "outputs": [],
   "source": [
    "file = '/pscratch/sd/z/zhaozhon/DATASET/DESI-data/new_d.fits'\n",
    "d = Table(fitsio.read(file))\n",
    "SEL = np.where((d['Z'] > 2.3) & (d['Z'] < 2.8))[0]\n",
    "TARGETID = d['TARGETID'][SEL][~indice]\n",
    "#apr_mag_g = d['APP_MAG_G'][SEL][~indice]\n",
    "#apr_mag_g_err = d['APP_MAGERR_G'][SEL][~indice]\n",
    "apr_mag_r = d['APP_MAG_R'][SEL][~indice]\n",
    "apr_mag_r_err = d['APP_MAGERR_R'][SEL][~indice]\n",
    "z_desi = d['Z'][SEL][~indice]"
   ]
  },
  {
   "cell_type": "code",
   "execution_count": 7,
   "id": "ad2c5861-3949-4df5-8cff-19fdb83295a3",
   "metadata": {
    "tags": []
   },
   "outputs": [],
   "source": [
    "d_desi = Planck18.distmod(z_desi).value"
   ]
  },
  {
   "cell_type": "code",
   "execution_count": 8,
   "id": "6cff6db2-88f5-445a-9fc6-045e24bb9d9a",
   "metadata": {
    "tags": []
   },
   "outputs": [],
   "source": [
    "TARGETID, indices = np.unique(TARGETID, return_index=True)\n",
    "#apr_mag_g = apr_mag_g[indices]\n",
    "#apr_mag_g_err = apr_mag_g_err[indices]\n",
    "apr_mag_r = apr_mag_r[indices]\n",
    "apr_mag_r_err = apr_mag_r_err[indices]\n",
    "d_desi = d_desi[indices]\n",
    "z_desi = z_desi[indices]\n",
    "#k_gg = k_gg[indices]\n",
    "k_rr = k_rr[indices]"
   ]
  },
  {
   "cell_type": "code",
   "execution_count": 9,
   "id": "e0767f0d-1f37-4077-b1b8-0b932e34ed09",
   "metadata": {
    "tags": []
   },
   "outputs": [
    {
     "name": "stdout",
     "output_type": "stream",
     "text": [
      "3726\n"
     ]
    }
   ],
   "source": [
    "# Assuming z_desi is your redshift array\n",
    "filter_mask = (z_desi > 2.3) & (z_desi < 2.4)\n",
    "\n",
    "# Apply the filter to all arrays\n",
    "TARGETID = TARGETID[filter_mask]\n",
    "#apr_mag_g = apr_mag_g[filter_mask]\n",
    "#apr_mag_g_err = apr_mag_g_err[filter_mask]\n",
    "apr_mag_r = apr_mag_r[filter_mask]\n",
    "apr_mag_r_err = apr_mag_r_err[filter_mask]\n",
    "d_desi = d_desi[filter_mask]\n",
    "z_desi = z_desi[filter_mask]\n",
    "#k_gg = k_gg[filter_mask]\n",
    "k_rr = k_rr[filter_mask]\n",
    "\n",
    "# Recalculate N_obs after filtering\n",
    "N_obs = TARGETID.shape[0]\n",
    "print(N_obs)"
   ]
  },
  {
   "cell_type": "code",
   "execution_count": 10,
   "id": "79c811db-05e9-419a-81c6-39fb31653ff3",
   "metadata": {
    "tags": []
   },
   "outputs": [],
   "source": [
    "#apr_mag_g = apr_mag_g.astype(np.float64)\n",
    "#apr_mag_g_err = apr_mag_g_err.astype(np.float64)\n",
    "#k_gg = k_gg.astype(np.float64)\n",
    "\n",
    "apr_mag_r = apr_mag_r.astype(np.float64)\n",
    "apr_mag_r_err = apr_mag_r_err.astype(np.float64)\n",
    "k_rr = k_rr.astype(np.float64)\n",
    "\n",
    "d_desi = d_desi.astype(np.float64)\n",
    "z_desi = z_desi.astype(np.float64)"
   ]
  },
  {
   "cell_type": "code",
   "execution_count": 11,
   "id": "bbf43c4e-6ad1-48e7-a4f4-e1d1c9c3ae74",
   "metadata": {},
   "outputs": [],
   "source": [
    "def eff(m,b,m0):\n",
    "    eff = jnp.where(m < m0, 1,jnp.where(m < 23.1,10**(-b*(m-m0)/2.5),0))\n",
    "    return eff\n",
    "\n",
    "ln_posterior = fitting2.ln_posterior(eff)\n",
    "\n",
    "def model(apr_mag, k, mu):\n",
    "    x = numpyro.sample('x', dist.Uniform(-3,3))\n",
    "    m0 = numpyro.sample('m0', dist.Uniform(0, 20))\n",
    "    b = numpyro.sample('b', dist.Uniform(0, 3))\n",
    "    #fraction = 0.014\n",
    "    #x = 1.85\n",
    "    #m0 = 18.179295603378442\n",
    "    #b = 0.5461566287177613\n",
    "    #log_likelihood = -(x-5)**2-(m0-2)**2-(b-10)**2\n",
    "    log_likelihood = ln_posterior(m0, b, x, apr_mag, k, mu,fraction=0.014)\n",
    "    \n",
    "    numpyro.factor(\"log_likelihood\",log_likelihood)"
   ]
  },
  {
   "cell_type": "code",
   "execution_count": 12,
   "id": "608bce1d-629e-4376-a9a3-769e2c6b16fe",
   "metadata": {},
   "outputs": [
    {
     "name": "stdout",
     "output_type": "stream",
     "text": [
      "1.6619817260284977e-08\n",
      "52909324956.69739\n",
      "6.236393105861324e-05\n",
      "0.014\n",
      "46194.86891540137\n",
      "log posterior: -24737.39375103911\n"
     ]
    }
   ],
   "source": [
    "logp = ln_posterior(10, 0.5, 0, apr_mag_r, k_rr, d_desi,0.014)\n",
    "print(\"log posterior:\", logp)"
   ]
  },
  {
   "cell_type": "code",
   "execution_count": null,
   "id": "f96da5f4-b108-4412-afbe-4656347c1ca3",
   "metadata": {
    "tags": []
   },
   "outputs": [
    {
     "name": "stdout",
     "output_type": "stream",
     "text": [
      "5.035814257653183e-14\n",
      "52909324956.69739\n",
      "2.3874451074944644e-05\n",
      "0.014\n",
      "17684.535261218272\n",
      "Traced<ConcreteArray(5.035814257653182e-14, dtype=float64)>with<JVPTrace(level=2/0)> with\n",
      "  primal = Array(5.03581426e-14, dtype=float64)\n",
      "  tangent = Traced<ShapedArray(float64[])>with<JaxprTrace(level=1/0)> with\n",
      "    pval = (ShapedArray(float64[]), None)\n",
      "    recipe = JaxprEqnRecipe(eqn_id=<object object at 0x7f736c1adb60>, in_tracers=(Traced<ShapedArray(float64[]):JaxprTrace(level=1/0)>, Traced<ShapedArray(float64[], weak_type=True):JaxprTrace(level=1/0)>), out_tracer_refs=[<weakref at 0x7f736c1561d0; to 'JaxprTracer' at 0x7f736c156310>], out_avals=[ShapedArray(float64[])], primitive=pjit, params={'jaxpr': { lambda ; a:f64[] b:f64[]. let\n",
      "    c:f64[] = convert_element_type[new_dtype=float64 weak_type=False] b\n",
      "    d:f64[] = add a c\n",
      "  in (d,) }, 'in_shardings': (UnspecifiedValue, UnspecifiedValue), 'out_shardings': (UnspecifiedValue,), 'in_layouts': (None, None), 'out_layouts': (None,), 'resource_env': None, 'donated_invars': (False, False), 'name': 'add', 'keep_unused': False, 'inline': True}, effects=set(), source_info=SourceInfo(traceback=<jaxlib.xla_extension.Traceback object at 0xec52680>, name_stack=NameStack(stack=(Transform(name='jvp'),))), ctx=JaxprEqnContext(compute_type=None,threefry_partitionable=False))\n",
      "52909324956.69739\n",
      "Traced<ConcreteArray(2.3874451074944644e-05, dtype=float64, weak_type=True)>with<JVPTrace(level=2/0)> with\n",
      "  primal = Array(2.38744511e-05, dtype=float64, weak_type=True)\n",
      "  tangent = Traced<ShapedArray(float64[], weak_type=True)>with<JaxprTrace(level=1/0)> with\n",
      "    pval = (ShapedArray(float64[], weak_type=True), None)\n",
      "    recipe = JaxprEqnRecipe(eqn_id=<object object at 0x7f73ac2d90e0>, in_tracers=(Traced<ShapedArray(float64[], weak_type=True):JaxprTrace(level=1/0)>, Traced<ConcreteArray(5.978941598361594e-06, dtype=float64, weak_type=True):JaxprTrace(level=1/0)>), out_tracer_refs=[<weakref at 0x7f73ac2d77c0; to 'JaxprTracer' at 0x7f73ac2d7590>], out_avals=[ShapedArray(float64[], weak_type=True)], primitive=pjit, params={'jaxpr': { lambda ; a:f64[] b:f64[]. let c:f64[] = mul b a in (c,) }, 'in_shardings': (UnspecifiedValue, UnspecifiedValue), 'out_shardings': (UnspecifiedValue,), 'in_layouts': (None, None), 'out_layouts': (None,), 'resource_env': None, 'donated_invars': (False, False), 'name': 'multiply', 'keep_unused': False, 'inline': True}, effects=set(), source_info=SourceInfo(traceback=<jaxlib.xla_extension.Traceback object at 0xbfdb940>, name_stack=NameStack(stack=(Transform(name='jvp'),))), ctx=JaxprEqnContext(compute_type=None,threefry_partitionable=False))\n",
      "0.014\n",
      "Traced<ConcreteArray(17684.535261218272, dtype=float64)>with<JVPTrace(level=2/0)> with\n",
      "  primal = Array(17684.53526122, dtype=float64)\n",
      "  tangent = Traced<ShapedArray(float64[])>with<JaxprTrace(level=1/0)> with\n",
      "    pval = (ShapedArray(float64[]), None)\n",
      "    recipe = JaxprEqnRecipe(eqn_id=<object object at 0x7f736c080110>, in_tracers=(Traced<ShapedArray(float64[]):JaxprTrace(level=1/0)>, Traced<ConcreteArray(0.014, dtype=float64):JaxprTrace(level=1/0)>), out_tracer_refs=[<weakref at 0x7f736c0797c0; to 'JaxprTracer' at 0x7f736c079590>], out_avals=[ShapedArray(float64[])], primitive=pjit, params={'jaxpr': { lambda ; a:f64[] b:f64[]. let c:f64[] = mul a b in (c,) }, 'in_shardings': (UnspecifiedValue, UnspecifiedValue), 'out_shardings': (UnspecifiedValue,), 'in_layouts': (None, None), 'out_layouts': (None,), 'resource_env': None, 'donated_invars': (False, False), 'name': 'multiply', 'keep_unused': False, 'inline': True}, effects=set(), source_info=SourceInfo(traceback=<jaxlib.xla_extension.Traceback object at 0xfe4a460>, name_stack=NameStack(stack=(Transform(name='jvp'),))), ctx=JaxprEqnContext(compute_type=None,threefry_partitionable=False))\n"
     ]
    },
    {
     "name": "stderr",
     "output_type": "stream",
     "text": [
      "  0%|          | 0/30000 [00:00<?, ?it/s]"
     ]
    },
    {
     "name": "stdout",
     "output_type": "stream",
     "text": [
      "Traced<ShapedArray(float64[])>with<JVPTrace(level=5/0)> with\n",
      "  primal = Traced<ShapedArray(float64[])>with<DynamicJaxprTrace(level=3/0)>\n",
      "  tangent = Traced<ShapedArray(float64[])>with<JaxprTrace(level=4/0)> with\n",
      "    pval = (ShapedArray(float64[]), None)\n",
      "    recipe = JaxprEqnRecipe(eqn_id=<object object at 0x7f730c721590>, in_tracers=(Traced<ShapedArray(float64[]):JaxprTrace(level=4/0)>, Traced<ShapedArray(float64[], weak_type=True):JaxprTrace(level=4/0)>), out_tracer_refs=[<weakref at 0x7f730c719c70; to 'JaxprTracer' at 0x7f730c719c20>], out_avals=[ShapedArray(float64[])], primitive=pjit, params={'jaxpr': { lambda ; a:f64[] b:f64[]. let\n",
      "    c:f64[] = convert_element_type[new_dtype=float64 weak_type=False] b\n",
      "    d:f64[] = add a c\n",
      "  in (d,) }, 'in_shardings': (UnspecifiedValue, UnspecifiedValue), 'out_shardings': (UnspecifiedValue,), 'in_layouts': (None, None), 'out_layouts': (None,), 'resource_env': None, 'donated_invars': (False, False), 'name': 'add', 'keep_unused': False, 'inline': True}, effects=set(), source_info=SourceInfo(traceback=<jaxlib.xla_extension.Traceback object at 0x15d730e0>, name_stack=NameStack(stack=(Transform(name='jvp'),))), ctx=JaxprEqnContext(compute_type=None,threefry_partitionable=False))\n",
      "52909324956.69739\n",
      "Traced<ShapedArray(float64[], weak_type=True)>with<JVPTrace(level=5/0)> with\n",
      "  primal = Traced<ShapedArray(float64[], weak_type=True)>with<DynamicJaxprTrace(level=3/0)>\n",
      "  tangent = Traced<ShapedArray(float64[], weak_type=True)>with<JaxprTrace(level=4/0)> with\n",
      "    pval = (ShapedArray(float64[], weak_type=True), None)\n",
      "    recipe = JaxprEqnRecipe(eqn_id=<object object at 0x7f734c29fac0>, in_tracers=(Traced<ShapedArray(float64[], weak_type=True):JaxprTrace(level=4/0)>, Traced<ConcreteArray(5.978941598361594e-06, dtype=float64, weak_type=True):JaxprTrace(level=4/0)>), out_tracer_refs=[<weakref at 0x7f734c2a9220; to 'JaxprTracer' at 0x7f734c2a9950>], out_avals=[ShapedArray(float64[], weak_type=True)], primitive=pjit, params={'jaxpr': { lambda ; a:f64[] b:f64[]. let c:f64[] = mul b a in (c,) }, 'in_shardings': (UnspecifiedValue, UnspecifiedValue), 'out_shardings': (UnspecifiedValue,), 'in_layouts': (None, None), 'out_layouts': (None,), 'resource_env': None, 'donated_invars': (False, False), 'name': 'multiply', 'keep_unused': False, 'inline': True}, effects=set(), source_info=SourceInfo(traceback=<jaxlib.xla_extension.Traceback object at 0x15a76bc0>, name_stack=NameStack(stack=(Transform(name='jvp'),))), ctx=JaxprEqnContext(compute_type=None,threefry_partitionable=False))\n",
      "0.014\n",
      "Traced<ShapedArray(float64[])>with<JVPTrace(level=5/0)> with\n",
      "  primal = Traced<ShapedArray(float64[])>with<DynamicJaxprTrace(level=3/0)>\n",
      "  tangent = Traced<ShapedArray(float64[])>with<JaxprTrace(level=4/0)> with\n",
      "    pval = (ShapedArray(float64[]), None)\n",
      "    recipe = JaxprEqnRecipe(eqn_id=<object object at 0x7f730c6cd490>, in_tracers=(Traced<ShapedArray(float64[]):JaxprTrace(level=4/0)>, Traced<ShapedArray(float64[]):JaxprTrace(level=4/0)>), out_tracer_refs=[<weakref at 0x7f730c6d7810; to 'JaxprTracer' at 0x7f730c6d77c0>], out_avals=[ShapedArray(float64[])], primitive=pjit, params={'jaxpr': { lambda ; a:f64[] b:f64[]. let c:f64[] = mul a b in (c,) }, 'in_shardings': (UnspecifiedValue, UnspecifiedValue), 'out_shardings': (UnspecifiedValue,), 'in_layouts': (None, None), 'out_layouts': (None,), 'resource_env': None, 'donated_invars': (False, False), 'name': 'multiply', 'keep_unused': False, 'inline': True}, effects=set(), source_info=SourceInfo(traceback=<jaxlib.xla_extension.Traceback object at 0x159e8950>, name_stack=NameStack(stack=(Transform(name='jvp'),))), ctx=JaxprEqnContext(compute_type=None,threefry_partitionable=False))\n"
     ]
    },
    {
     "name": "stderr",
     "output_type": "stream",
     "text": [
      "warmup:  28%|██▊       | 8254/30000 [01:15<04:40, 77.60it/s, 3 steps of size 6.02e-01. acc. prob=0.80]  "
     ]
    }
   ],
   "source": [
    "rng_key = random.PRNGKey(0)\n",
    "# Sampler configuration\n",
    "num_warmup, num_samples = 10000, 20000\n",
    "i_start = 0\n",
    "#i_end = i_start+100\n",
    "# Initialize batch parameters for the entire datasetw\n",
    "\n",
    "init_params = {\n",
    "    'x': 0 * jnp.ones((1,)),  \n",
    "    'm0': 10 * jnp.ones((1,)),\n",
    "    'b': 0.5 * jnp.ones((1,)),\n",
    "}\n",
    "\n",
    "# Set up the NUTS sampler\n",
    "kernel = NUTS(model, target_accept_prob=0.8)\n",
    "#kernel = HMC(model)\n",
    "mcmc = MCMC(kernel, num_warmup=num_warmup, num_samples=num_samples, num_chains=1, jit_model_args=True, progress_bar=True)\n",
    "\n",
    "# Run the sampler over thswwe entire dataset\n",
    "#mcmc.run(rng_key, apr_mag_g, apr_mag_g_err, k_gg, apr_mag_r, apr_mag_r_err, k_rr, d,z, 22.5, init_params=init_params)\n",
    "mcmc.run(rng_key, apr_mag_r,k_rr,d_desi)\n",
    "# Get samples\n",
    "samples = mcmc.get_samples()\n",
    "# Optionally, process or save your samples\n",
    "print(samples)"
   ]
  },
  {
   "cell_type": "code",
   "execution_count": null,
   "id": "8e7b23db-a98b-4cc1-a139-d083422cfe49",
   "metadata": {
    "tags": []
   },
   "outputs": [],
   "source": [
    "# Extract the chains and parameters\n",
    "samples = mcmc.get_samples()\n",
    "x = samples['x']\n",
    "m0 = samples['m0']\n",
    "b = samples['b']\n",
    "#b = np.exp(c)/m0\n",
    "#c = 10**(b*m0)\n",
    "\n",
    "# Creating a figure to hold the subplots\n",
    "fig, axs = plt.subplots(3, 2, figsize=(12, 24))  \n",
    "\n",
    "# Helper function to plot histograms and traces\n",
    "def plot_param(ax, data, title):\n",
    "    ax[0].hist(data, bins=100, alpha=0.75, color='blue')\n",
    "    ax[0].set_title(f'Posterior Distribution of {title}')\n",
    "    ax[1].plot(data, color='blue')\n",
    "    ax[1].set_title(f'Trace of {title}')\n",
    "\n",
    "# Plotting each parameter\n",
    "plot_param(axs[0], x, 'x')\n",
    "plot_param(axs[1], b, 'b')\n",
    "#plot_param(axs[2],a,'a')\n",
    "#plot_param(axs[2],b,'b')\n",
    "#plot_param(axs[2],c,'c')\n",
    "plot_param(axs[2],m0,'m0')\n",
    "\n",
    "\n",
    "# Adjust layout to prevent overlap\n",
    "plt.tight_layout()\n",
    "plt.show()"
   ]
  },
  {
   "cell_type": "code",
   "execution_count": null,
   "id": "0610e774-50d1-44e2-bd21-05f94a30265a",
   "metadata": {},
   "outputs": [],
   "source": [
    "import corner\n",
    "# Extract samples for plotting\n",
    "#samples = np.vstack((x, m0)).T\n",
    "samples = np.vstack((x,b,m0)).T\n",
    "# Create a corner plot\n",
    "fig = corner.corner(samples, labels=['x','b','m0'], \n",
    "                    show_titles=True,quantiles=[0.16, 0.5, 0.84],\n",
    "                       plot_contours=True, color='blue', title_kwargs={\"fontsize\": 12},title_fmt=\".4f\")\n",
    "\n",
    "fig.suptitle('Corner Plot of Parameters')\n",
    "fig.show()"
   ]
  },
  {
   "cell_type": "code",
   "execution_count": null,
   "id": "034e4440-204a-4b5b-ad31-510e898e3e00",
   "metadata": {},
   "outputs": [],
   "source": []
  }
 ],
 "metadata": {
  "kernelspec": {
   "display_name": "pytorch-2.0.1",
   "language": "python",
   "name": "pytorch-2.0.1"
  },
  "language_info": {
   "codemirror_mode": {
    "name": "ipython",
    "version": 3
   },
   "file_extension": ".py",
   "mimetype": "text/x-python",
   "name": "python",
   "nbconvert_exporter": "python",
   "pygments_lexer": "ipython3",
   "version": "3.9.16"
  }
 },
 "nbformat": 4,
 "nbformat_minor": 5
}
