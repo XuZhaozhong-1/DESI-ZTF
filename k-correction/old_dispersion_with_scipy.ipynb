{
 "cells": [
  {
   "cell_type": "code",
   "execution_count": 1,
   "id": "80f9764c-abd1-4cd4-b3e2-2cee4dffc3ae",
   "metadata": {
    "tags": []
   },
   "outputs": [],
   "source": [
    "import pickle as pkl\n",
    "from astropy.cosmology import Planck18\n",
    "import numpy as np\n",
    "from scipy.special import erfc\n",
    "import scipy\n",
    "from tqdm import tqdm\n",
    "import matplotlib.pyplot as plt"
   ]
  },
  {
   "cell_type": "code",
   "execution_count": 2,
   "id": "42625cd7-ada1-406c-9a91-21f7815068d7",
   "metadata": {},
   "outputs": [],
   "source": [
    "with open('train_preprocessed.pkl', 'rb') as f:\n",
    "    data = pkl.load(f)"
   ]
  },
  {
   "cell_type": "code",
   "execution_count": 3,
   "id": "905f3c34-553d-4785-8249-be1bab74ac50",
   "metadata": {
    "tags": []
   },
   "outputs": [],
   "source": [
    "def fluxToMag(f):\n",
    "    m  = -2.5 * np.log10(f)\n",
    "    return m\n",
    "\n",
    "def magToFlux(m):\n",
    "    f = 10**(-0.4*m)\n",
    "    return f\n",
    "\n",
    "def fluxToMagErr(f, df):\n",
    "    dm = np.abs(2.5 / np.log(10) * df / f)\n",
    "\n",
    "    return dm\n",
    "\n",
    "def magToFluxErr(m, dm):\n",
    "    df = np.abs(dm * 10**(-0.4*m) * np.log(10)/-2.5)\n",
    "    return df\n",
    "\n",
    "mag_cache = {}\n",
    "def distmodWithCache(z):\n",
    "    if z not in mag_cache:\n",
    "        dmod = Planck18.distmod(z).value\n",
    "        mag_cache[z] = dmod\n",
    "    return mag_cache[z]\n",
    "\n",
    "def correctMag(m, z):\n",
    "    dmod = distmodWithCache(z)\n",
    "    return m - dmod\n",
    "\n",
    "def correctMagErr(merr, z, zerr):\n",
    "    d_upper = distmodWithCache(z+zerr)\n",
    "    d_lower = distmodWithCache(z-zerr)\n",
    "\n",
    "    d_err = np.abs(d_upper - d_lower)/2\n",
    "    return np.sqrt(merr**2+d_err**2)"
   ]
  },
  {
   "cell_type": "code",
   "execution_count": 4,
   "id": "2f068cf2-e552-4576-8fd7-f678c86c9ead",
   "metadata": {
    "tags": []
   },
   "outputs": [],
   "source": [
    "def weightedMean(data, weights, dates, obs_date, tolerance, flux = True):\n",
    "    #expects: data = array of means, weights = array of std. devs\n",
    "    #computes the weighted mean with weight = 1/var^2\n",
    "\n",
    "    if(flux):\n",
    "        #convert everything to flux first\n",
    "        weights = [magToFluxErr(data[i], weights[i]) for i in range(len(data))]\n",
    "        data = [magToFlux(i) for i in data]\n",
    "    \n",
    "    sum = 0\n",
    "    sum_weights = 0\n",
    "    \n",
    "    for i in range(len(data)):\n",
    "        if(np.abs(dates[i] - obs_date) < tolerance):\n",
    "            weight = 1 / (weights[i]**2)\n",
    "            sum_weights += weight\n",
    "\n",
    "            sum += weight * data[i]\n",
    "\n",
    "    if sum_weights == 0:\n",
    "        return None, None\n",
    "    \n",
    "    wmean = sum/sum_weights\n",
    "    wmean_err = np.sqrt(1/sum_weights)\n",
    "\n",
    "    if(flux):\n",
    "        #convert back to magnitude\n",
    "        wmean_err = fluxToMagErr(wmean, wmean_err)\n",
    "        wmean = fluxToMag(wmean)\n",
    "\n",
    "    return wmean, wmean_err"
   ]
  },
  {
   "cell_type": "code",
   "execution_count": 5,
   "id": "b871814c-1d2e-4042-b2a2-96abcc500623",
   "metadata": {
    "tags": []
   },
   "outputs": [
    {
     "name": "stderr",
     "output_type": "stream",
     "text": [
      "100%|██████████| 1292763/1292763 [07:16<00:00, 2958.44it/s] \n"
     ]
    }
   ],
   "source": [
    "mags = []\n",
    "magerr = []\n",
    "z = []\n",
    "\n",
    "for obs in tqdm(data):\n",
    "    if(len(obs[\"g\"]) > 0):\n",
    "        mag, error = weightedMean(obs[\"g\"][\"mag\"], obs[\"g\"][\"magerr\"], obs[\"g\"][\"hmjd\"], obs[\"desi_date\"], float(\"inf\"))\n",
    "        z.append(obs[\"z\"])\n",
    "        mags.append(mag)\n",
    "        magerr.append(error)"
   ]
  },
  {
   "cell_type": "code",
   "execution_count": 6,
   "id": "2cb6fca5-fd32-4c70-8118-9bbe329de85b",
   "metadata": {
    "tags": []
   },
   "outputs": [],
   "source": [
    "mag_cache = {}\n",
    "def distmodWithCache(z):\n",
    "    if z not in mag_cache:\n",
    "        dmod = Planck18.distmod(z).value\n",
    "        mag_cache[z] = dmod\n",
    "    return mag_cache[z]\n",
    "\n",
    "def make_likelihood_func(mags, magerr, z, mag_lim):\n",
    "    margerr = np.asarray(magerr)\n",
    "    magerr_square = np.square(magerr)\n",
    "    mags = np.asarray(mags)\n",
    "    distmod = np.asarray([distmodWithCache(i) for i in z])\n",
    "    \n",
    "    mlim_diff = np.subtract(mag_lim, mags)\n",
    "    def get_ll(params):\n",
    "        int_disp = params[0]\n",
    "        true_mag =params[1]\n",
    "        \n",
    "        tot_err = np.sqrt(np.add(magerr_square, int_disp**2))\n",
    "        sq_devs = np.square(np.subtract(mags, np.add(distmod, true_mag)))\n",
    "        #calculate the final terms\n",
    "        term1 = np.sum(np.log(np.multiply(2*np.pi, tot_err)))*(1/2)\n",
    "        \n",
    "        term2 = (1/2)*np.sum(np.divide(sq_devs, tot_err))\n",
    "        \n",
    "        term3 = (1/2) * np.divide(mlim_diff, np.sqrt(np.multiply(tot_err, 2)))\n",
    "        term3 = 1* np.sum(np.log(np.multiply(0.5, erfc(term3))))\n",
    "\n",
    "        \n",
    "        return term1+term2+term3\n",
    "    \n",
    "    return get_ll\n",
    "        "
   ]
  },
  {
   "cell_type": "code",
   "execution_count": 7,
   "id": "ba69fa50-7db9-4229-a328-f697ffec0e43",
   "metadata": {
    "tags": []
   },
   "outputs": [],
   "source": [
    "ll_func = make_likelihood_func(mags, magerr, z, 22.5)"
   ]
  },
  {
   "cell_type": "code",
   "execution_count": 8,
   "id": "44104aa2-dd0c-4308-86b4-59112f5661af",
   "metadata": {
    "tags": []
   },
   "outputs": [
    {
     "name": "stdout",
     "output_type": "stream",
     "text": [
      " final_simplex: (array([[  0.8371816 , -24.39450908],\n",
      "       [  0.83717398, -24.3945292 ],\n",
      "       [  0.83716399, -24.3945067 ]]), array([222609.36380091, 222609.3638436 , 222609.3638743 ]))\n",
      "           fun: 222609.36380090564\n",
      "       message: 'Optimization terminated successfully.'\n",
      "          nfev: 299\n",
      "           nit: 151\n",
      "        status: 0\n",
      "       success: True\n",
      "             x: array([  0.8371816 , -24.39450908])\n"
     ]
    }
   ],
   "source": [
    "out = scipy.optimize.minimize(ll_func, x0 = (4, 20), method = 'Nelder-Mead')\n",
    "print(out)"
   ]
  },
  {
   "cell_type": "code",
   "execution_count": 9,
   "id": "a916ffd8-50df-4cd2-b3f9-aa21fd31921e",
   "metadata": {},
   "outputs": [],
   "source": [
    "tid_g=np.load('/global/u1/z/zhaozhon/k-correction/tid_g.npy')\n",
    "k_g=np.load('/global/u1/z/zhaozhon/k-correction/k_g.npy')\n",
    "index_g=np.load('/global/u1/z/zhaozhon/k-correction/index_g.npy')\n",
    "abs_mag_g=np.load('/global/u1/z/zhaozhon/task/abs_mag_g.npy')\n",
    "magerr_g_1=np.load('/global/u1/z/zhaozhon/task/magerr_g_1.npy')\n",
    "z_g = np.load('/global/u1/z/zhaozhon/task/z_g.npy')\n",
    "filtered_abs_mag_g = abs_mag_g[index_g]\n",
    "filtered_magerr_g_1 = magerr_g_1[index_g]\n",
    "filtered_z_g = z_g[index_g]\n",
    "k_abs_mag_g = filtered_abs_mag_g - k_g"
   ]
  },
  {
   "cell_type": "code",
   "execution_count": 10,
   "id": "e3d96424-0ae5-48f0-b2b5-668f5c3b2062",
   "metadata": {
    "tags": []
   },
   "outputs": [
    {
     "data": {
      "image/png": "[encoded data removed]",
      "text/plain": [
       "<Figure size 640x480 with 1 Axes>"
      ]
     },
     "metadata": {},
     "output_type": "display_data"
    }
   ],
   "source": [
    "uncorr_d = round(out.x[0], 4)\n",
    "plt.vlines(out.x[1], 0, 1, linestyles='dashed', label = \"M +/- dispersion\")\n",
    "plt.vlines([out.x[1]- out.x[0], out.x[1]+ out.x[0]], 0, 1, linestyles='dotted')\n",
    "plt.hist(filtered_abs_mag_g, density = True, range = [-36, -20], histtype = \"step\", bins=50, label = f\"z-corrected, disp = {str(uncorr_d)}\")\n",
    "plt.title(\"Plot of g ch\")\n",
    "plt.ylabel(\"Density\")\n",
    "plt.xlabel(\"Magnitude\")\n",
    "plt.legend(loc = \"upper left\")\n",
    "plt.show()"
   ]
  }
 ],
 "metadata": {
  "kernelspec": {
   "display_name": "pytorch-1.13.1",
   "language": "python",
   "name": "pytorch-1.13.1"
  },
  "language_info": {
   "codemirror_mode": {
    "name": "ipython",
    "version": 3
   },
   "file_extension": ".py",
   "mimetype": "text/x-python",
   "name": "python",
   "nbconvert_exporter": "python",
   "pygments_lexer": "ipython3",
   "version": "3.9.15"
  }
 },
 "nbformat": 4,
 "nbformat_minor": 5
}
