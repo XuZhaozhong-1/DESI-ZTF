{
 "cells": [
  {
   "cell_type": "code",
   "execution_count": 1,
   "id": "180cab31-8376-4682-b782-4dc56c17514b",
   "metadata": {
    "tags": []
   },
   "outputs": [],
   "source": [
    "import numpy as np\n",
    "file_path = '/global/u1/z/zhaozhon/k-correction/Bandpass/Palomar_ZTF.i.dat'\n",
    "\n",
    "# Initialize two empty lists to store wavelengths and values separately\n",
    "wavelengths = []\n",
    "values = []\n",
    "\n",
    "# Open the file and read the lines\n",
    "with open(file_path, 'r') as file:\n",
    "    lines = file.readlines()\n",
    "\n",
    "# Process the lines as needed\n",
    "for line in lines:\n",
    "    # Split the line into parts, for example, by space\n",
    "    parts = line.strip().split(' ')\n",
    "    # Append the wavelength and value to their respective lists\n",
    "    if len(parts) == 2:  # Ensure that there are exactly two parts\n",
    "        wavelengths.append(float(parts[0]))\n",
    "        values.append(float(parts[1]))\n",
    "\n",
    "# Combine the two lists\n",
    "g_band_bandpass = [wavelengths, values]\n",
    "g_band_bandpass = np.array(g_band_bandpass)\n",
    "mask = g_band_bandpass[1, :] > 0.5\n",
    "bp_g = g_band_bandpass[:, mask]"
   ]
  },
  {
   "cell_type": "raw",
   "id": "ff5b65ec-4831-4be0-a558-af6b32bdae72",
   "metadata": {
    "tags": []
   },
   "source": [
    "np.save('/global/u1/z/zhaozhon/k-correction/Bandpass/bp_i',bp_g)"
   ]
  },
  {
   "cell_type": "code",
   "execution_count": 3,
   "id": "08c3992d-84a2-4f1c-bbea-eb8c1c07c741",
   "metadata": {
    "tags": []
   },
   "outputs": [
    {
     "name": "stdout",
     "output_type": "stream",
     "text": [
      "[[7.22200000e+03 7.22400000e+03 7.22600000e+03 ... 8.48200000e+03\n",
      "  8.48400000e+03 8.48600000e+03]\n",
      " [5.13193982e-01 5.28871336e-01 5.44538207e-01 ... 5.03475355e-01\n",
      "  5.02256780e-01 5.01039601e-01]]\n"
     ]
    }
   ],
   "source": [
    "print(bp_g)"
   ]
  },
  {
   "cell_type": "code",
   "execution_count": null,
   "id": "b4e1fe29-f256-44e2-99ba-3da6c7063604",
   "metadata": {},
   "outputs": [],
   "source": []
  }
 ],
 "metadata": {
  "kernelspec": {
   "display_name": "NERSC Python",
   "language": "python",
   "name": "python3"
  },
  "language_info": {
   "codemirror_mode": {
    "name": "ipython",
    "version": 3
   },
   "file_extension": ".py",
   "mimetype": "text/x-python",
   "name": "python",
   "nbconvert_exporter": "python",
   "pygments_lexer": "ipython3",
   "version": "3.11.7"
  }
 },
 "nbformat": 4,
 "nbformat_minor": 5
}
